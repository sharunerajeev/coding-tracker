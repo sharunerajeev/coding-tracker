{
 "cells": [
  {
   "cell_type": "markdown",
   "id": "0e24c0f1",
   "metadata": {},
   "source": [
    "# 📅 Date: DD-MM-YYYY\n",
    "\n",
    "## 🔍 Focus Area\n",
    "- (e.g., Bit Manipulation, Trees, REST API)\n",
    "\n",
    "## ✅ Tasks Completed\n",
    "- [ ] Problem 1: <Name> ([Link](#))\n",
    "- [ ] Project Work: <Module or Task Name>\n",
    "- [ ] Tutorial Followed: <Link or Title>\n",
    "\n",
    "## 💡 Key Learnings\n",
    "- Bullet key points here.\n",
    "  - Use sub-bullets for code tricks or insights\n",
    "- Keep it short and skimmable\n",
    "\n",
    "## 🧠 Challenges & Debugging\n",
    "- What did you struggle with?\n",
    "- How did you figure it out?\n",
    "\n",
    "## 📚 Resources\n",
    "\n",
    "| Topic | Description | Link |\n",
    "|-------|-------------|------|\n",
    "| XOR Trick | Used in LC 136 | [LeetCode](https://leetcode.com/problems/single-number) |\n",
    "\n",
    "## 🧪 Code Experiments\n",
    "<details>\n",
    "<summary>Click to expand</summary>\n",
    "\n",
    "```python\n",
    "# Sample Python code block\n",
    "def example():\n",
    "    pass\n",
    "```\n",
    "\n",
    "</details>\n",
    "\n",
    "## 🔁 To Revisit\n",
    "- [ ] Re-do LC 136 without hints\n",
    "- [ ] Debug JS async example again\n"
   ]
  }
 ],
 "metadata": {
  "language_info": {
   "name": "python"
  }
 },
 "nbformat": 4,
 "nbformat_minor": 5
}
