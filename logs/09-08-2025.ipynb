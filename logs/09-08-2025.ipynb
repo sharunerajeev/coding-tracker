{
 "cells": [
  {
   "cell_type": "markdown",
   "id": "46f7ef01",
   "metadata": {},
   "source": [
    "# 📅 Date: 09-08-2025"
   ]
  },
  {
   "cell_type": "markdown",
   "id": "910780d1",
   "metadata": {},
   "source": [
    "## 🔍 Focus Area\n",
    "- Arithemetic Modulus, GCD"
   ]
  },
  {
   "cell_type": "markdown",
   "id": "a1405d8f",
   "metadata": {},
   "source": [
    "## ✅ Tasks Completed\n",
    "- Problem 1: Implement Power Function ([Link](https://www.scaler.com/academy/mentee-dashboard/class/387809/assignment/problems/201))\n",
    "- Problem 2: <Name> ([Link](#))\n",
    "- Problem 3: Pair Sum divisible by M ([Link](https://www.scaler.com/academy/mentee-dashboard/class/387809/assignment/problems/4110?navref=cl_tt_nv))\n",
    "- Problem 4: A, B and Modulo ([Link](https://www.scaler.com/academy/mentee-dashboard/class/387809/homework/problems/5840?navref=cl_tt_lst_sl/))\n",
    "- Problem 5: A, B and Modulo ([Link](https://www.scaler.com/academy/mentee-dashboard/class/387809/homework/problems/5840?navref=cl_tt_lst_sl/))\n",
    "- Problem 6: A, B and Modulo ([Link](https://www.scaler.com/academy/mentee-dashboard/class/387809/homework/problems/5840?navref=cl_tt_lst_sl/))"
   ]
  },
  {
   "cell_type": "markdown",
   "id": "ea484d2a",
   "metadata": {},
   "source": [
    "## 🧪 Code Experiments\n"
   ]
  },
  {
   "cell_type": "markdown",
   "id": "82fbb59d",
   "metadata": {},
   "source": [
    "### Problem 1: Implement Power Function\n",
    "Implement pow(A, B) % C.\n",
    "In other words, given A, B and C, Find (AB % C).\n",
    "Note: The remainders on division cannot be negative. In other words, make sure the answer you return is non-negative."
   ]
  },
  {
   "cell_type": "code",
   "execution_count": null,
   "id": "01c4ebaa",
   "metadata": {},
   "outputs": [
    {
     "data": {
      "text/plain": [
       "59384096"
      ]
     },
     "execution_count": 5,
     "metadata": {},
     "output_type": "execute_result"
    }
   ],
   "source": [
    "# Do not write code to include libraries, main() function or accept any input from the console.\n",
    "# Initialization code is already written and hidden from you. Do not write code for it again.\n",
    "class Solution:\n",
    "    # @param A : integer\n",
    "    # @param B : integer\n",
    "    # @param C : integer\n",
    "    # @return an integer\n",
    "    def pow(self, A, B, C):\n",
    "        if A == 0:\n",
    "            return 0\n",
    "        if B == 0:\n",
    "            return 1\n",
    "        half_pow = self.pow(A, B // 2, C)\n",
    "        if B % 2:\n",
    "            return half_pow * half_pow % C\n",
    "        else:\n",
    "            return ((half_pow * half_pow) % C) * A % C\n",
    "\n",
    "\n",
    "Solution().pow(71045970, 41535484, 64735492)"
   ]
  },
  {
   "cell_type": "markdown",
   "id": "cdf265ff",
   "metadata": {},
   "source": [
    "### Problem 2: <Name>\n",
    "Given 2 non-negative integers A and B, find gcd(A, B)\n",
    "\n",
    "GCD of 2 integers A and B is defined as the greatest integer 'g' such that 'g' is a divisor of both A and B. Both A and B fit in a 32 bit signed integer.\n",
    "\n",
    "Note: DO NOT USE LIBRARY FUNCTIONS."
   ]
  },
  {
   "cell_type": "code",
   "execution_count": 6,
   "id": "462cf27b",
   "metadata": {},
   "outputs": [
    {
     "data": {
      "text/plain": [
       "2"
      ]
     },
     "execution_count": 6,
     "metadata": {},
     "output_type": "execute_result"
    }
   ],
   "source": [
    "class Solution:\n",
    "    # @param A : integer\n",
    "    # @param B : integer\n",
    "    # @return an integer\n",
    "    def gcd(self, A, B):\n",
    "        if B == 0:\n",
    "            return A\n",
    "        return self.gcd(B, A % B)\n",
    "\n",
    "\n",
    "Solution().gcd(4, 6)"
   ]
  },
  {
   "cell_type": "markdown",
   "id": "18228b9b",
   "metadata": {},
   "source": [
    "### Problem 3: Pair Sum divisible by M\n",
    "Given an array of integers A and an integer B, find and return the number of pairs in A whose sum is divisible by B.\n",
    "\n",
    "Since the answer may be large, return the answer modulo (109 + 7).\n",
    "\n",
    "Note: Ensure to handle integer overflow when performing the calculations."
   ]
  },
  {
   "cell_type": "code",
   "execution_count": null,
   "id": "52e6282c",
   "metadata": {},
   "outputs": [
    {
     "data": {
      "text/plain": [
       "1"
      ]
     },
     "execution_count": 10,
     "metadata": {},
     "output_type": "execute_result"
    }
   ],
   "source": [
    "# Paste your solution here\n",
    "class Solution:\n",
    "    # @param A : integer\n",
    "    def solve(self, A, B):\n",
    "        n = len(A)\n",
    "        freq = [0] * B\n",
    "        cnt = 0\n",
    "        for i in range(n):\n",
    "            x = A[i] % B\n",
    "            y = B - x\n",
    "            if y == B:\n",
    "                y = 0\n",
    "            cnt += freq[y]\n",
    "            freq[x] += 1\n",
    "        return cnt % (pow(10, 9) + 7)\n",
    "\n",
    "Solution().solve([5, 17, 100, 11], 28)"
   ]
  },
  {
   "cell_type": "markdown",
   "id": "abe68bf1",
   "metadata": {},
   "source": [
    "### Problem 4: A, B and Modulo\n",
    "Given two integers A and B, find the greatest possible positive integer M, such that A % M = B % M."
   ]
  },
  {
   "cell_type": "code",
   "execution_count": 1,
   "id": "d574bb26",
   "metadata": {},
   "outputs": [
    {
     "data": {
      "text/plain": [
       "5"
      ]
     },
     "execution_count": 1,
     "metadata": {},
     "output_type": "execute_result"
    }
   ],
   "source": [
    "# Paste your solution here\n",
    "class Solution:\n",
    "    # @param A : integer\n",
    "    def solve(self, A, B):\n",
    "        return abs(A - B)\n",
    "\n",
    "\n",
    "Solution().solve(5, 10)"
   ]
  },
  {
   "cell_type": "markdown",
   "id": "decc0650",
   "metadata": {},
   "source": [
    "### Problem 5: Largest Coprime Divisor\n",
    "You are given two positive numbers A and B . You need to find the maximum valued integer X such that:\n",
    "- X divides A i.e. A % X = 0\n",
    "- X and B are co-prime i.e. gcd(X, B) = 1\n"
   ]
  },
  {
   "cell_type": "code",
   "execution_count": 2,
   "id": "b95f0f56",
   "metadata": {},
   "outputs": [
    {
     "data": {
      "text/plain": [
       "5"
      ]
     },
     "execution_count": 2,
     "metadata": {},
     "output_type": "execute_result"
    }
   ],
   "source": [
    "# Paste your solution here\n",
    "class Solution:\n",
    "    def gcd(self, A, B):\n",
    "        if B == 0:\n",
    "            return A\n",
    "        return self.gcd(B, A % B)\n",
    "\n",
    "    # @param A : integer\n",
    "    def solve(self, A, X):\n",
    "        g = self.gcd(A, X)\n",
    "        while g != 1:\n",
    "            A //= g\n",
    "            g = self.gcd(A, X)\n",
    "        return A\n",
    "\n",
    "\n",
    "Solution().solve(30, 12)"
   ]
  },
  {
   "cell_type": "markdown",
   "id": "ae059339",
   "metadata": {},
   "source": [
    "### Problem 6: Mod Sum\n",
    "Given an array of integers A, calculate the sum of A [ i ] % A [ j ] for all possible i, j pairs. Return sum % (109 + 7) as an output.\n"
   ]
  },
  {
   "cell_type": "code",
   "execution_count": 8,
   "id": "55cb3d08",
   "metadata": {},
   "outputs": [
    {
     "data": {
      "text/plain": [
       "61"
      ]
     },
     "execution_count": 8,
     "metadata": {},
     "output_type": "execute_result"
    }
   ],
   "source": [
    "# Paste your solution here\n",
    "class Solution:\n",
    "    # @param A : integer\n",
    "    def solve(self, A):\n",
    "        MOD = pow(10, 9) + 7\n",
    "        A.sort()\n",
    "        freq = {}\n",
    "        for i in A:\n",
    "            if i in freq:\n",
    "                freq[i] += 1\n",
    "            else:\n",
    "                freq[i] = 1\n",
    "        total_sum = 0\n",
    "        for i in freq:\n",
    "            for j in freq:\n",
    "                total_sum += (i % j) * freq[i] * freq[j]\n",
    "                total_sum %= MOD\n",
    "        return total_sum\n",
    "\n",
    "\n",
    "Solution().solve([17, 100, 11])"
   ]
  },
  {
   "cell_type": "markdown",
   "id": "b1baa0b0",
   "metadata": {},
   "source": [
    "### Problem 7: Delete one\n",
    "Given an integer array A of size N. You have to delete one element such that the GCD(Greatest common divisor) of the remaining array is maximum.Find the maximum value of GCD.\n"
   ]
  },
  {
   "cell_type": "code",
   "execution_count": 11,
   "id": "72c60c79",
   "metadata": {},
   "outputs": [
    {
     "data": {
      "text/plain": [
       "6"
      ]
     },
     "execution_count": 11,
     "metadata": {},
     "output_type": "execute_result"
    }
   ],
   "source": [
    "# Paste your solution here\n",
    "class Solution:\n",
    "    def gcd(self, A, B):\n",
    "        if B == 0:\n",
    "            return A\n",
    "        return self.gcd(B, A % B)\n",
    "\n",
    "    # @param A : integer\n",
    "    def solve(self, A):\n",
    "        n = len(A)\n",
    "\n",
    "        prefixGCD = [0] * n\n",
    "        prefixGCD[0] = A[0]\n",
    "        for i in range(1, n):\n",
    "            prefixGCD[i] = self.gcd(prefixGCD[i - 1], A[i])\n",
    "\n",
    "        suffixGCD = [0] * n\n",
    "        suffixGCD[n - 1] = A[n - 1]\n",
    "        for i in range(n - 2, -1, -1):\n",
    "            suffixGCD[i] = self.gcd(suffixGCD[i + 1], A[i])\n",
    "\n",
    "        maxGCD = 0\n",
    "        for i in range(n):\n",
    "            if i == 0:\n",
    "                gcdVal = suffixGCD[1]\n",
    "            elif i == n - 1:\n",
    "                gcdVal = prefixGCD[n - 2]\n",
    "            else:\n",
    "                gcdVal = self.gcd(prefixGCD[i - 1], suffixGCD[i + 1])\n",
    "            maxGCD = max(maxGCD, gcdVal)\n",
    "\n",
    "        return maxGCD\n",
    "\n",
    "\n",
    "Solution().solve([12, 15, 18])"
   ]
  },
  {
   "cell_type": "markdown",
   "id": "cf3ef0e0",
   "metadata": {},
   "source": [
    "### Problem 8: Divisor game\n",
    "Scooby has 3 three integers A, B, and C.Scooby calls a positive integer special if it is divisible by B and it is divisible by C. You need to tell the number of special integers less than or equal to A.\n"
   ]
  },
  {
   "cell_type": "code",
   "execution_count": 21,
   "id": "2a24988f",
   "metadata": {},
   "outputs": [
    {
     "data": {
      "text/plain": [
       "1"
      ]
     },
     "execution_count": 21,
     "metadata": {},
     "output_type": "execute_result"
    }
   ],
   "source": [
    "# Paste your solution here\n",
    "class Solution:\n",
    "    def gcd(self, A, B):\n",
    "        if B == 0:\n",
    "            return A\n",
    "        return self.gcd(B, A % B)\n",
    "\n",
    "    def solve(self, A, B, C):\n",
    "        g = self.gcd(B, C)\n",
    "        lcm = (B // g) * C\n",
    "        return A // lcm\n",
    "\n",
    "\n",
    "Solution().solve(6, 1, 4)"
   ]
  }
 ],
 "metadata": {
  "kernelspec": {
   "display_name": "venv (3.13.5)",
   "language": "python",
   "name": "python3"
  },
  "language_info": {
   "codemirror_mode": {
    "name": "ipython",
    "version": 3
   },
   "file_extension": ".py",
   "mimetype": "text/x-python",
   "name": "python",
   "nbconvert_exporter": "python",
   "pygments_lexer": "ipython3",
   "version": "3.13.5"
  }
 },
 "nbformat": 4,
 "nbformat_minor": 5
}
