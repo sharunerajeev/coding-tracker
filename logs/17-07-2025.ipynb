{
 "cells": [
  {
   "cell_type": "markdown",
   "id": "b5b6bb5e",
   "metadata": {},
   "source": [
    "# 📅 Date: 17-07-2025"
   ]
  },
  {
   "cell_type": "markdown",
   "id": "7489d569",
   "metadata": {},
   "source": [
    "## 🔍 Focus Area\n",
    "- Arrays"
   ]
  },
  {
   "cell_type": "markdown",
   "id": "e0962007",
   "metadata": {},
   "source": [
    "## ✅ Tasks Completed\n",
    "- [ ] Problem 1: <Name> ([4 Sum](https://leetcode.com/problems/4sum/description/?envType=problem-list-v2&envId=array))\n"
   ]
  },
  {
   "cell_type": "markdown",
   "id": "86f63286",
   "metadata": {},
   "source": [
    "## 🧪 Code Experiments"
   ]
  },
  {
   "cell_type": "markdown",
   "id": "c5ee09f0",
   "metadata": {},
   "source": [
    "### Problem 1\n",
    "Given an array nums of n integers, return an array of all the unique quadruplets [nums[a], nums[b], nums[c], nums[d]] such that:\n",
    "\n",
    "0 <= a, b, c, d < n\n",
    "a, b, c, and d are distinct.\n",
    "nums[a] + nums[b] + nums[c] + nums[d] == target\n",
    "You may return the answer in any order."
   ]
  },
  {
   "cell_type": "markdown",
   "id": "d7fae785",
   "metadata": {},
   "source": [
    "**Solution Walkthrough**\n",
    "\n",
    "- Sort the array\n",
    "- Loop through the array i from 0 -> n-3, where n = length of array\n",
    "- Check if i is greater than 0 and if i th element and the i-1 th element is same, then skip the loop\n",
    "    - In the loop, loop again with j from i+1 -> n-2, where n = length of array \n",
    "    - Check if j is greater than i+1 and if j th element and the j-1 th element is same, then skip the loop\n",
    "    - Initialise variables left as j+1, right as n-1\n",
    "    - Use while loop until left < right\n",
    "        - check if the sum of ith element, jth element, left th element and right th element is equal to target, if yes add to result array.\n",
    "        - if the left index and next index is same, increment the left index (duplicate)\n",
    "        - if the right index and previous index is same, decrement the right index (duplicate)\n",
    "        - if sum is less than target, increment left index\n",
    "        - if sum is greater than target, decrement right index\n",
    "- return result array"
   ]
  },
  {
   "cell_type": "code",
   "execution_count": null,
   "id": "08a5d7f7",
   "metadata": {},
   "outputs": [
    {
     "name": "stdout",
     "output_type": "stream",
     "text": [
      "[[-2, -1, 1, 2], [-2, 0, 0, 2], [-1, 0, 0, 1]]\n"
     ]
    }
   ],
   "source": [
    "def four_sum(nums, target):\n",
    "    res = []\n",
    "    nums.sort()\n",
    "    n = len(nums)\n",
    "\n",
    "    for i in range(n - 3):\n",
    "        if i > 0 and nums[i] == nums[i - 1]:\n",
    "            continue\n",
    "        for j in range(i + 1, n - 2):\n",
    "            if j > i + 1 and nums[j] == nums[j - 1]:\n",
    "                continue\n",
    "            left = j + 1\n",
    "            right = n - 1\n",
    "            while left < right:\n",
    "                sum = nums[i] + nums[j] + nums[left] + nums[right]\n",
    "                if sum == target:\n",
    "                    res.append([nums[i], nums[j], nums[left], nums[right]])\n",
    "                    while left < n - 1 and nums[left] == nums[left + 1]:\n",
    "                        left += 1\n",
    "                    while right > j + 1 and nums[right] == nums[right - 1]:\n",
    "                        right -= 1\n",
    "                    left += 1\n",
    "                    right -= 1\n",
    "                elif sum < target:\n",
    "                    left += 1\n",
    "                else:\n",
    "                    right -= 1\n",
    "    return res\n",
    "\n",
    "\n",
    "print(four_sum([1, 0, -1, 0, -2, 2], 0))"
   ]
  }
 ],
 "metadata": {
  "kernelspec": {
   "display_name": "venv",
   "language": "python",
   "name": "python3"
  },
  "language_info": {
   "codemirror_mode": {
    "name": "ipython",
    "version": 3
   },
   "file_extension": ".py",
   "mimetype": "text/x-python",
   "name": "python",
   "nbconvert_exporter": "python",
   "pygments_lexer": "ipython3",
   "version": "3.13.5"
  }
 },
 "nbformat": 4,
 "nbformat_minor": 5
}
