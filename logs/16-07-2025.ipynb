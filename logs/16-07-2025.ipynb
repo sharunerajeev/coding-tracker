{
 "cells": [
  {
   "cell_type": "markdown",
   "id": "062d70ff",
   "metadata": {},
   "source": [
    "# 📅 Date: 16-07-2025"
   ]
  },
  {
   "cell_type": "markdown",
   "id": "df241d4c",
   "metadata": {},
   "source": [
    "## 🔍 Focus Area\n",
    "- Arrays, String, Prefix Sum\n"
   ]
  },
  {
   "cell_type": "markdown",
   "id": "cc438abb",
   "metadata": {},
   "source": [
    "## ✅ Tasks Completed\n",
    "- [ ] Problem 1: <Name> ([Link](#))\n",
    "- [ ] Project Work: <Module or Task Name>\n",
    "- [ ] Tutorial Followed: <Link or Title>\n"
   ]
  },
  {
   "cell_type": "markdown",
   "id": "728c12dc",
   "metadata": {},
   "source": [
    "## 🧪 Code Experiments"
   ]
  },
  {
   "cell_type": "markdown",
   "id": "52e68fc1",
   "metadata": {},
   "source": [
    "### Problem 1\n",
    "\n",
    "Inputs are string, target. Convert the string after the target character to upper case.\n",
    "Example, \"hello world\", o -> \"hellO WORLD\""
   ]
  },
  {
   "cell_type": "code",
   "execution_count": null,
   "id": "8be837e1",
   "metadata": {},
   "outputs": [
    {
     "name": "stdout",
     "output_type": "stream",
     "text": [
      "hellO WORLD\n"
     ]
    }
   ],
   "source": [
    "def solve(A, B):\n",
    "    flag = False\n",
    "    A = list(A)\n",
    "    for i in range(len(A)):\n",
    "        if A[i] == B:\n",
    "            flag = True\n",
    "        if flag and (ord(A[i]) >= 97 and ord(A[i]) <= 122):\n",
    "            A[i] = chr(ord(A[i]) - 32)\n",
    "    return \"\".join(A)\n",
    "\n",
    "\n",
    "print(solve(\"hello World\", \"o\"))"
   ]
  }
 ],
 "metadata": {
  "kernelspec": {
   "display_name": "venv",
   "language": "python",
   "name": "python3"
  },
  "language_info": {
   "codemirror_mode": {
    "name": "ipython",
    "version": 3
   },
   "file_extension": ".py",
   "mimetype": "text/x-python",
   "name": "python",
   "nbconvert_exporter": "python",
   "pygments_lexer": "ipython3",
   "version": "3.13.5"
  }
 },
 "nbformat": 4,
 "nbformat_minor": 5
}
