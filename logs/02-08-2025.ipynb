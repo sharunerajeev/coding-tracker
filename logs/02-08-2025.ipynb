{
 "cells": [
  {
   "cell_type": "markdown",
   "id": "930d1ae8",
   "metadata": {},
   "source": [
    "# 📅 Date: 02-08-2025"
   ]
  },
  {
   "cell_type": "markdown",
   "id": "0c7c6330",
   "metadata": {},
   "source": [
    "## 🔍 Focus Area\n",
    "- Bit Manipulation"
   ]
  },
  {
   "cell_type": "markdown",
   "id": "a3c31f72",
   "metadata": {},
   "source": [
    "## ✅ Tasks Completed\n",
    "- Problem 1: Number of 1 Bits [Link](https://www.scaler.com/academy/mentee-dashboard/class/387827/assignment/problems/192?navref=cl_tt_lst_sl)\n",
    "- Problem 2: Single Number II [Link](https://www.scaler.com/academy/mentee-dashboard/class/387827/assignment/problems/195?navref=cl_tt_nv)\n",
    "- Problem 3: Finding Good Days [Link](https://www.scaler.com/academy/mentee-dashboard/class/387827/assignment/problems/9412?navref=cl_tt_nv)\n",
    "- Problem 4: Subarrays with OR 1 [Link](https://www.scaler.com/academy/mentee-dashboard/class/387827/assignment/problems/169289?navref=cl_tt_nv)\n",
    "- Problem 5: Min XOR value [Link](https://www.scaler.com/academy/mentee-dashboard/class/387827/homework/problems/383?navref=cl_tt_nv)\n",
    "- Problem 6: Strange Equality [Link](https://www.scaler.com/academy/mentee-dashboard/class/387827/homework/problems/936?navref=cl_tt_lst_sl)\n",
    "- Problem 7: SUBARRAY OR [Link](https://www.scaler.com/academy/mentee-dashboard/class/387827/homework/problems/6604?navref=cl_tt_lst_nm)"
   ]
  },
  {
   "cell_type": "markdown",
   "id": "1bdb9278",
   "metadata": {},
   "source": [
    "## 🧪 Code Experiments\n"
   ]
  },
  {
   "cell_type": "markdown",
   "id": "79bde1a6",
   "metadata": {},
   "source": [
    "### Problem 1: Number of 1 Bits\n",
    "Write a function that takes an integer and returns the number of 1 bits present in its binary representation."
   ]
  },
  {
   "cell_type": "code",
   "execution_count": null,
   "id": "92c6451c",
   "metadata": {},
   "outputs": [
    {
     "name": "stdout",
     "output_type": "stream",
     "text": [
      "29\n"
     ]
    }
   ],
   "source": [
    "# Paste your solution here\n",
    "def checkBit(A, i):\n",
    "    return False if (A & (1 << i)) == 0 else True\n",
    "\n",
    "\n",
    "def solution(A):\n",
    "    # Method 1\n",
    "    # cnt = 0\n",
    "    # while A:\n",
    "    #     cnt += A & 1\n",
    "    #     A >>= 1\n",
    "    # return cnt\n",
    "\n",
    "    # Method 2\n",
    "    cnt = 0\n",
    "    for i in range(32):\n",
    "        if checkBit(A, i):\n",
    "            cnt += 1\n",
    "    return cnt\n",
    "\n",
    "\n",
    "print(solution(11))"
   ]
  },
  {
   "cell_type": "markdown",
   "id": "9b350170",
   "metadata": {},
   "source": [
    "### Problem 2: Single Number II\n",
    "Given an array of integers, every element appears thrice except for one, which occurs once.\n",
    "\n",
    "Find that element that does not appear thrice.\n",
    "\n",
    "NOTE: Your algorithm should have a linear runtime complexity.\n",
    "\n",
    "Could you implement it without using extra memory?"
   ]
  },
  {
   "cell_type": "code",
   "execution_count": null,
   "id": "9545634a",
   "metadata": {},
   "outputs": [
    {
     "name": "stdout",
     "output_type": "stream",
     "text": [
      "1\n"
     ]
    }
   ],
   "source": [
    "# Paste your solution here\n",
    "def solution(A):\n",
    "    j = 0\n",
    "    ans = 0\n",
    "    while j < 32:\n",
    "        cnt = 0\n",
    "        for i in range(len(A)):\n",
    "            if A[i] & 1:\n",
    "                cnt += 1\n",
    "            A[i] >>= 1\n",
    "        ans += (cnt % 3) * pow(2, j)\n",
    "        j += 1\n",
    "    return ans\n",
    "\n",
    "\n",
    "print(solution([0, 0, 0, 1]))"
   ]
  },
  {
   "cell_type": "markdown",
   "id": "25d6000d",
   "metadata": {},
   "source": [
    "### Problem 3: Finding Good Days\n",
    "Alex has a cat named Boomer. He decides to put his cat to the test for eternity.\n",
    "\n",
    "He starts on day 1 with one stash of food unit, every next day, the stash doubles.\n",
    "\n",
    "If Boomer is well behaved during a particular day, only then she receives food worth equal to the stash produced on that day.\n",
    "\n",
    "Boomer receives a net worth of A units of food. What is the number of days she received the stash?"
   ]
  },
  {
   "cell_type": "code",
   "execution_count": 24,
   "id": "b362fca0",
   "metadata": {},
   "outputs": [
    {
     "name": "stdout",
     "output_type": "stream",
     "text": [
      "2\n"
     ]
    }
   ],
   "source": [
    "# Paste your solution here\n",
    "def solution(A):\n",
    "    cnt = 0\n",
    "    while A > 0:\n",
    "        A &= A - 1\n",
    "        cnt += 1\n",
    "    return cnt\n",
    "\n",
    "\n",
    "print(solution(5))"
   ]
  },
  {
   "cell_type": "markdown",
   "id": "423a0c72",
   "metadata": {},
   "source": [
    "### Problem 4: Subarrays with OR 1\n",
    "You are given a binary array A of length N where each element is either 0 or 1.\n",
    "\n",
    "Your task is to count the number of subarrays where the bitwise OR of all the elements in the subarray is 1."
   ]
  },
  {
   "cell_type": "code",
   "execution_count": 47,
   "id": "e00a2d46",
   "metadata": {},
   "outputs": [
    {
     "name": "stdout",
     "output_type": "stream",
     "text": [
      "11\n"
     ]
    }
   ],
   "source": [
    "# Paste your solution here\n",
    "def solution(A):\n",
    "    n, zeroCount, zeroSubArrayCount = len(A), 0, 0\n",
    "    for i in range(n):\n",
    "        if A[i] == 0:\n",
    "            zeroCount += 1\n",
    "        else:\n",
    "            zeroSubArrayCount += (zeroCount * (zeroCount + 1)) // 2\n",
    "            zeroCount = 0\n",
    "    zeroSubArrayCount += (zeroCount * (zeroCount + 1)) // 2\n",
    "    return ((n * (n + 1)) // 2) - zeroSubArrayCount\n",
    "\n",
    "\n",
    "print(solution([0, 0, 1, 1, 0]))"
   ]
  },
  {
   "cell_type": "markdown",
   "id": "13af2c3c",
   "metadata": {},
   "source": [
    "### Problem 5: Min XOR value\n",
    "Given an integer array A of N integers, find the pair of integers in the array which have minimum XOR value. Report the minimum XOR value."
   ]
  },
  {
   "cell_type": "code",
   "execution_count": 50,
   "id": "d4244b23",
   "metadata": {},
   "outputs": [
    {
     "name": "stdout",
     "output_type": "stream",
     "text": [
      "2\n"
     ]
    }
   ],
   "source": [
    "# Paste your solution here\n",
    "def solution(A):\n",
    "    # Brute Force Method\n",
    "    # n = len(A)\n",
    "    # minXOR = float(\"inf\")\n",
    "    # for i in range(n):\n",
    "    #     for j in range(i + 1, n):\n",
    "    #         minXOR = min(minXOR, A[i] ^ A[j])\n",
    "    # return minXOR\n",
    "\n",
    "    # Approach 2\n",
    "    n = len(A)\n",
    "    A.sort()\n",
    "    minXOR = float(\"inf\")\n",
    "    for i in range(1, n):\n",
    "        minXOR = min(minXOR, A[i] ^ A[i - 1])\n",
    "    return minXOR\n",
    "\n",
    "\n",
    "print(solution([0, 2, 5, 7]))"
   ]
  },
  {
   "cell_type": "markdown",
   "id": "129bdbd1",
   "metadata": {},
   "source": [
    "### Problem 6: Strange Equality\n",
    "Given an integer A.\n",
    "Two numbers, X and Y, are defined as follows:\n",
    "\n",
    "X is the greatest number smaller than A such that the XOR sum of X and A is the same as the sum of X and A.\n",
    "Y is the smallest number greater than A, such that the XOR sum of Y and A is the same as the sum of Y and A.\n",
    "Find and return the XOR of X and Y.\n",
    "\n",
    "NOTE 1: XOR of X and Y is defined as X ^ Y where '^' is the BITWISE XOR operator.\n",
    "\n",
    "NOTE 2: Your code will be run against a maximum of 100000 Test Cases."
   ]
  },
  {
   "cell_type": "code",
   "execution_count": 62,
   "id": "b29ea688",
   "metadata": {},
   "outputs": [
    {
     "name": "stdout",
     "output_type": "stream",
     "text": [
      "10\n"
     ]
    }
   ],
   "source": [
    "# Paste your solution here\n",
    "def solution(A):\n",
    "    k = 0\n",
    "    temp = A\n",
    "    is_power_of_2 = True\n",
    "    while temp > 1:\n",
    "        if temp & 1:\n",
    "            is_power_of_2 = False\n",
    "            break\n",
    "        temp >>= 1\n",
    "        k += 1\n",
    "\n",
    "    if is_power_of_2 and A > 0:\n",
    "        X = (1 << k) - 1  # 2^k - 1\n",
    "        Y = 1 << (k + 1)  # 2^(k+1)\n",
    "        return X ^ Y\n",
    "\n",
    "    # General case\n",
    "    # Find k such that 2^(k-1) <= A < 2^k\n",
    "    k = 0\n",
    "    temp = A\n",
    "    while temp > 0:\n",
    "        temp >>= 1\n",
    "        k += 1\n",
    "    X = (~A) & ((1 << k) - 1)  # Greatest X < A with X & A = 0\n",
    "    Y = 1\n",
    "    while Y <= A or (Y & A) != 0:\n",
    "        Y <<= 1  # Find smallest power of 2 where Y > A and Y & A = 0\n",
    "    return X ^ Y\n",
    "\n",
    "\n",
    "print(solution(5))"
   ]
  },
  {
   "cell_type": "markdown",
   "id": "0974e378",
   "metadata": {},
   "source": [
    "### Problem 5: SUBARRAY OR\n",
    "You are given an array of integers A of size N.\n",
    "\n",
    "The value of a subarray is defined as BITWISE OR of all elements in it.\n",
    "\n",
    "Return the sum of value of all subarrays of A % 109 + 7."
   ]
  },
  {
   "cell_type": "code",
   "execution_count": 63,
   "id": "9fb68c91",
   "metadata": {},
   "outputs": [
    {
     "name": "stdout",
     "output_type": "stream",
     "text": [
      "71\n"
     ]
    }
   ],
   "source": [
    "# Paste your solution here\n",
    "def solution(A):\n",
    "    n = len(A)\n",
    "    res = 0\n",
    "\n",
    "    for b in range(32):\n",
    "        count_no_set_bit = 0\n",
    "        i = 0\n",
    "\n",
    "        while i < n:\n",
    "            if ((A[i] >> b) & 1) == 0:\n",
    "                j = i\n",
    "                while j < n and ((A[j] >> b) & 1) == 0:\n",
    "                    j += 1\n",
    "                length = j - i\n",
    "                count_no_set_bit += (length * (length + 1)) // 2\n",
    "                i = j\n",
    "            else:\n",
    "                i += 1\n",
    "        total_sub_arrays = (n * (n + 1)) // 2\n",
    "        count_set_bit = total_sub_arrays - count_no_set_bit\n",
    "\n",
    "        res += count_set_bit * (1 << b)\n",
    "        res %= pow(10, 9) + 7\n",
    "\n",
    "    return res\n",
    "\n",
    "\n",
    "print(solution([1, 2, 3, 4, 5]))"
   ]
  }
 ],
 "metadata": {
  "kernelspec": {
   "display_name": "venv (3.13.5)",
   "language": "python",
   "name": "python3"
  },
  "language_info": {
   "codemirror_mode": {
    "name": "ipython",
    "version": 3
   },
   "file_extension": ".py",
   "mimetype": "text/x-python",
   "name": "python",
   "nbconvert_exporter": "python",
   "pygments_lexer": "ipython3",
   "version": "3.13.5"
  }
 },
 "nbformat": 4,
 "nbformat_minor": 5
}
