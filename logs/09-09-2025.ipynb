{
 "cells": [
  {
   "cell_type": "markdown",
   "id": "dc893662",
   "metadata": {},
   "source": [
    "# 📅 Date: 09-09-2025"
   ]
  },
  {
   "cell_type": "markdown",
   "id": "751b6345",
   "metadata": {},
   "source": [
    "## 🔍 Focus Area\n",
    "- Stacks"
   ]
  },
  {
   "cell_type": "markdown",
   "id": "f99832e4",
   "metadata": {},
   "source": [
    "## ✅ Tasks Completed\n",
    "- Problem 1: Evaluate Expression ([Link](https://www.scaler.com/academy/mentee-dashboard/class/387869/assignment/problems/46?navref=cl_tt_lst_sl))\n",
    "- Problem 2: Nearest Smaller Element ([Link](https://www.scaler.com/academy/mentee-dashboard/class/387869/assignment/problems/332))\n",
    "- Problem 3: Passing game ([Link](https://www.scaler.com/academy/mentee-dashboard/class/387869/assignment/problems/1064?navref=cl_tt_nv))"
   ]
  },
  {
   "cell_type": "markdown",
   "id": "c80bf316",
   "metadata": {},
   "source": [
    "## 🧪 Code Experiments\n"
   ]
  },
  {
   "cell_type": "markdown",
   "id": "b4c9a238",
   "metadata": {},
   "source": [
    "### Problem 1: Evaluate Expression\n",
    "An arithmetic expression is given by a string array A of size N. Evaluate the value of an arithmetic expression in Reverse Polish Notation.\n",
    "\n",
    "Valid operators are +, -, *, /. Each string may be an integer or an operator.\n",
    "\n",
    "Note: Reverse Polish Notation is equivalent to Postfix Expression, where operators are written after their operands."
   ]
  },
  {
   "cell_type": "code",
   "execution_count": null,
   "id": "d8bc3267",
   "metadata": {},
   "outputs": [
    {
     "data": {
      "text/plain": [
       "9"
      ]
     },
     "execution_count": 2,
     "metadata": {},
     "output_type": "execute_result"
    }
   ],
   "source": [
    "class Stack:\n",
    "    stack = []\n",
    "    topIndex = -1\n",
    "\n",
    "    def top(self):\n",
    "        return self.stack[self.topIndex]\n",
    "\n",
    "    def push(self, value):\n",
    "        self.stack.append(value)\n",
    "\n",
    "    def pop(self):\n",
    "        return self.stack.pop()\n",
    "\n",
    "    def size(self):\n",
    "        return len(self.stack)\n",
    "\n",
    "\n",
    "class Solution:\n",
    "    # @param A : integer\n",
    "    def solve(self, A):\n",
    "        stack = Stack()\n",
    "        for ch in A:\n",
    "            if ch in [\"+\", \"-\", \"*\", \"/\"]:\n",
    "                A = int(stack.top())\n",
    "                stack.pop()\n",
    "                B = int(stack.top())\n",
    "                stack.pop()\n",
    "                if ch == \"+\":\n",
    "                    stack.push(A + B)\n",
    "                elif ch == \"-\":\n",
    "                    stack.push(B - A)\n",
    "                elif ch == \"*\":\n",
    "                    stack.push(A * B)\n",
    "                else:\n",
    "                    stack.push(B // A)\n",
    "            else:\n",
    "                stack.push(ch)\n",
    "        return stack.top()\n",
    "\n",
    "\n",
    "Solution().solve([\"2\", \"1\", \"+\", \"3\", \"*\"])"
   ]
  },
  {
   "cell_type": "markdown",
   "id": "af57b48a",
   "metadata": {},
   "source": [
    "### Problem 2: Nearest Smaller Element\n",
    "Given an array A, find the nearest smaller element G[i] for every element A[i] in the array such that the element has an index smaller than i.\n",
    "\n",
    "More formally,\n",
    "G[i] for an element A[i] = an element A[j] such that\n",
    "j is maximum possible AND\n",
    "j < i AND\n",
    "A[j] < A[i]\n",
    "Elements for which no smaller element exist, consider the next smaller element as -1."
   ]
  },
  {
   "cell_type": "code",
   "execution_count": null,
   "id": "19fd4629",
   "metadata": {},
   "outputs": [
    {
     "data": {
      "text/plain": [
       "[-1, -1, 38, 38, -1, -1, 6, 6]"
      ]
     },
     "execution_count": 13,
     "metadata": {},
     "output_type": "execute_result"
    }
   ],
   "source": [
    "class Stack:\n",
    "    stack = []\n",
    "    topIndex = -1\n",
    "\n",
    "    def __init__(self) -> None:\n",
    "        self.stack = []\n",
    "        self.topIndex = -1\n",
    "\n",
    "    def top(self):\n",
    "        return self.stack[self.topIndex]\n",
    "\n",
    "    def push(self, value):\n",
    "        self.stack.append(value)\n",
    "\n",
    "    def pop(self):\n",
    "        return self.stack.pop()\n",
    "\n",
    "    def isEmpty(self):\n",
    "        return len(self.stack) == 0\n",
    "\n",
    "\n",
    "class Solution:\n",
    "    # @param A : list of integers\n",
    "    # @return a list of integers\n",
    "    def prevSmaller(self, A):\n",
    "        stack = Stack()\n",
    "        ans = [-1 for _ in range(len(A))]\n",
    "        for i in range(len(A)):\n",
    "            while not stack.isEmpty() and A[stack.top()] >= A[i]:\n",
    "                stack.pop()\n",
    "            if not stack.isEmpty():\n",
    "                ans[i] = A[stack.top()]\n",
    "            stack.push(i)\n",
    "        return ans\n",
    "\n",
    "\n",
    "Solution().prevSmaller([48, 38, 42, 39, 28, 6, 49, 34])"
   ]
  },
  {
   "cell_type": "markdown",
   "id": "7acbf367",
   "metadata": {},
   "source": [
    "### Problem 3: Passing game\n",
    "There is a football event going on in your city. In this event, you are given A passes and players having ids between 1 and 106.\n",
    "\n",
    "Initially, some player with a given id had the ball in his possession. You have to make a program to display the id of the player who possessed the ball after exactly A passes.\n",
    "\n",
    "There are two kinds of passes:\n",
    "\n",
    "1) ID\n",
    "\n",
    "2) 0\n",
    "\n",
    "For the first kind of pass, the player in possession of the ball passes the ball \"forward\" to the player with id = ID.\n",
    "\n",
    "For the second kind of pass, the player in possession of the ball passes the ball back to the player who had forwarded the ball to him.\n",
    "\n",
    "In the second kind of pass \"0\" just means Back Pass.\n",
    "\n",
    "Return the ID of the player who currently possesses the ball."
   ]
  },
  {
   "cell_type": "code",
   "execution_count": null,
   "id": "d9b0f125",
   "metadata": {},
   "outputs": [
    {
     "data": {
      "text/plain": [
       "63"
      ]
     },
     "execution_count": 19,
     "metadata": {},
     "output_type": "execute_result"
    }
   ],
   "source": [
    "class Stack:\n",
    "    stack = []\n",
    "    topIndex = -1\n",
    "\n",
    "    def __init__(self) -> None:\n",
    "        self.stack = []\n",
    "        self.topIndex = -1\n",
    "\n",
    "    def top(self):\n",
    "        return self.stack[self.topIndex]\n",
    "\n",
    "    def push(self, value):\n",
    "        self.stack.append(value)\n",
    "\n",
    "    def pop(self):\n",
    "        return self.stack.pop()\n",
    "\n",
    "    def isEmpty(self):\n",
    "        return len(self.stack) == 0\n",
    "\n",
    "\n",
    "class Solution:\n",
    "    # @param A : integer\n",
    "    def solve(self, A, B, C):\n",
    "        stack = Stack()\n",
    "        stack.push(B)\n",
    "        for i in range(A):\n",
    "            if not stack.isEmpty() and C[i] == 0:\n",
    "                stack.pop()\n",
    "            else:\n",
    "                stack.push(C[i])\n",
    "        return stack.top()\n",
    "\n",
    "\n",
    "Solution().solve(10, 23, [86, 63, 60, 0, 47, 0, 99, 9, 0, 0])"
   ]
  }
 ],
 "metadata": {
  "kernelspec": {
   "display_name": "venv (3.13.5)",
   "language": "python",
   "name": "python3"
  },
  "language_info": {
   "codemirror_mode": {
    "name": "ipython",
    "version": 3
   },
   "file_extension": ".py",
   "mimetype": "text/x-python",
   "name": "python",
   "nbconvert_exporter": "python",
   "pygments_lexer": "ipython3",
   "version": "3.13.7"
  }
 },
 "nbformat": 4,
 "nbformat_minor": 5
}
