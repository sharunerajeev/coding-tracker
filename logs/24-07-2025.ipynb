{
 "cells": [
  {
   "cell_type": "markdown",
   "id": "b7ab9333",
   "metadata": {},
   "source": [
    "# 📅 Date: 24-07-2025"
   ]
  },
  {
   "cell_type": "markdown",
   "id": "9df50094",
   "metadata": {},
   "source": [
    "## 🔍 Focus Area\n",
    "- Kadane's Algorithm, Arrays"
   ]
  },
  {
   "cell_type": "markdown",
   "id": "e566b7af",
   "metadata": {},
   "source": [
    "## ✅ Tasks Completed\n",
    "- [X] Problem 1: Max Sum Contiguous Subarray ([Link](https://www.scaler.com/academy/mentee-dashboard/class/387848/assignment/problems/56/?navref=cl_pb_nv_tb))\n",
    "- [X] Problem 2: Continuous Sum Query ([Link](https://www.scaler.com/academy/mentee-dashboard/class/387848/assignment/problems/440?navref=cl_tt_nv))\n",
    "- [X] Problem 3: Merge Sorted Overlapping Intervals - 2 ([Link](https://www.scaler.com/academy/mentee-dashboard/class/387848/assignment/problems/94008?navref=cl_tt_lst_nm))"
   ]
  },
  {
   "cell_type": "markdown",
   "id": "99d5697c",
   "metadata": {},
   "source": [
    "## 🧪 Code Experiments\n"
   ]
  },
  {
   "cell_type": "markdown",
   "id": "43c6412a",
   "metadata": {},
   "source": [
    "### Problem 1: Max Sum Contiguous Subarray\n",
    "\n",
    "Given an array A of length N, your task is to find the maximum possible sum of any non-empty contiguous subarray.\n",
    "\n",
    "In other words, among all possible subarrays of A, determine the one that yields the highest sum and return that sum."
   ]
  },
  {
   "cell_type": "markdown",
   "id": "3ab16d8c",
   "metadata": {},
   "source": [
    "#### Solution Walkthrough\n",
    "\n",
    "Use Kadane's algorithm"
   ]
  },
  {
   "cell_type": "code",
   "execution_count": 2,
   "id": "29f74717",
   "metadata": {},
   "outputs": [
    {
     "name": "stdout",
     "output_type": "stream",
     "text": [
      "6\n"
     ]
    }
   ],
   "source": [
    "# Paste your solution here\n",
    "def solution(A):\n",
    "    max_sum = cur_sum = A[0]\n",
    "    for i in range(1, len(A)):\n",
    "        if cur_sum < 0:\n",
    "            cur_sum = 0\n",
    "        cur_sum += A[i]\n",
    "        max_sum = max(max_sum, cur_sum)\n",
    "    return max_sum\n",
    "\n",
    "\n",
    "print(solution([-2, 1, -3, 4, -1, 2, 1, -5, 4]))"
   ]
  },
  {
   "cell_type": "markdown",
   "id": "38682a5c",
   "metadata": {},
   "source": [
    "### Problem 2: Continuous Sum Query\n",
    "\n",
    "There are A beggars sitting in a row outside a temple. Each beggar initially has an empty pot. When the devotees come to the temple, they donate some amount of coins to these beggars. Each devotee gives a fixed amount of coin(according to their faith and ability) to some K beggars sitting next to each other.\n",
    "\n",
    "Given the amount P donated by each devotee to the beggars ranging from L to R index, where 1 <= L <= R <= A, find out the final amount of money in each beggar's pot at the end of the day, provided they don't fill their pots by any other means.\n",
    "For ith devotee B[i][0] = L, B[i][1] = R, B[i][2] = P, given by the 2D array B"
   ]
  },
  {
   "cell_type": "code",
   "execution_count": 18,
   "id": "7bcf6675",
   "metadata": {},
   "outputs": [
    {
     "name": "stdout",
     "output_type": "stream",
     "text": [
      "[10, 55, 45, 25, 25]\n"
     ]
    }
   ],
   "source": [
    "# Paste your solution here\n",
    "def solution(A, B):\n",
    "    res = [0] * A\n",
    "    for i in B:\n",
    "        res[i[0] - 1] += i[2]\n",
    "        if i[1] != A:\n",
    "            res[i[1]] -= i[2]\n",
    "    for i in range(1, A):\n",
    "        res[i] += res[i - 1]\n",
    "    return res\n",
    "\n",
    "\n",
    "print(solution(5, [[1, 2, 10], [2, 3, 20], [2, 5, 25]]))"
   ]
  },
  {
   "cell_type": "markdown",
   "id": "9353af99",
   "metadata": {},
   "source": [
    "### Problem 3: Merge Sorted Overlapping Intervals - 2\n",
    "You are given a collection of intervals A in a 2-D array format, where each interval is represented by a pair of integers `[start, end]`. The intervals are sorted based on their start values.\n",
    "\n",
    "Your task is to merge all overlapping intervals and return the resulting set of non-overlapping intervals."
   ]
  },
  {
   "cell_type": "code",
   "execution_count": 23,
   "id": "4784d4b6",
   "metadata": {},
   "outputs": [
    {
     "name": "stdout",
     "output_type": "stream",
     "text": [
      "[[2, 100]]\n"
     ]
    }
   ],
   "source": [
    "# Paste your solution here\n",
    "def solution(A):\n",
    "    currentStart = A[0][0]\n",
    "    currentEnd = A[0][1]\n",
    "    res = []\n",
    "    for i in range(1, len(A)):\n",
    "        if currentStart <= A[i][1] and A[i][0] <= currentEnd:\n",
    "            currentStart = min(currentStart, A[i][0])\n",
    "            currentEnd = max(currentEnd, A[i][1])\n",
    "        else:\n",
    "            res.append([currentStart, currentEnd])\n",
    "            currentStart = A[i][0]\n",
    "            currentEnd = A[i][1]\n",
    "    res.append([currentStart, currentEnd])\n",
    "    return res\n",
    "\n",
    "\n",
    "print(\n",
    "    solution(\n",
    "        [\n",
    "            [2, 37],\n",
    "            [2, 67],\n",
    "            [4, 99],\n",
    "            [5, 28],\n",
    "            [5, 53],\n",
    "            [5, 79],\n",
    "            [5, 91],\n",
    "            [5, 98],\n",
    "            [6, 53],\n",
    "            [7, 37],\n",
    "            [7, 42],\n",
    "            [7, 60],\n",
    "            [7, 70],\n",
    "            [9, 90],\n",
    "            [10, 54],\n",
    "            [13, 47],\n",
    "            [13, 54],\n",
    "            [14, 64],\n",
    "            [14, 100],\n",
    "            [16, 79],\n",
    "            [16, 84],\n",
    "            [17, 57],\n",
    "            [27, 71],\n",
    "            [28, 45],\n",
    "            [30, 49],\n",
    "            [30, 92],\n",
    "            [31, 31],\n",
    "            [31, 95],\n",
    "            [31, 99],\n",
    "            [32, 100],\n",
    "            [34, 44],\n",
    "            [35, 78],\n",
    "            [36, 50],\n",
    "            [36, 57],\n",
    "            [37, 57],\n",
    "            [40, 41],\n",
    "            [42, 62],\n",
    "            [42, 63],\n",
    "            [44, 87],\n",
    "            [46, 70],\n",
    "            [47, 51],\n",
    "            [49, 67],\n",
    "            [50, 64],\n",
    "            [54, 59],\n",
    "            [54, 78],\n",
    "            [54, 93],\n",
    "            [55, 100],\n",
    "            [58, 70],\n",
    "            [59, 75],\n",
    "            [60, 80],\n",
    "            [61, 83],\n",
    "            [62, 85],\n",
    "            [86, 88],\n",
    "            [96, 98],\n",
    "            [100, 100],\n",
    "        ]\n",
    "    )\n",
    ")"
   ]
  },
  {
   "cell_type": "markdown",
   "id": "49054340",
   "metadata": {},
   "source": [
    "### Problem 4: Flip\n",
    "\n",
    "You are given a binary string A(i.e., with characters 0 and 1) consisting of characters A1, A2, ..., AN. In a single operation, you can choose two indices, L and R, such that 1 ≤ L ≤ R ≤ N and flip the characters AL, AL+1, ..., AR. By flipping, we mean changing character 0 to 1 and vice-versa.\n",
    "\n",
    "Your aim is to perform ATMOST one operation such that in the final string number of 1s is maximized.\n",
    "\n",
    "If you don't want to perform the operation, return an empty array. Else, return an array consisting of two elements denoting L and R. If there are multiple solutions, return the lexicographically smallest pair of L and R.\n",
    "\n",
    "NOTE: Pair (a, b) is lexicographically smaller than pair (c, d) if a < c or, if a == c and b < d."
   ]
  },
  {
   "cell_type": "code",
   "execution_count": 70,
   "id": "b07b230a",
   "metadata": {},
   "outputs": [
    {
     "name": "stdout",
     "output_type": "stream",
     "text": [
      "[3, 9]\n"
     ]
    }
   ],
   "source": [
    "def solution(A):\n",
    "    A = list(A)\n",
    "    for i in range(len(A)):\n",
    "        A[i] = 1 if A[i] == '0' else -1\n",
    "\n",
    "    cur_sum = 0\n",
    "    max_sum = 0\n",
    "\n",
    "    best_l = -1\n",
    "    best_r = -1\n",
    "\n",
    "    current_l = 0\n",
    "\n",
    "    for i in range(len(A)):\n",
    "        cur_sum += A[i]\n",
    "\n",
    "        if cur_sum > max_sum:\n",
    "            max_sum = cur_sum\n",
    "            best_l = current_l\n",
    "            best_r = i\n",
    "\n",
    "        if cur_sum < 0:\n",
    "            cur_sum = 0\n",
    "            current_l = i + 1\n",
    "\n",
    "    if max_sum == 0:\n",
    "        return []\n",
    "    else:\n",
    "        return [best_l + 1, best_r + 1]\n",
    "\n",
    "\n",
    "print(solution(\"1101010001\"))"
   ]
  },
  {
   "cell_type": "markdown",
   "id": "80b2307d",
   "metadata": {},
   "source": [
    "### Problem 5:  Merge Intervals - 2\n",
    "\n",
    "You have a set of non-overlapping intervals. You are given a new interval [start, end], insert this new interval into the set of intervals (merge if necessary).\n",
    "\n",
    "You may assume that the intervals were initially sorted according to their start times."
   ]
  },
  {
   "cell_type": "code",
   "execution_count": 37,
   "id": "5eef2fc9",
   "metadata": {},
   "outputs": [
    {
     "name": "stdout",
     "output_type": "stream",
     "text": [
      "[[1, 2], [3, 6], [8, 10]]\n"
     ]
    }
   ],
   "source": [
    "def merge_sort_for_2Dmatrix(matrix):\n",
    "    if len(matrix) <= 1:\n",
    "        return matrix\n",
    "\n",
    "    mid = len(matrix) // 2\n",
    "    left = merge_sort_for_2Dmatrix(matrix[:mid])\n",
    "    right = merge_sort_for_2Dmatrix(matrix[mid:])\n",
    "    return merge_2Dmatrix(left, right)\n",
    "\n",
    "\n",
    "def merge_2Dmatrix(left, right):\n",
    "    merged = []\n",
    "    i = j = 0\n",
    "    while i < len(left) and j < len(right):\n",
    "        if left[i][0] < right[j][0] or (\n",
    "            left[i][0] == right[j][0] and left[i][1] <= right[i][1]\n",
    "        ):\n",
    "            merged.append(left[i])\n",
    "            i += 1\n",
    "        else:\n",
    "            merged.append(right[j])\n",
    "            j += 1\n",
    "    merged.extend(left[i:])\n",
    "    merged.extend(right[j:])\n",
    "    return merged\n",
    "\n",
    "\n",
    "def solution(A, B):\n",
    "    # Merge B to A\n",
    "    A.append(B)\n",
    "    A = merge_sort_for_2Dmatrix(A)\n",
    "    n = len(A)\n",
    "\n",
    "    # Merge overlaps\n",
    "    curStart = A[0][0]\n",
    "    curEnd = A[0][1]\n",
    "    res = []\n",
    "    for i in range(1, n):\n",
    "        if curStart <= A[i][1] and A[i][0] <= curEnd:\n",
    "            curStart = min(curStart, A[i][0])\n",
    "            curEnd = max(curEnd, A[i][1])\n",
    "        else:\n",
    "            res.append([curStart, curEnd])\n",
    "            curStart = A[i][0]\n",
    "            curEnd = A[i][1]\n",
    "    res.append([curStart, curEnd])\n",
    "    return res\n",
    "\n",
    "\n",
    "print(solution([[1, 2], [3, 6]], [8, 10]))"
   ]
  }
 ],
 "metadata": {
  "kernelspec": {
   "display_name": "venv (3.13.5)",
   "language": "python",
   "name": "python3"
  },
  "language_info": {
   "codemirror_mode": {
    "name": "ipython",
    "version": 3
   },
   "file_extension": ".py",
   "mimetype": "text/x-python",
   "name": "python",
   "nbconvert_exporter": "python",
   "pygments_lexer": "ipython3",
   "version": "3.13.5"
  }
 },
 "nbformat": 4,
 "nbformat_minor": 5
}
