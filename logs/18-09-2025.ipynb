{
 "cells": [
  {
   "cell_type": "markdown",
   "id": "8ce5f75f",
   "metadata": {},
   "source": [
    "# 📅 Date: 18-09-2025"
   ]
  },
  {
   "cell_type": "markdown",
   "id": "42b501bd",
   "metadata": {},
   "source": [
    "## 🔍 Focus Area\n",
    "- Trees"
   ]
  },
  {
   "cell_type": "markdown",
   "id": "61d0d97c",
   "metadata": {},
   "source": [
    "## ✅ Tasks Completed\n",
    "- Problem 1: Level Order ([Link](https://www.scaler.com/academy/mentee-dashboard/class/387887/assignment/problems/206?navref=cl_tt_lst_nm))\n",
    "- Problem 2: <Name> ([Link](#))\n",
    "- Problem 3: <Name> ([Link](#))\n",
    "- Problem 4: <Name> ([Link](#))"
   ]
  },
  {
   "cell_type": "markdown",
   "id": "d222c328",
   "metadata": {},
   "source": [
    "## 🧪 Code Experiments\n"
   ]
  },
  {
   "cell_type": "markdown",
   "id": "bd08a69f",
   "metadata": {},
   "source": [
    "### Problem 1: Level Order\n",
    "Given a binary tree, return the level order traversal of its nodes' values. (i.e., from left to right, level by level)."
   ]
  },
  {
   "cell_type": "code",
   "execution_count": null,
   "id": "f3302496",
   "metadata": {},
   "outputs": [],
   "source": [
    "from helpers import tree_helpers\n",
    "from collections import deque\n",
    "\n",
    "\n",
    "class Solution:\n",
    "    # @param A : integer\n",
    "    def solve(self, A):\n",
    "        if not A:\n",
    "            return []\n",
    "\n",
    "        result = []\n",
    "        dq = deque([A])\n",
    "\n",
    "        while dq:\n",
    "            level_size = len(dq)\n",
    "            current_level = []\n",
    "\n",
    "            for _ in range(level_size):\n",
    "                node = dq.popleft()\n",
    "                current_level.append(node.val)\n",
    "\n",
    "                if node.left:\n",
    "                    dq.append(node.left)\n",
    "                if node.right:\n",
    "                    dq.append(node.right)\n",
    "\n",
    "            result.append(current_level)\n",
    "\n",
    "        return result\n",
    "\n",
    "\n",
    "nodes = [3, 9, 20, -1, -1, 15, 7] \n",
    "root = tree_helpers.build_tree_level_order(nodes)\n",
    "Solution().solve(root)"
   ]
  },
  {
   "cell_type": "markdown",
   "id": "9416aaa0",
   "metadata": {},
   "source": [
    "### Problem 2: <Name>\n",
    "<Problem description here>\n"
   ]
  },
  {
   "cell_type": "code",
   "execution_count": 6,
   "id": "a91e9842",
   "metadata": {},
   "outputs": [
    {
     "data": {
      "text/plain": [
       "[1, 3, 4]"
      ]
     },
     "execution_count": 6,
     "metadata": {},
     "output_type": "execute_result"
    }
   ],
   "source": [
    "from helpers import tree_helpers\n",
    "from collections import deque\n",
    "\n",
    "\n",
    "class Solution:\n",
    "    # @param A : integer\n",
    "    def solve(self, A):\n",
    "        result = []\n",
    "        if not A:\n",
    "            return result\n",
    "        dq = deque([A])\n",
    "        while dq:\n",
    "            level_size = len(dq)\n",
    "            for i in range(level_size):\n",
    "                node = dq.popleft()\n",
    "                if node.left:\n",
    "                    dq.append(node.left)\n",
    "                if node.right:\n",
    "                    dq.append(node.right)\n",
    "                if i == level_size - 1:\n",
    "                    result.append(node.val)\n",
    "        return result\n",
    "\n",
    "\n",
    "nodes = [1, 2, 3, -1, 4, -1, -1, -1, -1, -1, 5, -1, -1, -1, -1]\n",
    "root = tree_helpers.build_tree_level_order(nodes)\n",
    "Solution().solve(root)"
   ]
  }
 ],
 "metadata": {
  "kernelspec": {
   "display_name": "venv (3.13.5)",
   "language": "python",
   "name": "python3"
  },
  "language_info": {
   "codemirror_mode": {
    "name": "ipython",
    "version": 3
   },
   "file_extension": ".py",
   "mimetype": "text/x-python",
   "name": "python",
   "nbconvert_exporter": "python",
   "pygments_lexer": "ipython3",
   "version": "3.13.5"
  }
 },
 "nbformat": 4,
 "nbformat_minor": 5
}
