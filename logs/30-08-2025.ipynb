{
 "cells": [
  {
   "cell_type": "markdown",
   "id": "4cb4a420",
   "metadata": {},
   "source": [
    "# 📅 Date: 30-08-2025"
   ]
  },
  {
   "cell_type": "markdown",
   "id": "967c88eb",
   "metadata": {},
   "source": [
    "## 🔍 Focus Area\n",
    "- Binary Search"
   ]
  },
  {
   "cell_type": "markdown",
   "id": "9beace48",
   "metadata": {},
   "source": [
    "## ✅ Tasks Completed\n",
    "- Problem 1: Painter's Partition Problem ([Link](https://www.scaler.com/academy/mentee-dashboard/class/387836/assignment/problems/271))\n",
    "- Problem 2: Aggressive cows ([Link](https://www.scaler.com/academy/mentee-dashboard/class/387836/assignment/problems/4129?navref=cl_tt_nv))\n",
    "- Problem 3: ADD OR NOT ([Link](https://www.scaler.com/academy/mentee-dashboard/class/387836/homework/problems/5153?navref=cl_tt_lst_sl))\n",
    "- Problem 4: Special Integer ([Link](https://www.scaler.com/academy/mentee-dashboard/class/387836/homework/problems/4133?navref=cl_tt_lst_nm))\n",
    "- Problem 5: Allocate Books ([Link](https://www.scaler.com/academy/mentee-dashboard/class/387836/homework/problems/270))"
   ]
  },
  {
   "cell_type": "markdown",
   "id": "6fa929d9",
   "metadata": {},
   "source": [
    "## 🧪 Code Experiments\n"
   ]
  },
  {
   "cell_type": "markdown",
   "id": "14bf5af9",
   "metadata": {},
   "source": [
    "### Problem 1: Painter's Partition Problem\n",
    "\n",
    "Given 2 integers A and B and an array of integers C of size N. Element C[i] represents the length of ith board.\n",
    "You have to paint all N boards [C0, C1, C2, C3 … CN-1]. There are A painters available and each of them takes B units of time to paint 1 unit of the board.\n",
    "\n",
    "Calculate and return the minimum time required to paint all boards under the constraints that any painter will only paint contiguous sections of the board.\n",
    "NOTE:\n",
    "1. 2 painters cannot share a board to paint. That is to say, a board cannot be painted partially by one painter, and partially by another.\n",
    "2. A painter will only paint contiguous boards. This means a configuration where painter 1 paints boards 1 and 3 but not 2 is invalid.\n",
    "\n",
    "Return the ans % 10000003."
   ]
  },
  {
   "cell_type": "code",
   "execution_count": null,
   "id": "f97c31c8",
   "metadata": {},
   "outputs": [
    {
     "data": {
      "text/plain": [
       "11"
      ]
     },
     "execution_count": 3,
     "metadata": {},
     "output_type": "execute_result"
    }
   ],
   "source": [
    "class Solution:\n",
    "    def noOfPaintersNeeded(self, C, max_units_per_painter):\n",
    "        num_of_painters = 1\n",
    "        sum = 0\n",
    "        for i in range(len(C)):\n",
    "            sum += C[i]\n",
    "            if sum > max_units_per_painter:\n",
    "                num_of_painters += 1\n",
    "                sum = C[i]\n",
    "        return num_of_painters\n",
    "\n",
    "    # @param A : integer\n",
    "    # @param B : integer\n",
    "    # @param C : list of integers\n",
    "    # @return an integer\n",
    "    def paint(self, A, B, C):\n",
    "        max_time = max(C)\n",
    "        total_time = sum(C)\n",
    "        hi, lo = total_time, max_time\n",
    "        while lo <= hi:\n",
    "            mid = (lo + hi) // 2\n",
    "            if self.noOfPaintersNeeded(C, mid) <= A:\n",
    "                ans = mid\n",
    "                hi = mid - 1\n",
    "            else:\n",
    "                lo = mid + 1\n",
    "        return (ans * B) % 10000003\n",
    "\n",
    "\n",
    "Solution().paint(10, 1, [1, 8, 11, 3])"
   ]
  },
  {
   "cell_type": "markdown",
   "id": "99a3f330",
   "metadata": {},
   "source": [
    "### Problem 2: Aggressive cows\n",
    "\n",
    "Farmer John has built a new long barn with N stalls. Given an array of integers A of size N where each element of the array represents the location of the stall and an integer B which represents the number of cows.\n",
    "\n",
    "His cows don't like this barn layout and become aggressive towards each other once put into a stall. To prevent the cows from hurting each other, John wants to assign the cows to the stalls, such that the minimum distance between any two of them is as large as possible. What is the largest minimum distance?"
   ]
  },
  {
   "cell_type": "code",
   "execution_count": 12,
   "id": "cb4377a5",
   "metadata": {},
   "outputs": [
    {
     "data": {
      "text/plain": [
       "2"
      ]
     },
     "execution_count": 12,
     "metadata": {},
     "output_type": "execute_result"
    }
   ],
   "source": [
    "class Solution:\n",
    "    def noOfCowsPossible(self, A, distance_between_two_cows):\n",
    "        num_of_cows = 1\n",
    "        last_pos = A[0]\n",
    "        for i in range(1, len(A)):\n",
    "            if A[i] - last_pos >= distance_between_two_cows:\n",
    "                num_of_cows += 1\n",
    "                last_pos = A[i]\n",
    "        return num_of_cows\n",
    "\n",
    "    # @param A : list of integers\n",
    "    # @param B : integer\n",
    "    # @return an integer\n",
    "    def solve(self, A, B):\n",
    "        A.sort()\n",
    "\n",
    "        ans = 0\n",
    "        n = len(A)\n",
    "\n",
    "        min_dist = A[1] - A[0]\n",
    "        for i in range(2, n):\n",
    "            min_dist = min(min_dist, A[i] - A[i - 1])\n",
    "        low = min_dist\n",
    "        high = A[n - 1] - A[0]\n",
    "\n",
    "        while low <= high:\n",
    "            mid = (low + high) // 2\n",
    "            if self.noOfCowsPossible(A, mid) >= B:\n",
    "                ans = mid\n",
    "                low = mid + 1\n",
    "            else:\n",
    "                high = mid - 1\n",
    "        return ans\n",
    "\n",
    "\n",
    "Solution().solve([1, 2, 3, 4, 5], 3)"
   ]
  },
  {
   "cell_type": "markdown",
   "id": "004abed9",
   "metadata": {},
   "source": [
    "### Problem 3: ADD OR NOT\n",
    "Given an array of integers A of size N and an integer B.\n",
    "\n",
    "In a single operation, any one element of the array can be increased by 1. You are allowed to do at most B such operations.\n",
    "\n",
    "Find the number with the maximum number of occurrences and return an array C of size 2, where C[0] is the number of occurrences, and C[1] is the number with maximum occurrence.\n",
    "If there are several such numbers, your task is to find the minimum one."
   ]
  },
  {
   "cell_type": "code",
   "execution_count": 18,
   "id": "26d2b4be",
   "metadata": {},
   "outputs": [
    {
     "data": {
      "text/plain": [
       "[4, 2]"
      ]
     },
     "execution_count": 18,
     "metadata": {},
     "output_type": "execute_result"
    }
   ],
   "source": [
    "# Paste your solution here\n",
    "class Solution:\n",
    "    # @param A : integer\n",
    "    def solve(self, A, B):\n",
    "        A.sort()\n",
    "        n = len(A)\n",
    "\n",
    "        # Build prefix sum\n",
    "        ps = [0]\n",
    "        for i in range(n):\n",
    "            ps.append(ps[-1] + A[i])\n",
    "\n",
    "        best_freq = 0\n",
    "        best_num = A[0]\n",
    "        l = 0\n",
    "\n",
    "        for h in range(n):\n",
    "            while l <= h:\n",
    "                window_size = h - l + 1\n",
    "                cost = (window_size * A[h]) - (ps[h + 1] - ps[l])\n",
    "\n",
    "                if cost <= B:\n",
    "                    if window_size > best_freq or (\n",
    "                        window_size == best_freq and A[h] < best_num\n",
    "                    ):\n",
    "                        best_freq = window_size\n",
    "                        best_num = A[h]\n",
    "                    break\n",
    "                else:\n",
    "                    l += 1\n",
    "\n",
    "        return [best_freq, best_num]\n",
    "\n",
    "\n",
    "Solution().solve([3, 1, 2, 2, 1], 3)"
   ]
  },
  {
   "cell_type": "markdown",
   "id": "b808a368",
   "metadata": {},
   "source": [
    "### Problem 4: Special Integer\n",
    "Given an array of integers A and an integer B, find and return the maximum value K such that there is no subarray in A of size K with the sum of elements greater than B."
   ]
  },
  {
   "cell_type": "code",
   "execution_count": 23,
   "id": "94b5980e",
   "metadata": {},
   "outputs": [
    {
     "data": {
      "text/plain": [
       "2"
      ]
     },
     "execution_count": 23,
     "metadata": {},
     "output_type": "execute_result"
    }
   ],
   "source": [
    "class Solution:\n",
    "    def max_sum_over_all_subarrays_of_length_k(self, A, B, K):\n",
    "        n = len(A)\n",
    "        if K > n:\n",
    "            return False\n",
    "        cur_sum = sum(A[0:K])\n",
    "        if cur_sum > B:\n",
    "            return False\n",
    "        for i in range(K, n):\n",
    "            cur_sum += A[i] - A[i - K]\n",
    "            if cur_sum > B:\n",
    "                return False\n",
    "        return True\n",
    "\n",
    "    # @param A : list of integers\n",
    "    # @param B : integer\n",
    "    # @return an integer\n",
    "    def solve(self, A, B):\n",
    "        ans = 0\n",
    "        n = len(A)\n",
    "        low, high = 1, n\n",
    "        while low <= high:\n",
    "            mid = (low + high) // 2\n",
    "            if self.max_sum_over_all_subarrays_of_length_k(A, B, mid):\n",
    "                ans = mid\n",
    "                low = mid + 1\n",
    "            else:\n",
    "                high = mid - 1\n",
    "\n",
    "        return ans\n",
    "\n",
    "\n",
    "Solution().solve([1, 2, 3, 4, 5], 10)"
   ]
  },
  {
   "cell_type": "markdown",
   "id": "23918d62",
   "metadata": {},
   "source": [
    "### Problem 5: Allocate Books\n",
    "Given an array of integers A of size N and an integer B.\n",
    "\n",
    "The College library has N books. The ith book has A[i] number of pages. You have to allocate books to B number of students so that the maximum number of pages allocated to a student is minimum. A book will be allocated to exactly one student. Each student has to be allocated at least one book. \n",
    "\n",
    "Allotment should be in contiguous order, for example: A student cannot be allocated book 1 and book 3, skipping book 2.\n",
    "\n",
    "Calculate and return that minimum possible number.\n",
    "NOTE: Return -1 if a valid assignment is not possible."
   ]
  },
  {
   "cell_type": "code",
   "execution_count": 9,
   "id": "45b2a033",
   "metadata": {},
   "outputs": [
    {
     "data": {
      "text/plain": [
       "110"
      ]
     },
     "execution_count": 9,
     "metadata": {},
     "output_type": "execute_result"
    }
   ],
   "source": [
    "# Paste your solution here\n",
    "class Solution:\n",
    "    def no_of_pages_allocated(self, A, max_pages_per_student):\n",
    "        n = len(A)\n",
    "        number_of_students = 1\n",
    "        num_of_pages = 0\n",
    "        for i in range(n):\n",
    "            if A[i] > max_pages_per_student:\n",
    "                return n + 1\n",
    "            num_of_pages += A[i]\n",
    "            if num_of_pages > max_pages_per_student:\n",
    "                number_of_students += 1\n",
    "                num_of_pages = A[i]\n",
    "        return number_of_students\n",
    "\n",
    "    def books(self, A, B):\n",
    "        if B > len(A):\n",
    "            return -1\n",
    "\n",
    "        low = max(A)\n",
    "        high = sum(A)\n",
    "        ans = 0\n",
    "\n",
    "        while low <= high:\n",
    "            mid = (low + high) // 2\n",
    "            if self.no_of_pages_allocated(A, mid) <= B:\n",
    "                ans = mid\n",
    "                high = mid - 1\n",
    "            else:\n",
    "                low = mid + 1\n",
    "\n",
    "        return ans\n",
    "\n",
    "\n",
    "Solution().books([73, 58, 30, 72, 44, 78, 23, 9], 5)"
   ]
  }
 ],
 "metadata": {
  "kernelspec": {
   "display_name": "venv (3.13.5)",
   "language": "python",
   "name": "python3"
  },
  "language_info": {
   "codemirror_mode": {
    "name": "ipython",
    "version": 3
   },
   "file_extension": ".py",
   "mimetype": "text/x-python",
   "name": "python",
   "nbconvert_exporter": "python",
   "pygments_lexer": "ipython3",
   "version": "3.13.5"
  }
 },
 "nbformat": 4,
 "nbformat_minor": 5
}
