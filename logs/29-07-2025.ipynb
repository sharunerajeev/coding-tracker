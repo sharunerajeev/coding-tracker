{
 "cells": [
  {
   "cell_type": "markdown",
   "id": "eea35513",
   "metadata": {},
   "source": [
    "# 📅 Date: 29-07-2025"
   ]
  },
  {
   "cell_type": "markdown",
   "id": "eb491ef3",
   "metadata": {},
   "source": [
    "## 🔍 Focus Area\n",
    "- Arrays"
   ]
  },
  {
   "cell_type": "markdown",
   "id": "21404c73",
   "metadata": {},
   "source": [
    "## ✅ Tasks Completed\n",
    "- Problem 1: Add One To Number ([Link](https://www.scaler.com/academy/mentee-dashboard/class/387812/homework/problems/66))"
   ]
  },
  {
   "cell_type": "markdown",
   "id": "54434d76",
   "metadata": {},
   "source": [
    "## 🧪 Code Experiments\n"
   ]
  },
  {
   "cell_type": "markdown",
   "id": "2e647a40",
   "metadata": {},
   "source": [
    "### Problem 1: Add One To Number\n",
    "Given a non-negative number represented as an array of digits, add 1 to the number ( increment the number represented by the digits ).\n",
    "\n",
    "The digits are stored such that the most significant digit is at the head of the list.\n",
    "\n",
    "NOTE: Certain things are intentionally left unclear in this question which you should practice asking the interviewer. For example: for this problem, the following are some good questions to ask :\n",
    "\n",
    "Q: Can the input have 0's before the most significant digit. Or, in other words, is 0 1 2 3 a valid input?\n",
    "A: For the purpose of this question, YES\n",
    "Q: Can the output have 0's before the most significant digit? Or, in other words, is 0 1 2 4 a valid output?\n",
    "A: For the purpose of this question, NO. Even if the input has zeroes before the most significant digit.\n"
   ]
  },
  {
   "cell_type": "code",
   "execution_count": 13,
   "id": "1877516a",
   "metadata": {},
   "outputs": [
    {
     "name": "stdout",
     "output_type": "stream",
     "text": [
      "[1, 2, 4]\n"
     ]
    }
   ],
   "source": [
    "# Paste your solution here\n",
    "def solution(A):\n",
    "    A = [str(i) for i in A]\n",
    "    A = str(int(\"\".join(A)) + 1)\n",
    "    return [int(i) for i in A]\n",
    "\n",
    "\n",
    "print(solution([1, 2, 3]))"
   ]
  },
  {
   "cell_type": "code",
   "execution_count": 33,
   "id": "a41012c8",
   "metadata": {},
   "outputs": [
    {
     "name": "stdout",
     "output_type": "stream",
     "text": [
      "[1]\n"
     ]
    }
   ],
   "source": [
    "# Paste your solution here\n",
    "def solution(A):\n",
    "    # Trim 0 in starting\n",
    "    i = 0\n",
    "    while i < len(A):\n",
    "        if A[i] != 0:\n",
    "            break\n",
    "        i += 1\n",
    "    if i == len(A):\n",
    "        A = [0]\n",
    "    else:\n",
    "        A = A[i:]\n",
    "    i = len(A) - 1\n",
    "    A[i] += 1\n",
    "    carryForward = False\n",
    "    if A[i] > 9:\n",
    "        A[i] = 0\n",
    "        i -= 1\n",
    "        carryForward = True\n",
    "    while i >= 0 and carryForward:\n",
    "        A[i] = A[i] + 1\n",
    "        if A[i] == 10:\n",
    "            A[i] = 0\n",
    "            carryForward = True\n",
    "        else:\n",
    "            carryForward = False\n",
    "            break\n",
    "        i -= 1\n",
    "    if carryForward:\n",
    "        A = [1] + A\n",
    "    return A\n",
    "\n",
    "\n",
    "print(solution([0, 0]))"
   ]
  }
 ],
 "metadata": {
  "kernelspec": {
   "display_name": "venv (3.13.5)",
   "language": "python",
   "name": "python3"
  },
  "language_info": {
   "codemirror_mode": {
    "name": "ipython",
    "version": 3
   },
   "file_extension": ".py",
   "mimetype": "text/x-python",
   "name": "python",
   "nbconvert_exporter": "python",
   "pygments_lexer": "ipython3",
   "version": "3.13.5"
  }
 },
 "nbformat": 4,
 "nbformat_minor": 5
}
