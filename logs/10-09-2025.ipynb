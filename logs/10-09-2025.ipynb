{
 "cells": [
  {
   "cell_type": "markdown",
   "id": "a520a012",
   "metadata": {},
   "source": [
    "# 📅 Date: 10-09-2025"
   ]
  },
  {
   "cell_type": "markdown",
   "id": "a918f278",
   "metadata": {},
   "source": [
    "## 🔍 Focus Area\n",
    "- Stacks"
   ]
  },
  {
   "cell_type": "markdown",
   "id": "7864534e",
   "metadata": {},
   "source": [
    "## ✅ Tasks Completed\n",
    "- Problem 1: Min Stack ([Link](https://www.scaler.com/academy/mentee-dashboard/class/387869/homework/problems/52))\n",
    "- Problem 2: Infix to Postfix ([Link](https://www.scaler.com/academy/mentee-dashboard/class/387869/homework/problems/4353))\n",
    "- Problem 3: Double Character Trouble ([Link](https://www.scaler.com/academy/mentee-dashboard/class/387857/assignment/problems/968?navref=cl_tt_lst_nm))"
   ]
  },
  {
   "cell_type": "markdown",
   "id": "d1f15c81",
   "metadata": {},
   "source": [
    "## 🧪 Code Experiments\n"
   ]
  },
  {
   "cell_type": "markdown",
   "id": "ff1b3dd8",
   "metadata": {},
   "source": [
    "### Problem 1: Min Stack\n",
    "Design a stack that supports push, pop, top, and retrieve the minimum element in constant time.\n",
    "push(x) -- Push element x onto stack.\n",
    "pop() -- Removes the element on top of the stack.\n",
    "top() -- Get the top element.\n",
    "getMin() -- Retrieve the minimum element in the stack.\n",
    "NOTE:\n",
    "All the operations have to be constant time operations.\n",
    "getMin() should return -1 if the stack is empty.\n",
    "pop() should return nothing if the stack is empty.\n",
    "top() should return -1 if the stack is empty."
   ]
  },
  {
   "cell_type": "code",
   "execution_count": 17,
   "id": "4b626bd8",
   "metadata": {},
   "outputs": [
    {
     "name": "stdout",
     "output_type": "stream",
     "text": [
      "-2\n",
      "1\n",
      "2\n"
     ]
    }
   ],
   "source": [
    "class MinStack:\n",
    "    stack = []\n",
    "    min_stack = []\n",
    "\n",
    "    def __init__(self):\n",
    "        self.min_stack = []\n",
    "        self.stack = []\n",
    "\n",
    "    # @param x, an integer\n",
    "    # @return nothing\n",
    "    def push(self, x):\n",
    "        self.stack.append(x)\n",
    "        if len(self.min_stack):\n",
    "            y = self.min_stack[-1]\n",
    "            if x < y:\n",
    "                self.min_stack.append(x)\n",
    "            else:\n",
    "                self.min_stack.append(y)\n",
    "        else:\n",
    "            self.min_stack.append(x)\n",
    "\n",
    "    # @return nothing\n",
    "    def pop(self):\n",
    "        if self.stack:\n",
    "            self.stack.pop()\n",
    "            self.min_stack.pop()\n",
    "\n",
    "    # @return an integer\n",
    "    def top(self):\n",
    "        if len(self.stack):\n",
    "            return self.stack[-1]\n",
    "        else:\n",
    "            return -1\n",
    "\n",
    "    # @return an integer\n",
    "    def getMin(self):\n",
    "        if len(self.stack) == 0:\n",
    "            return -1\n",
    "        return self.min_stack[-1]\n",
    "\n",
    "    def print_stack(self):\n",
    "        print(self.stack, self.min_stack)\n",
    "\n",
    "\n",
    "min_stack = MinStack()\n",
    "min_stack.push(1)\n",
    "min_stack.push(2)\n",
    "min_stack.push(-2)\n",
    "print(min_stack.getMin())\n",
    "min_stack.pop()\n",
    "print(min_stack.getMin())\n",
    "print(min_stack.top())"
   ]
  },
  {
   "cell_type": "markdown",
   "id": "1cb26b09",
   "metadata": {},
   "source": [
    "### Problem 2: Infix to Postfix\n",
    "\n",
    "Given string A denoting an infix expression. Convert the infix expression into a postfix expression.\n",
    "\n",
    "String A consists of ^, /, _, +, -, (, ) and lowercase English alphabets where lowercase English alphabets are operands and ^, /, _, +, - are operators.\n",
    "\n",
    "Find and return the postfix expression of A.\n",
    "\n",
    "NOTE:\n",
    "\n",
    "- ^ has the highest precedence.\n",
    "- / and \\* have equal precedence but greater than + and -.\n",
    "- \\+ and - have equal precedence and lowest precedence among given operators.\n"
   ]
  },
  {
   "cell_type": "code",
   "execution_count": 48,
   "id": "effc1d0e",
   "metadata": {},
   "outputs": [
    {
     "data": {
      "text/plain": [
       "'xbt+/g*ho-s^*ez-/'"
      ]
     },
     "execution_count": 48,
     "metadata": {},
     "output_type": "execute_result"
    }
   ],
   "source": [
    "class Stack:\n",
    "    def __init__(self) -> None:\n",
    "        self.stack = []\n",
    "\n",
    "    def top(self):\n",
    "        if not self.isEmpty():\n",
    "            return self.stack[-1]\n",
    "        return None\n",
    "\n",
    "    def push(self, value):\n",
    "        self.stack.append(value)\n",
    "\n",
    "    def pop(self):\n",
    "        return self.stack.pop()\n",
    "\n",
    "    def isEmpty(self):\n",
    "        return len(self.stack) == 0\n",
    "\n",
    "    def print_stack(self):\n",
    "        print(self.stack)\n",
    "\n",
    "\n",
    "class Solution:\n",
    "    def precedence(self, op):\n",
    "        if op == \"^\":\n",
    "            return 3\n",
    "        elif op in [\"*\", \"/\"]:\n",
    "            return 2\n",
    "        elif op in [\"+\", \"-\"]:\n",
    "            return 1\n",
    "        return 0\n",
    "\n",
    "    # @param A : string\n",
    "    # @return a strings\n",
    "    def solve(self, A):\n",
    "        operator_stack = Stack()\n",
    "        ans = []\n",
    "        for i in A:\n",
    "            if i == \" \":\n",
    "                continue  # ignore spaces\n",
    "\n",
    "            # If operand → output directly\n",
    "            if i not in [\"^\", \"*\", \"/\", \"+\", \"-\", \"(\", \")\"]:\n",
    "                ans.append(i)\n",
    "\n",
    "            elif i == \"(\":\n",
    "                operator_stack.push(i)\n",
    "\n",
    "            elif i == \")\":\n",
    "                # Pop until \"(\"\n",
    "                while not operator_stack.isEmpty() and operator_stack.top() != \"(\":\n",
    "                    ans.append(operator_stack.pop())\n",
    "                # Pop \"(\" itself\n",
    "                if not operator_stack.isEmpty():\n",
    "                    operator_stack.pop()\n",
    "\n",
    "            elif i == \"^\":\n",
    "                # Right-associative\n",
    "                while not operator_stack.isEmpty() and self.precedence(\n",
    "                    operator_stack.top()\n",
    "                ) > self.precedence(i):\n",
    "                    ans.append(operator_stack.pop())\n",
    "                operator_stack.push(i)\n",
    "\n",
    "            else:  # +, -, *, /\n",
    "                # Left-associative\n",
    "                while not operator_stack.isEmpty() and self.precedence(\n",
    "                    operator_stack.top()\n",
    "                ) >= self.precedence(i):\n",
    "                    ans.append(operator_stack.pop())\n",
    "                operator_stack.push(i)\n",
    "        while not operator_stack.isEmpty():\n",
    "            ans.append(operator_stack.pop())\n",
    "        return \"\".join(ans)\n",
    "\n",
    "\n",
    "Solution().solve(\"x/(b+t)*g*(h-o)^s/(e-z)\")"
   ]
  },
  {
   "cell_type": "markdown",
   "id": "77a08130",
   "metadata": {},
   "source": [
    "### Problem 3: Double Character Trouble\n",
    "You have a string, denoted as A.\n",
    "\n",
    "To transform the string, you should perform the following operation repeatedly:\n",
    "Identify the first occurrence of consecutive identical pairs of characters within the string.\n",
    "Remove this pair of identical characters from the string.\n",
    "Repeat steps 1 and 2 until there are no more consecutive identical pairs of characters.\n",
    "The final result will be the transformed string."
   ]
  },
  {
   "cell_type": "code",
   "execution_count": 50,
   "id": "b27f13bf",
   "metadata": {},
   "outputs": [
    {
     "data": {
      "text/plain": [
       "'ac'"
      ]
     },
     "execution_count": 50,
     "metadata": {},
     "output_type": "execute_result"
    }
   ],
   "source": [
    "class Stack:\n",
    "    def __init__(self) -> None:\n",
    "        self.stack = []\n",
    "\n",
    "    def top(self):\n",
    "        if not self.isEmpty():\n",
    "            return self.stack[-1]\n",
    "        return None\n",
    "\n",
    "    def push(self, value):\n",
    "        self.stack.append(value)\n",
    "\n",
    "    def pop(self):\n",
    "        return self.stack.pop()\n",
    "\n",
    "    def isEmpty(self):\n",
    "        return len(self.stack) == 0\n",
    "\n",
    "    def get_stack(self):\n",
    "        return self.stack\n",
    "\n",
    "\n",
    "class Solution:\n",
    "    # @param A : integer\n",
    "    def solve(self, A):\n",
    "        stack = Stack()\n",
    "        for i in A:\n",
    "            if stack.top() == i:\n",
    "                stack.pop()\n",
    "            else:\n",
    "                stack.push(i)\n",
    "        return ''.join(stack.get_stack())\n",
    "\n",
    "\n",
    "Solution().solve(\"abccbc\")"
   ]
  }
 ],
 "metadata": {
  "kernelspec": {
   "display_name": "venv (3.13.5)",
   "language": "python",
   "name": "python3"
  },
  "language_info": {
   "codemirror_mode": {
    "name": "ipython",
    "version": 3
   },
   "file_extension": ".py",
   "mimetype": "text/x-python",
   "name": "python",
   "nbconvert_exporter": "python",
   "pygments_lexer": "ipython3",
   "version": "3.13.7"
  }
 },
 "nbformat": 4,
 "nbformat_minor": 5
}
