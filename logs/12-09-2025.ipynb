{
 "cells": [
  {
   "cell_type": "markdown",
   "id": "65fbea58",
   "metadata": {},
   "source": [
    "# 📅 Date: 12-09-2025"
   ]
  },
  {
   "cell_type": "markdown",
   "id": "be4a19ab",
   "metadata": {},
   "source": [
    "## 🔍 Focus Area\n",
    "- Stack"
   ]
  },
  {
   "cell_type": "markdown",
   "id": "43ac103a",
   "metadata": {},
   "source": [
    "## ✅ Tasks Completed\n",
    "- Problem 1: Infix to Postfix ([Link](https://www.scaler.com/academy/mentee-dashboard/class/387869/homework/problems/4353))"
   ]
  },
  {
   "cell_type": "markdown",
   "id": "b33ac7fd",
   "metadata": {},
   "source": [
    "## 🧪 Code Experiments\n"
   ]
  },
  {
   "cell_type": "markdown",
   "id": "8b7c5e2e",
   "metadata": {},
   "source": [
    "### Problem 1: Infix to Postfix\n",
    "Given string A denoting an infix expression. Convert the infix expression into a postfix expression.\n",
    "\n",
    "String A consists of ^, /, *, +, -, (, ) and lowercase English alphabets where lowercase English alphabets are operands and ^, /, *, +, - are operators.\n",
    "\n",
    "Find and return the postfix expression of A.\n",
    "\n",
    "NOTE:\n",
    "\n",
    "^ has the highest precedence.\n",
    "/ and * have equal precedence but greater than + and -.\n",
    "+ and - have equal precedence and lowest precedence among given operators."
   ]
  },
  {
   "cell_type": "code",
   "execution_count": 12,
   "id": "d0658d20",
   "metadata": {},
   "outputs": [
    {
     "data": {
      "text/plain": [
       "'xy^az*/b+'"
      ]
     },
     "execution_count": 12,
     "metadata": {},
     "output_type": "execute_result"
    }
   ],
   "source": [
    "class Solution:\n",
    "    # @param A : string\n",
    "    # @return a strings\n",
    "    def solve(self, A):\n",
    "        operator_stack = []\n",
    "        ans = []\n",
    "        precedence = {\"+\": 1, \"-\": 1, \"*\": 2, \"/\": 2, \"^\": 3}\n",
    "\n",
    "        for i in A:\n",
    "            if i.isalnum():\n",
    "                ans.append(i)\n",
    "            elif i == \"(\":\n",
    "                operator_stack.append(i)\n",
    "            elif i == \")\":\n",
    "                while operator_stack and operator_stack[-1] != \"(\":\n",
    "                    ans.append(operator_stack.pop())\n",
    "                operator_stack.pop()\n",
    "            else:\n",
    "                while operator_stack and precedence.get(i) <= precedence.get(\n",
    "                    operator_stack[-1], 0\n",
    "                ):\n",
    "                    ans.append(operator_stack.pop())\n",
    "                operator_stack.append(i)\n",
    "\n",
    "        while operator_stack:\n",
    "            ans.append(operator_stack.pop())\n",
    "\n",
    "        return \"\".join(ans)\n",
    "\n",
    "\n",
    "Solution().solve(\"x^y/(a*z)+b\")"
   ]
  }
 ],
 "metadata": {
  "kernelspec": {
   "display_name": "venv (3.13.5)",
   "language": "python",
   "name": "python3"
  },
  "language_info": {
   "codemirror_mode": {
    "name": "ipython",
    "version": 3
   },
   "file_extension": ".py",
   "mimetype": "text/x-python",
   "name": "python",
   "nbconvert_exporter": "python",
   "pygments_lexer": "ipython3",
   "version": "3.13.7"
  }
 },
 "nbformat": 4,
 "nbformat_minor": 5
}
