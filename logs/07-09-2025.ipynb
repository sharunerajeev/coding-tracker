{
 "cells": [
  {
   "cell_type": "markdown",
   "id": "e84985c6",
   "metadata": {},
   "source": [
    "# 📅 Date: 07-09-2025"
   ]
  },
  {
   "cell_type": "markdown",
   "id": "7f860e47",
   "metadata": {},
   "source": [
    "## 🔍 Focus Area\n",
    "- Linked List"
   ]
  },
  {
   "cell_type": "markdown",
   "id": "0a53a4ab",
   "metadata": {},
   "source": [
    "## ✅ Tasks Completed\n",
    "- Problem 1: K reverse linked list ([Link](https://www.scaler.com/academy/mentee-dashboard/class/387839/homework/problems/380?navref=cl_tt_lst_sl))\n",
    "- Problem 2: Reverse Link List II ([Link](https://www.scaler.com/academy/mentee-dashboard/class/387839/homework/problems/45?navref=cl_tt_nv))"
   ]
  },
  {
   "cell_type": "markdown",
   "id": "77b03b71",
   "metadata": {},
   "source": [
    "## 🧪 Code Experiments\n"
   ]
  },
  {
   "cell_type": "code",
   "execution_count": 2,
   "id": "ab6e67f1",
   "metadata": {},
   "outputs": [],
   "source": [
    "# Cell 1: Class Definitions\n",
    "\n",
    "class Node:\n",
    "    \"\"\"A single node in a linked list.\"\"\"\n",
    "    def __init__(self, data):\n",
    "        self.val = data\n",
    "        self.next = None\n",
    "\n",
    "class LinkedList:\n",
    "    \"\"\"The main linked list class.\"\"\"\n",
    "    def __init__(self):\n",
    "        self.head = None\n",
    "\n",
    "    def append(self, data):\n",
    "        \"\"\"Adds a new node to the end of the list.\"\"\"\n",
    "        new_node = Node(data)\n",
    "        if not self.head:\n",
    "            self.head = new_node\n",
    "            return\n",
    "        last_node = self.head\n",
    "        while last_node.next:\n",
    "            last_node = last_node.next\n",
    "        last_node.next = new_node\n",
    "\n",
    "    def display(self):\n",
    "        \"\"\"Prints the contents of the linked list.\"\"\"\n",
    "        nodes = []\n",
    "        current_node = self.head\n",
    "        while current_node:\n",
    "            nodes.append(str(current_node.val))\n",
    "            current_node = current_node.next\n",
    "        print(\" -> \".join(nodes))"
   ]
  },
  {
   "cell_type": "markdown",
   "id": "76b38a89",
   "metadata": {},
   "source": [
    "### Problem 1: K reverse linked list\n",
    "Given a singly linked list A and an integer B, reverse the nodes of the list B at a time and return the modified linked list."
   ]
  },
  {
   "cell_type": "code",
   "execution_count": null,
   "id": "55f32059",
   "metadata": {},
   "outputs": [
    {
     "name": "stdout",
     "output_type": "stream",
     "text": [
      "3 -> 2 -> 1 -> 6 -> 5 -> 4\n"
     ]
    }
   ],
   "source": [
    "class Solution:\n",
    "    # @param A : head node of linked list\n",
    "    # @return the head node in the linked list\n",
    "    def reverseList(self, LL, B) -> LinkedList:\n",
    "        if B <= 1 or not LL.head or not LL.head.next:\n",
    "            return LL\n",
    "\n",
    "        def reversedGroup(A, B):\n",
    "            curNode = A\n",
    "            counter = 0\n",
    "\n",
    "            while curNode and counter < B:\n",
    "                curNode = curNode.next\n",
    "                counter += 1\n",
    "            if counter < B:\n",
    "                return A\n",
    "\n",
    "            curNode, prevNode = A, None\n",
    "            for _ in range(B):\n",
    "                nextNode = curNode.next\n",
    "                curNode.next = prevNode\n",
    "                prevNode = curNode\n",
    "                curNode = nextNode\n",
    "\n",
    "            A.next = reversedGroup(curNode, B)\n",
    "            return prevNode\n",
    "\n",
    "        LL.head = reversedGroup(LL.head, B)\n",
    "        return LL\n",
    "\n",
    "\n",
    "my_list = LinkedList()\n",
    "\n",
    "for i in range(1, 7):\n",
    "    my_list.append(i)\n",
    "\n",
    "new_list = Solution().reverseList(my_list, 3)\n",
    "new_list.display()"
   ]
  },
  {
   "cell_type": "markdown",
   "id": "588eec3c",
   "metadata": {},
   "source": [
    "### Problem 2: - Reverse Link List II\n",
    "Reverse a linked list A from position B to C.\n",
    "\n",
    "NOTE: Do it in-place and in one-pass."
   ]
  },
  {
   "cell_type": "code",
   "execution_count": 54,
   "id": "20ac8dd3",
   "metadata": {},
   "outputs": [
    {
     "name": "stdout",
     "output_type": "stream",
     "text": [
      "1 -> 3 -> 2 -> 4 -> 5\n"
     ]
    }
   ],
   "source": [
    "class Solution:\n",
    "    # @param A : head node of linked list\n",
    "    # @param B : integer\n",
    "    # @param C : integer\n",
    "    # @return the head node in the linked list\n",
    "    def reverseBetween(self, A, B, C):\n",
    "        LL = A\n",
    "        A = A.head\n",
    "\n",
    "        if not A or B >= C:\n",
    "            return LL\n",
    "\n",
    "        # Case 1: Reverse starts at head\n",
    "        if B == 1:\n",
    "            prev_node = None\n",
    "            cur_node = A\n",
    "            for _ in range(C):\n",
    "                next_node = cur_node.next\n",
    "                cur_node.next = prev_node\n",
    "                prev_node = cur_node\n",
    "                cur_node = next_node\n",
    "            A.next = cur_node\n",
    "            A = prev_node\n",
    "            return LL\n",
    "\n",
    "        # Case 2: When reverse start later in the list\n",
    "        previous = A\n",
    "\n",
    "        # Got to the start index\n",
    "        for _ in range(B - 2):\n",
    "            previous = previous.next\n",
    "\n",
    "        start_node = previous.next\n",
    "        cur_node = start_node\n",
    "        prev_node = None\n",
    "        # Reverse till the end index\n",
    "        for _ in range(C - B + 1):\n",
    "            next_node = cur_node.next\n",
    "            cur_node.next = prev_node\n",
    "            prev_node = cur_node\n",
    "            cur_node = next_node\n",
    "\n",
    "        previous.next = prev_node\n",
    "        start_node.next = cur_node\n",
    "        return LL\n",
    "\n",
    "\n",
    "my_list = LinkedList()\n",
    "\n",
    "for i in range(1, 6):\n",
    "    my_list.append(i)\n",
    "\n",
    "new_list = Solution().reverseBetween(my_list, 2, 3)\n",
    "new_list.display()"
   ]
  }
 ],
 "metadata": {
  "kernelspec": {
   "display_name": "venv (3.13.5)",
   "language": "python",
   "name": "python3"
  },
  "language_info": {
   "codemirror_mode": {
    "name": "ipython",
    "version": 3
   },
   "file_extension": ".py",
   "mimetype": "text/x-python",
   "name": "python",
   "nbconvert_exporter": "python",
   "pygments_lexer": "ipython3",
   "version": "3.13.7"
  }
 },
 "nbformat": 4,
 "nbformat_minor": 5
}
