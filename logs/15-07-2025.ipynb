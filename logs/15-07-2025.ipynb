{
 "cells": [
  {
   "cell_type": "markdown",
   "id": "788d4448",
   "metadata": {},
   "source": [
    "# 📅 Date: 15-07-2025"
   ]
  },
  {
   "cell_type": "markdown",
   "id": "8b2748aa",
   "metadata": {},
   "source": [
    "## 🔍 Focus Area\n",
    "- Arrays"
   ]
  },
  {
   "cell_type": "markdown",
   "id": "d5f0b098",
   "metadata": {},
   "source": [
    "## ✅ Tasks Completed\n",
    "- [X] Problem 1: <Name> ([3Sum Closest](https://leetcode.com/problems/3sum-closest/description/?envType=problem-list-v2&envId=array))\n",
    "- [X] Problem 2: <Name> ([Plus One](https://leetcode.com/problems/plus-one/description/?envType=problem-list-v2&envId=array))\n",
    "- [X] Problem 3: <Name> ([Find Pivot Index](https://leetcode.com/problems/find-pivot-index/))"
   ]
  },
  {
   "cell_type": "markdown",
   "id": "6b3f95dd",
   "metadata": {},
   "source": [
    "## 🧪 Code Experiments"
   ]
  },
  {
   "cell_type": "markdown",
   "id": "0a4fe836",
   "metadata": {},
   "source": [
    "### Problem 1\n",
    "Given an integer array nums of length n and an integer target, find three integers in nums such that the sum is closest to target.\n",
    "\n",
    "Return the sum of the three integers.\n",
    "\n",
    "You may assume that each input would have exactly one solution."
   ]
  },
  {
   "cell_type": "code",
   "execution_count": 15,
   "id": "82db55ae",
   "metadata": {},
   "outputs": [
    {
     "name": "stdout",
     "output_type": "stream",
     "text": [
      "2\n"
     ]
    }
   ],
   "source": [
    "def threeSumClosest(nums, target):\n",
    "    n = len(nums)\n",
    "    nums.sort()\n",
    "    closest = float(\"inf\")\n",
    "\n",
    "    for i in range(n - 2):\n",
    "        left = i + 1\n",
    "        right = n - 1\n",
    "        while left < right:\n",
    "            cur_sum = nums[i] + nums[left] + nums[right]\n",
    "            if abs(cur_sum - target) < abs(closest - target):\n",
    "                closest = cur_sum\n",
    "            if cur_sum < target:\n",
    "                left += 1\n",
    "            elif cur_sum > target:\n",
    "                right -= 1\n",
    "            else:\n",
    "                return cur_sum\n",
    "\n",
    "    return closest\n",
    "\n",
    "\n",
    "print(threeSumClosest([-1, 2, 1, -4], 1))"
   ]
  },
  {
   "cell_type": "markdown",
   "id": "3f5f5316",
   "metadata": {},
   "source": [
    "### Problem 2\n",
    "You are given a large integer represented as an integer array digits, where each digits[i] is the ith digit of the integer. The digits are ordered from most significant to least significant in left-to-right order. The large integer does not contain any leading 0's.\n",
    "\n",
    "Increment the large integer by one and return the resulting array of digits."
   ]
  },
  {
   "cell_type": "code",
   "execution_count": 30,
   "id": "f788dbbe",
   "metadata": {},
   "outputs": [
    {
     "name": "stdout",
     "output_type": "stream",
     "text": [
      "[1, 0, 0, 0]\n"
     ]
    }
   ],
   "source": [
    "def plusOne(digits):\n",
    "    for i in range(len(digits)):\n",
    "        digits[i] = str(digits[i])\n",
    "    digitString = \"\".join(digits)\n",
    "    numberDigit = int(digitString)\n",
    "    numberDigit += 1\n",
    "    digitString = str(numberDigit)\n",
    "    return [int(i) for i in digitString]\n",
    "\n",
    "\n",
    "def plusOneOptimised(digits):\n",
    "    carryForward = True\n",
    "    i = len(digits) - 1\n",
    "    while carryForward and i >= 0:\n",
    "        if digits[i] == 9:\n",
    "            digits[i] = 0\n",
    "            carryForward = True\n",
    "            if i == 0:\n",
    "                digits = [1] + digits\n",
    "        else:\n",
    "            digits[i] += 1\n",
    "            carryForward = False\n",
    "        i -= 1\n",
    "    return digits\n",
    "\n",
    "\n",
    "print(plusOneOptimised([9, 9, 9]))"
   ]
  },
  {
   "cell_type": "markdown",
   "id": "2d858103",
   "metadata": {},
   "source": [
    "### Problem 3\n",
    "Given an array of integers nums, calculate the pivot index of this array.\n",
    "\n",
    "The pivot index is the index where the sum of all the numbers strictly to the left of the index is equal to the sum of all the numbers strictly to the index's right.\n",
    "\n",
    "If the index is on the left edge of the array, then the left sum is 0 because there are no elements to the left. This also applies to the right edge of the array.\n",
    "\n",
    "Return the leftmost pivot index. If no such index exists, return -1."
   ]
  },
  {
   "cell_type": "code",
   "execution_count": 86,
   "id": "08eb4c24",
   "metadata": {},
   "outputs": [
    {
     "name": "stdout",
     "output_type": "stream",
     "text": [
      "0\n"
     ]
    }
   ],
   "source": [
    "def pivot_index(nums):\n",
    "    total = sum(nums)\n",
    "    left_sum = 0\n",
    "    for i, num in enumerate(nums):\n",
    "        if left_sum == total - (left_sum + num):\n",
    "            return i\n",
    "        left_sum += num\n",
    "    return -1\n",
    "\n",
    "print(pivot_index([2, 1, -1]))"
   ]
  }
 ],
 "metadata": {
  "kernelspec": {
   "display_name": "venv",
   "language": "python",
   "name": "python3"
  },
  "language_info": {
   "codemirror_mode": {
    "name": "ipython",
    "version": 3
   },
   "file_extension": ".py",
   "mimetype": "text/x-python",
   "name": "python",
   "nbconvert_exporter": "python",
   "pygments_lexer": "ipython3",
   "version": "3.13.5"
  }
 },
 "nbformat": 4,
 "nbformat_minor": 5
}
