{
 "cells": [
  {
   "cell_type": "markdown",
   "id": "710eb429",
   "metadata": {},
   "source": [
    "# 📅 Date: 21-07-2025"
   ]
  },
  {
   "cell_type": "markdown",
   "id": "bdc2136c",
   "metadata": {},
   "source": [
    "## 🔍 Focus Area\n",
    "- Arrays"
   ]
  },
  {
   "cell_type": "markdown",
   "id": "c66f6f75",
   "metadata": {},
   "source": [
    "## ✅ Tasks Completed\n",
    "- [X] Problem 1: **Greatest Common Divisor of Strings** ([Link](https://leetcode.com/problems/greatest-common-divisor-of-strings/description/?envType=study-plan-v2&envId=leetcode-75))\n",
    "- [X] Problem 2: **Kids With the Greatest Number of Candies** ([Link](https://leetcode.com/problems/kids-with-the-greatest-number-of-candies/description/?envType=study-plan-v2&envId=leetcode-75))"
   ]
  },
  {
   "cell_type": "markdown",
   "id": "a0d48fa4",
   "metadata": {},
   "source": [
    "## 🧪 Code Experiments\n"
   ]
  },
  {
   "cell_type": "markdown",
   "id": "63ccbf45",
   "metadata": {},
   "source": [
    "### Problem 1: **Greatest Common Divisor of Strings**\n",
    "For two strings s and t, we say \"t divides s\" if and only if s = t + t + t + ... + t + t (i.e., t is concatenated with itself one or more times).\n",
    "\n",
    "Given two strings str1 and str2, return the largest string x such that x divides both str1 and str2."
   ]
  },
  {
   "cell_type": "code",
   "execution_count": 21,
   "id": "4afacd5a",
   "metadata": {},
   "outputs": [
    {
     "name": "stdout",
     "output_type": "stream",
     "text": [
      "AB\n"
     ]
    }
   ],
   "source": [
    "# Paste your solution here\n",
    "def solution(str1, str2):\n",
    "    if str1 + str2 != str2 + str1:\n",
    "        return \"\"\n",
    "    gcd = calc_gcd(len(str1), len(str2))\n",
    "    return str1[:gcd]\n",
    "\n",
    "\n",
    "def calc_gcd(a, b):\n",
    "    while b:\n",
    "        a, b = b, a % b\n",
    "    return a\n",
    "\n",
    "\n",
    "print(solution(\"ABABAB\", \"AB\"))"
   ]
  },
  {
   "cell_type": "markdown",
   "id": "9a327528",
   "metadata": {},
   "source": [
    "### Problem 2: **Kids With the Greatest Number of Candies**\n",
    "There are n kids with candies. You are given an integer array candies, where each candies[i] represents the number of candies the ith kid has, and an integer extraCandies, denoting the number of extra candies that you have.\n",
    "\n",
    "Return a boolean array result of length n, where result[i] is true if, after giving the ith kid all the extraCandies, they will have the greatest number of candies among all the kids, or false otherwise.\n",
    "\n",
    "Note that multiple kids can have the greatest number of candies."
   ]
  },
  {
   "cell_type": "code",
   "execution_count": 26,
   "id": "2009a828",
   "metadata": {},
   "outputs": [
    {
     "name": "stdout",
     "output_type": "stream",
     "text": [
      "['true', 'true', 'true', 'false', 'true']\n"
     ]
    }
   ],
   "source": [
    "# Paste your solution here\n",
    "def solution(candies, extraCandies):\n",
    "    res = []\n",
    "    max_candy = max(candies)\n",
    "    for i in candies:\n",
    "        if i + extraCandies >= max_candy:\n",
    "            res.append('true')\n",
    "        else:\n",
    "            res.append('false')\n",
    "    return res\n",
    "\n",
    "\n",
    "print(solution([2,3,5,1,3], 3))"
   ]
  }
 ],
 "metadata": {
  "kernelspec": {
   "display_name": "venv",
   "language": "python",
   "name": "python3"
  },
  "language_info": {
   "codemirror_mode": {
    "name": "ipython",
    "version": 3
   },
   "file_extension": ".py",
   "mimetype": "text/x-python",
   "name": "python",
   "nbconvert_exporter": "python",
   "pygments_lexer": "ipython3",
   "version": "3.13.5"
  }
 },
 "nbformat": 4,
 "nbformat_minor": 5
}
