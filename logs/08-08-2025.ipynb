{
 "cells": [
  {
   "cell_type": "markdown",
   "id": "1bc1f9b3",
   "metadata": {},
   "source": [
    "# 📅 Date: 08-08-2025"
   ]
  },
  {
   "cell_type": "markdown",
   "id": "a3fb9408",
   "metadata": {},
   "source": [
    "## 🔍 Focus Area\n",
    "- Recursion"
   ]
  },
  {
   "cell_type": "markdown",
   "id": "0f71693d",
   "metadata": {},
   "source": [
    "## ✅ Tasks Completed\n",
    "- Problem 1: Is magic? ([Link](https://www.scaler.com/academy/mentee-dashboard/class/387851/homework/problems/10359?navref=cl_tt_lst_sl))\n",
    "- Problem 2: Max of an Array Using Recursion ([Link](https://www.scaler.com/academy/mentee-dashboard/class/387851/homework/problems/122783?navref=cl_tt_nv))\n",
    "- Problem 3: First Index using Recursion ([Link](https://www.scaler.com/academy/mentee-dashboard/class/387851/homework/problems/122826?navref=cl_tt_nv))\n",
    "- Problem 4: Last Index using Recursion ([Link](https://www.scaler.com/academy/mentee-dashboard/class/387851/homework/problems/122847?navref=cl_tt_nv))"
   ]
  },
  {
   "cell_type": "markdown",
   "id": "3580e5b3",
   "metadata": {},
   "source": [
    "## 🧪 Code Experiments\n"
   ]
  },
  {
   "cell_type": "markdown",
   "id": "ebd90a24",
   "metadata": {},
   "source": [
    "### Problem 1: Is magic?\n",
    "Given a number A, check if it is a magic number or not.\n",
    "\n",
    "A number is said to be a magic number if the sum of its digits is calculated till a single digit recursively by adding the sum of the digits after every addition. If the single digit comes out to be 1, then the number is a magic number."
   ]
  },
  {
   "cell_type": "code",
   "execution_count": 25,
   "id": "1ab040a4",
   "metadata": {},
   "outputs": [
    {
     "name": "stdout",
     "output_type": "stream",
     "text": [
      "1\n"
     ]
    }
   ],
   "source": [
    "class Solution:\n",
    "    # @param A : integer\n",
    "    # @return an integer\n",
    "    def sum_of_digits(self, A):\n",
    "        if A == 0:\n",
    "            return 0\n",
    "        return A % 10 + self.sum_of_digits(A // 10)\n",
    "\n",
    "    # @param A : integer\n",
    "    # @return an integer\n",
    "    def solve(self, A):\n",
    "        if A < 10 and A == 1:\n",
    "            return 1\n",
    "        elif A < 10:\n",
    "            return 0\n",
    "        return self.solve(self.sum_of_digits(A))\n",
    "\n",
    "\n",
    "print(Solution().solve(83557))"
   ]
  },
  {
   "cell_type": "markdown",
   "id": "a009fa6a",
   "metadata": {},
   "source": [
    "### Problem 2: Max of an Array Using Recursion\n",
    "Given an array A of size N, write a recursive function that returns the maximum element of the array."
   ]
  },
  {
   "cell_type": "code",
   "execution_count": null,
   "id": "102a5b43",
   "metadata": {},
   "outputs": [
    {
     "data": {
      "text/plain": [
       "12"
      ]
     },
     "execution_count": 3,
     "metadata": {},
     "output_type": "execute_result"
    }
   ],
   "source": [
    "# Paste your solution here\n",
    "class Solution:\n",
    "    def maximum(self, A, i, m):\n",
    "        if i == len(A):\n",
    "            return m\n",
    "        return self.maximum(A, i + 1, m if m > A[i] else A[i])\n",
    "\n",
    "    # @param A : integer\n",
    "    def getMax(self, A):\n",
    "        max = float(\"-inf\")\n",
    "        return self.maximum(A, 0, max)\n",
    "\n",
    "\n",
    "Solution().getMax([12, 10, 3, 4, 5])"
   ]
  },
  {
   "cell_type": "markdown",
   "id": "a403e052",
   "metadata": {},
   "source": [
    "### Problem 3: First Index using Recursion\n",
    "You are given an array A of size N. Write a recursive function that returns the first index at which an integer B is found in the array.\n",
    "\n",
    "NOTE: If B is not found anywhere in the array then return -1."
   ]
  },
  {
   "cell_type": "code",
   "execution_count": 10,
   "id": "1bbc24fd",
   "metadata": {},
   "outputs": [
    {
     "data": {
      "text/plain": [
       "3"
      ]
     },
     "execution_count": 10,
     "metadata": {},
     "output_type": "execute_result"
    }
   ],
   "source": [
    "class Solution:\n",
    "    def searchRec(self, A, B, i):\n",
    "        if i == len(A):\n",
    "            return -1\n",
    "        if A[i] == B:\n",
    "            return i\n",
    "        return self.searchRec(A, B, i + 1)\n",
    "\n",
    "    # @param A : list of integers\n",
    "    # @param B : integer\n",
    "    # @return an integer\n",
    "    def FirstIndex(self, A, B):\n",
    "        return self.searchRec(A, B, 0)\n",
    "\n",
    "\n",
    "Solution().FirstIndex([-3, 5, 6, 2], 2)"
   ]
  },
  {
   "cell_type": "markdown",
   "id": "e33b622b",
   "metadata": {},
   "source": [
    "### Problem 4: Last Index using Recursion\n",
    "You are given an array A of size N. Write a recursive function that returns the last index at which an integer B is found in the array.\n",
    "\n",
    "NOTE: If B is not found anywhere in the array then return -1."
   ]
  },
  {
   "cell_type": "code",
   "execution_count": 11,
   "id": "d2a16dc8",
   "metadata": {},
   "outputs": [
    {
     "data": {
      "text/plain": [
       "2"
      ]
     },
     "execution_count": 11,
     "metadata": {},
     "output_type": "execute_result"
    }
   ],
   "source": [
    "# Paste your solution here\n",
    "class Solution:\n",
    "    def searchRec(self, A, B, i, last_index):\n",
    "        if i == len(A):\n",
    "            return last_index\n",
    "        if A[i] == B:\n",
    "            last_index = i\n",
    "        return self.searchRec(A, B, i + 1, last_index)\n",
    "\n",
    "    # @param A : list of integers\n",
    "    # @param B : integer\n",
    "    # @return an integer\n",
    "    def LastIndex(self, A, B):\n",
    "        return self.searchRec(A, B, 0, -1)\n",
    "\n",
    "\n",
    "Solution().LastIndex([6, 5, 6, 2], 6)"
   ]
  }
 ],
 "metadata": {
  "kernelspec": {
   "display_name": "venv (3.13.5)",
   "language": "python",
   "name": "python3"
  },
  "language_info": {
   "codemirror_mode": {
    "name": "ipython",
    "version": 3
   },
   "file_extension": ".py",
   "mimetype": "text/x-python",
   "name": "python",
   "nbconvert_exporter": "python",
   "pygments_lexer": "ipython3",
   "version": "3.13.5"
  }
 },
 "nbformat": 4,
 "nbformat_minor": 5
}
