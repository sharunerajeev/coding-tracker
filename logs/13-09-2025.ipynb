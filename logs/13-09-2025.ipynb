{
 "cells": [
  {
   "cell_type": "markdown",
   "id": "a803f646",
   "metadata": {},
   "source": [
    "# 📅 Date: 13-09-2025"
   ]
  },
  {
   "cell_type": "markdown",
   "id": "feee0c72",
   "metadata": {},
   "source": [
    "## 🔍 Focus Area\n",
    "- Queues and Stack"
   ]
  },
  {
   "cell_type": "markdown",
   "id": "814a8816",
   "metadata": {},
   "source": [
    "## ✅ Tasks Completed\n",
    "- Problem 1: Queue Using Stacks ([Link](https://www.scaler.com/academy/mentee-dashboard/class/387875/assignment/problems/11439?navref=cl_tt_lst_sl))\n",
    "- Problem 2: Parking Ice Cream Truck ([Link](https://www.scaler.com/academy/mentee-dashboard/class/387875/assignment/problems/50?navref=cl_tt_nv))\n",
    "- Problem 3: Next Greater ([Link](https://www.scaler.com/academy/mentee-dashboard/class/387869/homework/problems/263/submissions))\n",
    "- Problem 4: Redundant Braces ([Link](https://www.scaler.com/academy/mentee-dashboard/class/387869/homework/problems/274?navref=cl_tt_nv))"
   ]
  },
  {
   "cell_type": "markdown",
   "id": "680f2c4d",
   "metadata": {},
   "source": [
    "## 🧪 Code Experiments\n"
   ]
  },
  {
   "cell_type": "markdown",
   "id": "1a1b041b",
   "metadata": {},
   "source": [
    "### Problem 1: Queue Using Stacks\n",
    "Implement a First In First Out (FIFO) queue using stacks only.\n",
    "\n",
    "The implemented queue should support all the functions of a normal queue (push, peek, pop, and empty).\n",
    "\n",
    "Implement the UserQueue class:\n",
    "\n",
    "- void push(int X) : Pushes element X to the back of the queue.\n",
    "- int pop() : Removes the element from the front of the queue and returns it.\n",
    "- int peek() : Returns the element at the front of the queue.\n",
    "- boolean empty() : Returns true if the queue is empty, false otherwise.\n",
    "\n",
    "NOTES:\n",
    "You must use only standard operations of a stack, which means only push to top, peek/pop from top, size, and is empty operations are valid.\n",
    "Depending on your language, the stack may not be supported natively. You may simulate a stack using a list or deque (double-ended queue) as long as you use only a stack's standard operations."
   ]
  },
  {
   "cell_type": "code",
   "execution_count": 10,
   "id": "5a5dc79f",
   "metadata": {},
   "outputs": [
    {
     "name": "stdout",
     "output_type": "stream",
     "text": [
      "False\n",
      "20\n",
      "20\n",
      "True\n",
      "30\n",
      "30\n"
     ]
    }
   ],
   "source": [
    "class UserQueue:\n",
    "    def __init__(self):\n",
    "        self.main_stack = []\n",
    "        self.aux_stack = []\n",
    "\n",
    "    def push(self, x: int) -> None:\n",
    "        self.main_stack.append(x)\n",
    "\n",
    "    def pop(self) -> int:\n",
    "        if self.aux_stack:\n",
    "            return self.aux_stack.pop()\n",
    "        while self.main_stack:\n",
    "            self.aux_stack.append(self.main_stack.pop())\n",
    "        return self.aux_stack.pop()\n",
    "\n",
    "    def peek(self) -> int:\n",
    "        if self.aux_stack:\n",
    "            return self.aux_stack[-1]\n",
    "        while self.main_stack:\n",
    "            self.aux_stack.append(self.main_stack.pop())\n",
    "        return self.aux_stack[-1]\n",
    "\n",
    "    def empty(self) -> bool:\n",
    "        return not self.main_stack and not self.aux_stack\n",
    "\n",
    "\n",
    "# Your UserQueue object will be instantiated and called as such:\n",
    "obj = UserQueue()\n",
    "obj.push(20)\n",
    "print(obj.empty())\n",
    "print(obj.peek())\n",
    "print(obj.pop())\n",
    "print(obj.empty())\n",
    "obj.push(30)\n",
    "print(obj.peek())\n",
    "obj.push(40)\n",
    "print(obj.peek())"
   ]
  },
  {
   "cell_type": "markdown",
   "id": "5915c867",
   "metadata": {},
   "source": [
    "### Problem 2: Parking Ice Cream Truck\n",
    "\n",
    "Imagine you're an ice cream truck driver in a beachside town. The beach is divided into several sections, and each section has varying numbers of beachgoers wanting ice cream given by the array of integers A.\n",
    "\n",
    "For simplicity, let's say the beach is divided into 8 sections. One day, you note down the number of potential customers in each section: [5, 12, 3, 4, 8, 10, 2, 7]. This means there are 5 people in the first section, 12 in the second, and so on.\n",
    "\n",
    "You can only stop your truck in B consecutive sections at a time because of parking restrictions. To maximize sales, you want to park where the most customers are clustered together.\n",
    "\n",
    "For all B consecutive sections, identify the busiest stretch to park your ice cream truck and serve the most customers. Return an array C, where C[i] is the busiest section in each of the B consecutive sections. Refer to the given example for clarity.\n",
    "\n",
    "NOTE: If B > length of the array, return 1 element with the max of the array."
   ]
  },
  {
   "cell_type": "code",
   "execution_count": 19,
   "id": "2492f09b",
   "metadata": {},
   "outputs": [
    {
     "data": {
      "text/plain": [
       "[3, 3, 5, 5, 6, 7]"
      ]
     },
     "execution_count": 19,
     "metadata": {},
     "output_type": "execute_result"
    }
   ],
   "source": [
    "from collections import deque\n",
    "\n",
    "\n",
    "class Solution:\n",
    "    # @param A : integer\n",
    "    def solve(self, A, B):\n",
    "        n = len(A)\n",
    "        ans = [0 for _ in range(n - B + 1)]\n",
    "        dq = deque()\n",
    "        # For the first B elements\n",
    "        for i in range(B):\n",
    "            while dq and A[dq[-1]] <= A[i]:\n",
    "                dq.pop()\n",
    "            dq.append(i)\n",
    "\n",
    "        # For the next set of elements\n",
    "        for i in range(B - 1, n):\n",
    "            while dq and A[dq[-1]] <= A[i]:\n",
    "                dq.pop()\n",
    "            dq.append(i)\n",
    "            if dq[0] <= i - B:\n",
    "                dq.popleft()\n",
    "            ans[i - B + 1] = dq[0]\n",
    "\n",
    "        for i in range(len(ans)):\n",
    "            ans[i] = A[ans[i]]\n",
    "        return ans\n",
    "\n",
    "\n",
    "Solution().solve([1, 3, -1, -3, 5, 3, 6, 7], 3)"
   ]
  },
  {
   "cell_type": "markdown",
   "id": "486d2f5d",
   "metadata": {},
   "source": [
    "### Problem 3: Next Greater\n",
    "Given an array A, find the next greater element G[i] for every element A[i] in the array.\n",
    "The next greater element for an element A[i] is the first greater element on the right side of A[i] in the array, A.\n",
    "\n",
    "More formally:\n",
    "\n",
    "G[i] for an element A[i] = an element A[j] such that  \n",
    "    j is minimum possible AND  \n",
    "    j > i AND  \n",
    "    A[j] > A[i]  \n",
    "Elements for which no greater element exists, consider the next greater element as -1."
   ]
  },
  {
   "cell_type": "code",
   "execution_count": 27,
   "id": "5e70148f",
   "metadata": {},
   "outputs": [
    {
     "data": {
      "text/plain": [
       "[5, 10, 10, -1]"
      ]
     },
     "execution_count": 27,
     "metadata": {},
     "output_type": "execute_result"
    }
   ],
   "source": [
    "# Paste your solution here\n",
    "class Solution:\n",
    "    # @param A : integer\n",
    "    def solve(self, A):\n",
    "        n = len(A)\n",
    "        stack = []\n",
    "        next_greater = [0 for _ in range(n)]\n",
    "        for i in range(n - 1, -1, -1):\n",
    "            while stack and A[stack[-1]] <= A[i]:\n",
    "                stack.pop()\n",
    "            if stack:\n",
    "                next_greater[i] = stack[-1]\n",
    "            else:\n",
    "                next_greater[i] = -1\n",
    "            stack.append(i)\n",
    "        for i in range(len(next_greater)):\n",
    "            if next_greater[i] != -1:\n",
    "                next_greater[i] = A[next_greater[i]]\n",
    "        return next_greater\n",
    "\n",
    "\n",
    "Solution().solve([4, 5, 2, 10])"
   ]
  },
  {
   "cell_type": "markdown",
   "id": "bbe65e29",
   "metadata": {},
   "source": [
    "### Problem 4: Redundant Braces\n",
    "Given a string A denoting an expression. It contains the following operators '+', '-', '*', '/'.\n",
    "\n",
    "Check whether A has redundant braces or not.\n",
    "\n",
    "NOTE: A will be always a valid expression and will not contain any white spaces."
   ]
  },
  {
   "cell_type": "code",
   "execution_count": 43,
   "id": "045c618b",
   "metadata": {},
   "outputs": [
    {
     "data": {
      "text/plain": [
       "1"
      ]
     },
     "execution_count": 43,
     "metadata": {},
     "output_type": "execute_result"
    }
   ],
   "source": [
    "# Paste your solution here\n",
    "class Solution:\n",
    "    # @param A : integer\n",
    "    def solve(self, A):\n",
    "        stack = []\n",
    "        for ch in A:\n",
    "            if ch != \")\":\n",
    "                stack.append(ch)\n",
    "            else:\n",
    "                operator_found = False\n",
    "                while stack and stack[-1] != '(':\n",
    "                    popped_element = stack.pop()\n",
    "                    if popped_element in ['+', '-', '*', '/']:\n",
    "                        operator_found = True\n",
    "                stack.pop()\n",
    "                if not operator_found:\n",
    "                    return 1\n",
    "        return 0\n",
    "\n",
    "\n",
    "Solution().solve(\"(a)\")"
   ]
  }
 ],
 "metadata": {
  "kernelspec": {
   "display_name": "venv (3.13.5)",
   "language": "python",
   "name": "python3"
  },
  "language_info": {
   "codemirror_mode": {
    "name": "ipython",
    "version": 3
   },
   "file_extension": ".py",
   "mimetype": "text/x-python",
   "name": "python",
   "nbconvert_exporter": "python",
   "pygments_lexer": "ipython3",
   "version": "3.13.5"
  }
 },
 "nbformat": 4,
 "nbformat_minor": 5
}
