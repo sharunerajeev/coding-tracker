{
 "cells": [
  {
   "cell_type": "markdown",
   "id": "5b32804e",
   "metadata": {},
   "source": [
    "# 📅 Date: 28-08-2025"
   ]
  },
  {
   "cell_type": "markdown",
   "id": "846ffdb0",
   "metadata": {},
   "source": [
    "## 🔍 Focus Area\n",
    "- Searching"
   ]
  },
  {
   "cell_type": "markdown",
   "id": "d9ea5451",
   "metadata": {},
   "source": [
    "## ✅ Tasks Completed\n",
    "\n",
    "- Problem 1: Binary Search ([Link](#))\n",
    "- Problem 2: Find A Local Minima ([Link](#))\n",
    "- Problem 3: Sorted Insert Position ([Link](https://www.scaler.com/academy/mentee-dashboard/class/387833/assignment/problems/204))\n",
    "- Problem 4: Search for a Range ([Link](https://www.scaler.com/academy/mentee-dashboard/class/387833/assignment/problems/199?navref=cl_tt_lst_sl))\n",
    "- Problem 5: Square Root of Integer ([Link](https://www.scaler.com/academy/mentee-dashboard/class/387833/assignment/problems/200?navref=cl_tt_nv))\n",
    "- Problem 6: Find a peak element ([Link](https://www.scaler.com/academy/mentee-dashboard/class/387833/assignment/problems/4132?navref=cl_tt_nv))\n",
    "- Problem 7: Maximum height of staircase ([Link](https://www.scaler.com/academy/mentee-dashboard/class/387833/homework/problems/4101?navref=cl_tt_lst_sl))\n",
    "- Problem 8: Matrix Search ([Link](https://www.scaler.com/academy/mentee-dashboard/class/387833/homework/problems/196?navref=cl_tt_nv))\n",
    "- Problem 9: Matrix Search ([Link](https://www.scaler.com/academy/mentee-dashboard/class/387833/homework/problems/196?navref=cl_tt_nv))"
   ]
  },
  {
   "cell_type": "markdown",
   "id": "437aaec4",
   "metadata": {},
   "source": [
    "## 🧪 Code Experiments\n"
   ]
  },
  {
   "cell_type": "markdown",
   "id": "0a0bc173",
   "metadata": {},
   "source": [
    "### Problem 1: Binary Search\n",
    "For given array A find the index where element B is present, if not present return -1"
   ]
  },
  {
   "cell_type": "code",
   "execution_count": 15,
   "id": "b2e1231c",
   "metadata": {},
   "outputs": [
    {
     "data": {
      "text/plain": [
       "4"
      ]
     },
     "execution_count": 15,
     "metadata": {},
     "output_type": "execute_result"
    }
   ],
   "source": [
    "# Paste your solution here\n",
    "class Solution:\n",
    "    # @param A : integer\n",
    "    def solve(self, A, B):\n",
    "        l, h = 0, len(A)  # Low, High\n",
    "        while l <= h:\n",
    "            mid = (l + h) // 2\n",
    "            if A[mid] == B:\n",
    "                return A[mid]\n",
    "            elif A[mid] < B:\n",
    "                l = mid + 1\n",
    "            else:\n",
    "                h = mid - 1\n",
    "        return -1\n",
    "\n",
    "\n",
    "Solution().solve([1, 4, 25, 36, 220], 4)"
   ]
  },
  {
   "cell_type": "markdown",
   "id": "19729332",
   "metadata": {},
   "source": [
    "### Problem 2: Find a local minima\n",
    "For an array A with distinct elements, find any local minima. Local minima is element where the neighbouring element is greater."
   ]
  },
  {
   "cell_type": "code",
   "execution_count": 23,
   "id": "5831cadb",
   "metadata": {},
   "outputs": [
    {
     "data": {
      "text/plain": [
       "2"
      ]
     },
     "execution_count": 23,
     "metadata": {},
     "output_type": "execute_result"
    }
   ],
   "source": [
    "# Paste your solution here\n",
    "class Solution:\n",
    "    # @param A : integer\n",
    "    def solve(self, A):\n",
    "        l, h = 0, len(A) - 1\n",
    "        while l <= h:\n",
    "            mid = (l + h) // 2\n",
    "            leftGreater = (mid == 0) or (A[mid - 1] > A[mid])\n",
    "            rightGreater = (mid == len(A) - 1) or (A[mid + 1] > A[mid])\n",
    "            if leftGreater and rightGreater:\n",
    "                return A[mid]\n",
    "            elif leftGreater:\n",
    "                l = mid + 1\n",
    "            else:\n",
    "                h = mid - 1\n",
    "        return -1\n",
    "\n",
    "\n",
    "Solution().solve([9, 8, 2, 7, 6, 4, 1, 5])"
   ]
  },
  {
   "cell_type": "markdown",
   "id": "7751847e",
   "metadata": {},
   "source": [
    "### Problem 3: Sorted Insert Position\n",
    "You are given a sorted array A of size N and a target value B.\n",
    "Your task is to find the index (0-based indexing) of the target value in the array.\n",
    "\n",
    "If the target value is present, return its index.\n",
    "If the target value is not found, return the index of least element greater than equal to B.\n",
    "If the target value is not found and least number greater than equal to target is also not present, return the length of array (i.e. the position where target can be placed)\n",
    "Your solution should have a time complexity of O(log(N))."
   ]
  },
  {
   "cell_type": "code",
   "execution_count": 19,
   "id": "287820c3",
   "metadata": {},
   "outputs": [
    {
     "data": {
      "text/plain": [
       "4"
      ]
     },
     "execution_count": 19,
     "metadata": {},
     "output_type": "execute_result"
    }
   ],
   "source": [
    "# Paste your solution here\n",
    "class Solution:\n",
    "    # @param A : integer\n",
    "    def solve(self, A, B):\n",
    "        n = len(A)\n",
    "        l, h = 0, n - 1\n",
    "        while l <= h:\n",
    "            mid = (l + h) // 2\n",
    "            if A[mid] == B:\n",
    "                return mid\n",
    "            elif A[mid] < B:\n",
    "                l = mid + 1\n",
    "            else:\n",
    "                h = mid - 1\n",
    "        return l\n",
    "\n",
    "\n",
    "Solution().solve(\n",
    "    [1, 3, 5, 6],\n",
    "    7,\n",
    ")"
   ]
  },
  {
   "cell_type": "markdown",
   "id": "dfab7fc8",
   "metadata": {},
   "source": [
    "### Problem 4: Search for a Range\n",
    "Given a sorted array of integers A (0-indexed) of size N, find the left most and the right most index of a given integer B in the array A.\n",
    "\n",
    "Return an array of size 2, such that \n",
    "          First element = Left most index of B in A\n",
    "          Second element = Right most index of B in A.\n",
    "If B is not found in A, return [-1, -1].\n",
    "\n",
    "Note : Note: The time complexity of your algorithm must be O(log n).."
   ]
  },
  {
   "cell_type": "code",
   "execution_count": 34,
   "id": "618f0bba",
   "metadata": {},
   "outputs": [
    {
     "data": {
      "text/plain": [
       "[3, 4]"
      ]
     },
     "execution_count": 34,
     "metadata": {},
     "output_type": "execute_result"
    }
   ],
   "source": [
    "# Paste your solution here\n",
    "class Solution:\n",
    "    # @param A : integer\n",
    "    def solve(self, A, B):\n",
    "        n = len(A)\n",
    "        l, h = 0, n - 1\n",
    "        res = [-1, -1]  # Left most range, Right most range\n",
    "        while l <= h:\n",
    "            mid = (l + h) // 2\n",
    "            if A[mid] == B:\n",
    "                res[0] = mid\n",
    "                h = mid - 1\n",
    "            elif A[mid] > B:\n",
    "                h = mid - 1\n",
    "            else:\n",
    "                l = mid + 1\n",
    "        l, h = 0, n - 1\n",
    "        while l <= h:\n",
    "            mid = (l + h) // 2\n",
    "            if A[mid] == B:\n",
    "                res[1] = mid\n",
    "                l = mid + 1\n",
    "            elif A[mid] > B:\n",
    "                h = mid - 1\n",
    "            else:\n",
    "                l = mid + 1\n",
    "        return res\n",
    "\n",
    "\n",
    "Solution().solve([5, 7, 7, 8, 8, 10], 8)"
   ]
  },
  {
   "cell_type": "markdown",
   "id": "fe0d7970",
   "metadata": {},
   "source": [
    "### Problem 5: Square Root of Integer\n",
    "Given an integer A. Compute and return the square root of A. If A is not a perfect square, return floor(sqrt(A)).\n",
    "\n",
    "NOTE: The value of A*A can cross the range of Integer. Do not use the sqrt function from the standard library.    \n",
    "\n",
    "Users are expected to solve this in O(log(A)) time."
   ]
  },
  {
   "cell_type": "code",
   "execution_count": 3,
   "id": "edb06e85",
   "metadata": {},
   "outputs": [
    {
     "data": {
      "text/plain": [
       "3"
      ]
     },
     "execution_count": 3,
     "metadata": {},
     "output_type": "execute_result"
    }
   ],
   "source": [
    "# Paste your solution here\n",
    "class Solution:\n",
    "    # @param A : integer\n",
    "    def sqrt(self, A):\n",
    "        l, h = 0, A\n",
    "        sqaure_root = A\n",
    "        while l <= h:\n",
    "            mid = (l + h) // 2\n",
    "            if (mid * mid) == A:\n",
    "                return mid\n",
    "            elif (mid * mid) < A:\n",
    "                sqaure_root = mid\n",
    "                l = mid + 1\n",
    "            else:\n",
    "                h = mid - 1\n",
    "        return sqaure_root\n",
    "\n",
    "\n",
    "Solution().sqrt(9)"
   ]
  },
  {
   "cell_type": "markdown",
   "id": "856a83c5",
   "metadata": {},
   "source": [
    "### Problem 6: Find a peak element\n",
    "Given an array of integers A, find and return the peak element in it.\n",
    "\n",
    "An array element is considered a peak if it is not smaller than its neighbors. For corner elements, we need to consider only one neighbor.\n",
    "\n",
    "NOTE:It is guaranteed that the array contains only a single peak element.Users are expected to solve this in O(log(N)) time. The array may contain duplicate elements.\n"
   ]
  },
  {
   "cell_type": "code",
   "execution_count": 16,
   "id": "63565a27",
   "metadata": {},
   "outputs": [
    {
     "data": {
      "text/plain": [
       "1000000000"
      ]
     },
     "execution_count": 16,
     "metadata": {},
     "output_type": "execute_result"
    }
   ],
   "source": [
    "# Paste your solution here\n",
    "class Solution:\n",
    "    # @param A : integer\n",
    "    def solve(self, A):\n",
    "        n = len(A)\n",
    "        l, h = 0, n - 1\n",
    "        while l <= h:\n",
    "            mid = (l + h) // 2\n",
    "            leftSmaller = (mid == 0) or (A[mid - 1] < A[mid])\n",
    "            rightSmaller = (mid == n - 1) or (A[mid + 1] < A[mid])\n",
    "            if leftSmaller and rightSmaller:\n",
    "                return A[mid]\n",
    "            elif leftSmaller:\n",
    "                l = mid + 1\n",
    "            else:\n",
    "                h = mid - 1\n",
    "        return A[mid]\n",
    "\n",
    "\n",
    "Solution().solve([1, 1000000000, 1000000000])"
   ]
  },
  {
   "cell_type": "markdown",
   "id": "103604ac",
   "metadata": {},
   "source": [
    "### Problem 7: Maximum height of staircase\n",
    "Given an integer A representing the number of square blocks. The height of each square block is 1. The task is to create a staircase of max-height using these blocks.\n",
    "The first stair would require only one block, and the second stair would require two blocks, and so on.\n",
    "Find and return the maximum height of the staircase."
   ]
  },
  {
   "cell_type": "code",
   "execution_count": 22,
   "id": "6ce61b49",
   "metadata": {},
   "outputs": [
    {
     "data": {
      "text/plain": [
       "5"
      ]
     },
     "execution_count": 22,
     "metadata": {},
     "output_type": "execute_result"
    }
   ],
   "source": [
    "# Paste your solution here\n",
    "class Solution:\n",
    "    # @param A : integer\n",
    "    def solve(self, A):\n",
    "        total_blocks = A\n",
    "        block = 1\n",
    "        while block <= total_blocks:\n",
    "            total_blocks -= block\n",
    "            block += 1\n",
    "        return block - 1\n",
    "\n",
    "\n",
    "Solution().solve(20)"
   ]
  },
  {
   "cell_type": "markdown",
   "id": "01f30893",
   "metadata": {},
   "source": [
    "### Problem 8: Matrix Search\n",
    "Given a matrix of integers A of size N x M and an integer B. \n",
    "Write an efficient algorithm that searches for integer B in matrix A.\n",
    "This matrix A has the following properties:Integers in each row are sorted from left to right. The first integer of each row is greater than or equal to the last integer of the previous row.Return 1 if B is present in A, else return 0.\n",
    "NOTE: Rows are numbered from top to bottom, and columns are from left to right.\n"
   ]
  },
  {
   "cell_type": "code",
   "execution_count": 40,
   "id": "26cdf48b",
   "metadata": {},
   "outputs": [
    {
     "data": {
      "text/plain": [
       "1"
      ]
     },
     "execution_count": 40,
     "metadata": {},
     "output_type": "execute_result"
    }
   ],
   "source": [
    "# Paste your solution here\n",
    "class Solution:\n",
    "    # @param A : integer\n",
    "    def solve(self, A, B):\n",
    "        n, m = len(A), len(A[0])\n",
    "        l, r = 0, (n * m) - 1\n",
    "        while l <= r:\n",
    "            mid = (l + r) // 2\n",
    "            row, col = mid // m, mid % m\n",
    "            val = A[row][col]\n",
    "            if val == B:\n",
    "                return 1\n",
    "            elif val < B:\n",
    "                l = mid + 1\n",
    "            else:\n",
    "                r = mid - 1\n",
    "        return 0\n",
    "\n",
    "\n",
    "Solution().solve(\n",
    "    [[1]],\n",
    "    1,\n",
    ")"
   ]
  }
 ],
 "metadata": {
  "kernelspec": {
   "display_name": "venv (3.13.5)",
   "language": "python",
   "name": "python3"
  },
  "language_info": {
   "codemirror_mode": {
    "name": "ipython",
    "version": 3
   },
   "file_extension": ".py",
   "mimetype": "text/x-python",
   "name": "python",
   "nbconvert_exporter": "python",
   "pygments_lexer": "ipython3",
   "version": "3.13.7"
  }
 },
 "nbformat": 4,
 "nbformat_minor": 5
}
