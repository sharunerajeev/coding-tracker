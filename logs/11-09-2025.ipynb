{
 "cells": [
  {
   "cell_type": "markdown",
   "id": "27014a8f",
   "metadata": {},
   "source": [
    "# 📅 Date: 11-09-2025"
   ]
  },
  {
   "cell_type": "markdown",
   "id": "a5fc7cc4",
   "metadata": {},
   "source": [
    "## 🔍 Focus Area\n",
    "- Stack"
   ]
  },
  {
   "cell_type": "markdown",
   "id": "98ac4c82",
   "metadata": {},
   "source": [
    "## ✅ Tasks Completed\n",
    "- Problem 1: Largest Rectangle in Histogram ([Link](https://www.scaler.com/academy/mentee-dashboard/class/387857/assignment/problems/49?navref=cl_tt_lst_sl))\n",
    "- Problem 2: MAX and MIN ([Link](https://www.scaler.com/academy/mentee-dashboard/class/387857/assignment/problems/7042?navref=cl_tt_nv))"
   ]
  },
  {
   "cell_type": "markdown",
   "id": "c3c8596b",
   "metadata": {},
   "source": [
    "## 🧪 Code Experiments\n"
   ]
  },
  {
   "cell_type": "markdown",
   "id": "8c728e57",
   "metadata": {},
   "source": [
    "### Problem 1: Largest Rectangle in Histogram\n",
    "Given an array of integers A.\n",
    "\n",
    "A represents a histogram i.e A[i] denotes the height of the ith histogram's bar. Width of each bar is 1.\n",
    "\n",
    "Find the area of the largest rectangle formed by the histogram."
   ]
  },
  {
   "cell_type": "code",
   "execution_count": 26,
   "id": "86043c9a",
   "metadata": {},
   "outputs": [
    {
     "data": {
      "text/plain": [
       "2"
      ]
     },
     "execution_count": 26,
     "metadata": {},
     "output_type": "execute_result"
    }
   ],
   "source": [
    "class Solution:\n",
    "    # @param A : integer\n",
    "    def solve(self, A):\n",
    "        n = len(A)\n",
    "        previous_smaller_elements = [0 for _ in range(n)]\n",
    "        next_smaller_elements = [0 for _ in range(n)]\n",
    "        stack = []\n",
    "        for i in range(n):\n",
    "            while stack and A[stack[-1]] >= A[i]:\n",
    "                stack.pop()\n",
    "            if stack:\n",
    "                previous_smaller_elements[i] = stack[-1]\n",
    "            else:\n",
    "                previous_smaller_elements[i] = -1\n",
    "            stack.append(i)\n",
    "        stack = []\n",
    "        for i in range(n - 1, -1, -1):\n",
    "            while stack and A[stack[-1]] >= A[i]:\n",
    "                stack.pop()\n",
    "            if stack:\n",
    "                next_smaller_elements[i] = stack[-1]\n",
    "            else:\n",
    "                next_smaller_elements[i] = n\n",
    "            stack.append(i)\n",
    "\n",
    "        area = 0\n",
    "        for center in range(n):\n",
    "            area = max(\n",
    "                area,\n",
    "                A[center]\n",
    "                * (\n",
    "                    next_smaller_elements[center]\n",
    "                    - previous_smaller_elements[center]\n",
    "                    - 1\n",
    "                ),\n",
    "            )\n",
    "        return area\n",
    "\n",
    "\n",
    "Solution().solve([2])"
   ]
  },
  {
   "cell_type": "markdown",
   "id": "fc2e8b91",
   "metadata": {},
   "source": [
    "### Problem 2: MAX and MIN\n",
    "Given an array of integers A.\n",
    "\n",
    "The value of an array is computed as the difference between the maximum element in the array and the minimum element in the array A.\n",
    "\n",
    "Calculate and return the sum of values of all possible subarrays of A modulo 109+7."
   ]
  },
  {
   "cell_type": "code",
   "execution_count": 32,
   "id": "17b2dddc",
   "metadata": {},
   "outputs": [
    {
     "data": {
      "text/plain": [
       "26"
      ]
     },
     "execution_count": 32,
     "metadata": {},
     "output_type": "execute_result"
    }
   ],
   "source": [
    "# Paste your solution here\n",
    "class Solution:\n",
    "    # @param A : integer\n",
    "    def solve(self, A):\n",
    "        n = len(A)\n",
    "        previous_smaller_element = [0 for _ in range(n)]\n",
    "        next_smaller_element = [0 for _ in range(n)]\n",
    "        previous_greater_element = [0 for _ in range(n)]\n",
    "        next_greater_element = [0 for _ in range(n)]\n",
    "        stack = []\n",
    "        for i in range(n):\n",
    "            while stack and A[stack[-1]] >= A[i]:\n",
    "                stack.pop()\n",
    "            if stack:\n",
    "                previous_smaller_element[i] = stack[-1]\n",
    "            else:\n",
    "                previous_smaller_element[i] = -1\n",
    "            stack.append(i)\n",
    "\n",
    "        stack = []\n",
    "        for i in range(n - 1, -1, -1):\n",
    "            while stack and A[stack[-1]] > A[i]:\n",
    "                stack.pop()\n",
    "            if stack:\n",
    "                next_smaller_element[i] = stack[-1]\n",
    "            else:\n",
    "                next_smaller_element[i] = n\n",
    "            stack.append(i)\n",
    "\n",
    "        stack = []\n",
    "        for i in range(n):\n",
    "            while stack and A[stack[-1]] <= A[i]:\n",
    "                stack.pop()\n",
    "            if stack:\n",
    "                previous_greater_element[i] = stack[-1]\n",
    "            else:\n",
    "                previous_greater_element[i] = -1\n",
    "            stack.append(i)\n",
    "\n",
    "        stack = []\n",
    "        for i in range(n - 1, -1, -1):\n",
    "            while stack and A[stack[-1]] < A[i]:\n",
    "                stack.pop()\n",
    "            if stack:\n",
    "                next_greater_element[i] = stack[-1]\n",
    "            else:\n",
    "                next_greater_element[i] = n\n",
    "            stack.append(i)\n",
    "\n",
    "        total_sum = 0\n",
    "        for i in range(n):\n",
    "            total_sum += (\n",
    "                A[i] * (i - previous_greater_element[i]) * (next_greater_element[i] - i)\n",
    "            )\n",
    "            total_sum -= (\n",
    "                A[i] * (i - previous_smaller_element[i]) * (next_smaller_element[i] - i)\n",
    "            )\n",
    "        return total_sum % 1000000007\n",
    "\n",
    "\n",
    "Solution().solve([4, 7, 3, 8])"
   ]
  }
 ],
 "metadata": {
  "kernelspec": {
   "display_name": "venv (3.13.5)",
   "language": "python",
   "name": "python3"
  },
  "language_info": {
   "codemirror_mode": {
    "name": "ipython",
    "version": 3
   },
   "file_extension": ".py",
   "mimetype": "text/x-python",
   "name": "python",
   "nbconvert_exporter": "python",
   "pygments_lexer": "ipython3",
   "version": "3.13.7"
  }
 },
 "nbformat": 4,
 "nbformat_minor": 5
}
