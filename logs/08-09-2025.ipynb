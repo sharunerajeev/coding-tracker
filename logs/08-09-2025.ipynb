{
 "cells": [
  {
   "cell_type": "markdown",
   "id": "372cf088",
   "metadata": {},
   "source": [
    "# 📅 Date: 08-09-2025"
   ]
  },
  {
   "cell_type": "markdown",
   "id": "e9ea31dd",
   "metadata": {},
   "source": [
    "## 🔍 Focus Area\n",
    "- Stacks"
   ]
  },
  {
   "cell_type": "markdown",
   "id": "b04e6dd7",
   "metadata": {},
   "source": [
    "## ✅ Tasks Completed\n",
    "- Problem 1: Balanced Paranthesis ([Link](https://www.scaler.com/academy/mentee-dashboard/class/387869/assignment/problems/678?navref=cl_tt_lst_sl))"
   ]
  },
  {
   "cell_type": "markdown",
   "id": "630cd4d9",
   "metadata": {},
   "source": [
    "## 🧪 Code Experiments\n"
   ]
  },
  {
   "cell_type": "markdown",
   "id": "91e84012",
   "metadata": {},
   "source": [
    "### Problem 1: Balanced Paranthesis\n",
    "Given an expression string A, examine whether the pairs and the orders of “{“,”}”, ”(“,”)”, ”[“,”]” are correct in A.\n",
    "\n",
    "Refer to the examples for more clarity."
   ]
  },
  {
   "cell_type": "code",
   "execution_count": 1,
   "id": "9747012e",
   "metadata": {},
   "outputs": [
    {
     "data": {
      "text/plain": [
       "True"
      ]
     },
     "execution_count": 1,
     "metadata": {},
     "output_type": "execute_result"
    }
   ],
   "source": [
    "# Paste your solution here\n",
    "class Solution:\n",
    "    # @param A : integer\n",
    "    def solve(self, A):\n",
    "        stack = []\n",
    "        matching = {\")\": \"(\", \"}\": \"{\", \"]\": \"[\"}\n",
    "\n",
    "        for ch in A:\n",
    "            if ch in \"({[\":\n",
    "                stack.append(ch)\n",
    "            elif ch in \")}]\":\n",
    "                if not stack or stack[-1] != matching[ch]:\n",
    "                    return False\n",
    "                stack.pop()\n",
    "\n",
    "        return len(stack) == 0\n",
    "\n",
    "\n",
    "Solution().solve(\"{([])}\")"
   ]
  }
 ],
 "metadata": {
  "kernelspec": {
   "display_name": "venv (3.13.5)",
   "language": "python",
   "name": "python3"
  },
  "language_info": {
   "codemirror_mode": {
    "name": "ipython",
    "version": 3
   },
   "file_extension": ".py",
   "mimetype": "text/x-python",
   "name": "python",
   "nbconvert_exporter": "python",
   "pygments_lexer": "ipython3",
   "version": "3.13.7"
  }
 },
 "nbformat": 4,
 "nbformat_minor": 5
}
