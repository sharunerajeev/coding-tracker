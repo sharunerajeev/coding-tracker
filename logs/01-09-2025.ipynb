{
 "cells": [
  {
   "cell_type": "markdown",
   "id": "0fba20b1",
   "metadata": {},
   "source": [
    "# 📅 Date: 01-09-2025"
   ]
  },
  {
   "cell_type": "markdown",
   "id": "ec74e4f0",
   "metadata": {},
   "source": [
    "## 🔍 Focus Area\n",
    "- <e.g., Recursion, Arrays, Sliding Window>\n"
   ]
  },
  {
   "cell_type": "markdown",
   "id": "14ed75b5",
   "metadata": {},
   "source": [
    "## ✅ Tasks Completed\n",
    "- Problem 1: Single Element in Sorted Array ([Link](https://www.scaler.com/academy/mentee-dashboard/class/387884/assignment/problems/4131?navref=cl_tt_lst_sl))\n",
    "- Problem 2: Rotated Sorted Array Search ([Link](https://www.scaler.com/academy/mentee-dashboard/class/387884/assignment/problems/203?navref=cl_tt_nv))\n",
    "- Problem 3: <Name> ([Link](#))\n",
    "- Problem 4: <Name> ([Link](#))"
   ]
  },
  {
   "cell_type": "markdown",
   "id": "a517d314",
   "metadata": {},
   "source": [
    "## 🧪 Code Experiments\n"
   ]
  },
  {
   "cell_type": "markdown",
   "id": "86f0b111",
   "metadata": {},
   "source": [
    "### Problem 1: Single Element in Sorted Array\n",
    "Given a sorted array of integers A where every element appears twice except for one element which appears once, find and return this single element that appears only once.\n",
    "\n",
    "Elements which are appearing twice are adjacent to each other.\n",
    "\n",
    "NOTE: Users are expected to solve this in O(log(N)) time."
   ]
  },
  {
   "cell_type": "code",
   "execution_count": 2,
   "id": "d162f450",
   "metadata": {},
   "outputs": [
    {
     "data": {
      "text/plain": [
       "5"
      ]
     },
     "execution_count": 2,
     "metadata": {},
     "output_type": "execute_result"
    }
   ],
   "source": [
    "# Paste your solution here\n",
    "class Solution:\n",
    "    # @param A : integer\n",
    "    def solve(self, A):\n",
    "        n = len(A)\n",
    "        low, high = 0, n - 1\n",
    "        while low <= high:\n",
    "            mid = (low + high) // 2\n",
    "            left_matches = mid > 0 and A[mid - 1] == A[mid]\n",
    "            right_matches = mid < n - 1 and A[mid + 1] == A[mid]\n",
    "            if not left_matches and not right_matches:\n",
    "                return A[mid]\n",
    "            # Take mid to the first occurrence of this value A[mid]\n",
    "            if left_matches:\n",
    "                mid -= 1\n",
    "            if mid % 2 == 0:\n",
    "                low = mid + 2\n",
    "            else:\n",
    "                high = mid - 1\n",
    "        return -1\n",
    "\n",
    "\n",
    "Solution().solve([1, 1, 4, 4, 5, 6, 6])"
   ]
  },
  {
   "cell_type": "markdown",
   "id": "a23d4ee6",
   "metadata": {},
   "source": [
    "### Problem 2: Rotated Sorted Array Search\n",
    "\n",
    "Given a sorted array of integers A of size N and an integer B, \n",
    "where array A is rotated at some pivot unknown beforehand.\n",
    "\n",
    "For example, the array [0, 1, 2, 4, 5, 6, 7] might become [4, 5, 6, 7, 0, 1, 2].\n",
    "\n",
    "Your task is to search for the target value B in the array. If found, return its index; otherwise, return -1.\n",
    "\n",
    "You can assume that no duplicates exist in the array.\n",
    "\n",
    "NOTE: You are expected to solve this problem with a time complexity of O(log(N))."
   ]
  },
  {
   "cell_type": "code",
   "execution_count": null,
   "id": "25000555",
   "metadata": {},
   "outputs": [
    {
     "name": "stdout",
     "output_type": "stream",
     "text": [
      "2\n"
     ]
    },
    {
     "data": {
      "text/plain": [
       "8"
      ]
     },
     "execution_count": 14,
     "metadata": {},
     "output_type": "execute_result"
    }
   ],
   "source": [
    "# Paste your solution here\n",
    "class Solution:\n",
    "    # @param A : integer\n",
    "    def solve(self, A, B):\n",
    "        n = len(A)\n",
    "        low, high = 0, n - 1\n",
    "        last = 0\n",
    "        # To find the pivot where the rotation happened\n",
    "        while low <= high:\n",
    "            mid = (low + high) // 2\n",
    "            if A[mid] >= A[0]:\n",
    "                last = mid\n",
    "                low = mid + 1\n",
    "            else:\n",
    "                high = mid - 1\n",
    "        # Check on which side the B is there\n",
    "        if B >= A[0]:\n",
    "            # B is on left side\n",
    "            low = 0\n",
    "            high = last\n",
    "        else:\n",
    "            # B is on right side\n",
    "            mid = last + 1\n",
    "            high = n - 1\n",
    "        # Once the range is identified, do binary search of the element.\n",
    "        while low <= high:\n",
    "            mid = (low + high) // 2\n",
    "            if A[mid] == B:\n",
    "                return mid\n",
    "            elif A[mid] < B:\n",
    "                low = mid + 1\n",
    "            else:\n",
    "                high = mid - 1\n",
    "        return -1\n",
    "\n",
    "\n",
    "Solution().solve(\n",
    "    [\n",
    "        101,\n",
    "        103,\n",
    "        106,\n",
    "        109,\n",
    "        158,\n",
    "        164,\n",
    "        182,\n",
    "        187,\n",
    "        202,\n",
    "        205,\n",
    "        2,\n",
    "        3,\n",
    "        32,\n",
    "        57,\n",
    "        69,\n",
    "        74,\n",
    "        81,\n",
    "        99,\n",
    "        100,\n",
    "    ],\n",
    "    202,\n",
    ")"
   ]
  },
  {
   "cell_type": "markdown",
   "id": "81f12f77",
   "metadata": {},
   "source": [
    "### Problem 3: <Name>\n",
    "<Problem description here>\n"
   ]
  },
  {
   "cell_type": "code",
   "execution_count": 18,
   "id": "d6aeb3aa",
   "metadata": {},
   "outputs": [
    {
     "data": {
      "text/plain": [
       "-10000000000000"
      ]
     },
     "execution_count": 18,
     "metadata": {},
     "output_type": "execute_result"
    }
   ],
   "source": [
    "# Paste your solution here\n",
    "class Solution:\n",
    "    # @param A : integer\n",
    "    def solve(self, A, B):\n",
    "        n, m = len(A), len(B)\n",
    "        if n > m:\n",
    "            A, B = B, A\n",
    "        n, m = len(A), len(B)\n",
    "        mid1, mid2 = 0, 0\n",
    "        low, high = 0, n\n",
    "\n",
    "        while low <= high:\n",
    "            n1 = (low + high) // 2\n",
    "            n2 = (n + m) // 2 - n1\n",
    "            last_A_left = n1 - 1\n",
    "            last_B_left = n2 - 1\n",
    "            first_A_right = last_A_left + 1\n",
    "            first_B_right = last_B_left + 1\n",
    "\n",
    "            if (\n",
    "                last_A_left >= 0\n",
    "                and first_B_right < m\n",
    "                and A[last_A_left] > B[first_B_right]\n",
    "            ):\n",
    "                high = n1 - 1\n",
    "            elif (\n",
    "                last_B_left >= 0\n",
    "                and first_A_right < n\n",
    "                and B[last_B_left] > A[first_A_right]\n",
    "            ):\n",
    "                low = n1 + 1\n",
    "            else:\n",
    "                mid1 = n1 - 1\n",
    "                mid2 = n2 - 1\n",
    "                break\n",
    "\n",
    "        maxLeft = -100000000000000\n",
    "        if mid1 >= 0:\n",
    "            maxLeft = max(maxLeft, A[mid1])\n",
    "        if mid2 >= 0:\n",
    "            maxLeft = max(maxLeft, B[mid2])\n",
    "\n",
    "        minRight = -10000000000000\n",
    "        if mid1 < n - 1:\n",
    "            minRight = min(minRight, A[mid1 + 1])\n",
    "        if mid2 < n - 1:\n",
    "            minRight = min(minRight, B[mid2 + 1])\n",
    "\n",
    "        if (m + n) % 2:\n",
    "            return minRight\n",
    "        else:\n",
    "            (maxLeft + minRight) // 2\n",
    "\n",
    "\n",
    "Solution().solve([5, 7], [6])"
   ]
  }
 ],
 "metadata": {
  "kernelspec": {
   "display_name": "venv (3.13.5)",
   "language": "python",
   "name": "python3"
  },
  "language_info": {
   "codemirror_mode": {
    "name": "ipython",
    "version": 3
   },
   "file_extension": ".py",
   "mimetype": "text/x-python",
   "name": "python",
   "nbconvert_exporter": "python",
   "pygments_lexer": "ipython3",
   "version": "3.13.5"
  }
 },
 "nbformat": 4,
 "nbformat_minor": 5
}
