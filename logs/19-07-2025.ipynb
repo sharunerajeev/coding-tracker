{
 "cells": [
  {
   "cell_type": "markdown",
   "id": "547c6b6c",
   "metadata": {},
   "source": [
    "# 📅 Date: 19-07-2025"
   ]
  },
  {
   "cell_type": "markdown",
   "id": "40568094",
   "metadata": {},
   "source": [
    "## 🔍 Focus Area\n",
    "- Array\n"
   ]
  },
  {
   "cell_type": "markdown",
   "id": "12580a9c",
   "metadata": {},
   "source": [
    "## ✅ Tasks Completed\n",
    "- [X] Problem 1: Reverse Vowels of a String ([Link](https://leetcode.com/problems/reverse-vowels-of-a-string/description/?envType=study-plan-v2&envId=leetcode-75))\n"
   ]
  },
  {
   "cell_type": "markdown",
   "id": "e0982df2",
   "metadata": {},
   "source": [
    "## 🧪 Code Experiments\n"
   ]
  },
  {
   "cell_type": "markdown",
   "id": "54201b8f",
   "metadata": {},
   "source": [
    "### Problem 1: <Name>\n",
    "\n",
    "Given a string s, reverse only all the vowels in the string and return it.\n",
    "\n",
    "The vowels are 'a', 'e', 'i', 'o', and 'u', and they can appear in both lower and upper cases, more than once."
   ]
  },
  {
   "cell_type": "code",
   "execution_count": 10,
   "id": "2bab7c37",
   "metadata": {},
   "outputs": [
    {
     "name": "stdout",
     "output_type": "stream",
     "text": [
      "AceCreIm\n"
     ]
    }
   ],
   "source": [
    "# Paste your solution here\n",
    "def solution(s):\n",
    "    vowels = []\n",
    "    s = list(s)\n",
    "    for i in s:\n",
    "        if i in ['a','e','i','o','u','A','E','I','O','U']:\n",
    "            vowels.append(i)\n",
    "    for i in range(len(s)):\n",
    "        if s[i] in ['a','e','i','o','u','A','E','I','O','U']:\n",
    "            s[i] = vowels.pop()\n",
    "    return ''.join(s)\n",
    "\n",
    "\n",
    "print(solution('IceCreAm'))"
   ]
  }
 ],
 "metadata": {
  "kernelspec": {
   "display_name": "venv",
   "language": "python",
   "name": "python3"
  },
  "language_info": {
   "codemirror_mode": {
    "name": "ipython",
    "version": 3
   },
   "file_extension": ".py",
   "mimetype": "text/x-python",
   "name": "python",
   "nbconvert_exporter": "python",
   "pygments_lexer": "ipython3",
   "version": "3.13.5"
  }
 },
 "nbformat": 4,
 "nbformat_minor": 5
}
