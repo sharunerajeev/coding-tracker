{
 "cells": [
  {
   "cell_type": "markdown",
   "id": "54013e8d",
   "metadata": {},
   "source": [
    "# 📅 Date: 03-09-2025"
   ]
  },
  {
   "cell_type": "markdown",
   "id": "010cb31b",
   "metadata": {},
   "source": [
    "## 🔍 Focus Area\n",
    "- <e.g., Recursion, Arrays, Sliding Window>\n"
   ]
  },
  {
   "cell_type": "markdown",
   "id": "4bde0458",
   "metadata": {},
   "source": [
    "## ✅ Tasks Completed\n",
    "- Problem 1: Find Smallest Again ([Link](https://www.scaler.com/academy/mentee-dashboard/class/387884/homework/problems/9155?navref=cl_tt_lst_sl))\n",
    "- Problem 2: <Name> ([Link](#))\n",
    "- Problem 3: <Name> ([Link](#))\n",
    "- Problem 4: <Name> ([Link](#))"
   ]
  },
  {
   "cell_type": "markdown",
   "id": "d2de6630",
   "metadata": {},
   "source": [
    "## 🧪 Code Experiments\n"
   ]
  },
  {
   "cell_type": "markdown",
   "id": "6ffd03c6",
   "metadata": {},
   "source": [
    "### Problem 1: Find Smallest Again\n",
    "Given an integer array A of size N.\n",
    "\n",
    "If we store the sum of each triplet of the array A in a new list, then find the Bth smallest element among the list.\n",
    "\n",
    "NOTE: A triplet consists of three elements from the array. Let's say if A[i], A[j], A[k] are the elements of the triplet then i < j < k."
   ]
  },
  {
   "cell_type": "code",
   "execution_count": 2,
   "id": "3fc2593c",
   "metadata": {},
   "outputs": [
    {
     "data": {
      "text/plain": [
       "9"
      ]
     },
     "execution_count": 2,
     "metadata": {},
     "output_type": "execute_result"
    }
   ],
   "source": [
    "# Paste your solution here\n",
    "class Solution:\n",
    "    def solve(self, A, B):\n",
    "        n = len(A)\n",
    "        if n < 3:\n",
    "            # Not enough elements to form a triplet\n",
    "            return 0\n",
    "\n",
    "        # Step 1: Sort the array. This is crucial for the two-pointer approach.\n",
    "        A.sort()\n",
    "\n",
    "        # Step 2: Define the search space for the triplet sum.\n",
    "        # The smallest possible sum is from the first three elements.\n",
    "        low = A[0] + A[1] + A[2]\n",
    "        # The largest possible sum is from the last three elements.\n",
    "        high = A[n - 3] + A[n - 2] + A[n - 1]\n",
    "\n",
    "        ans = high\n",
    "\n",
    "        # Step 3: Binary search on the answer (the sum).\n",
    "        while low <= high:\n",
    "            mid = low + (high - low) // 2\n",
    "\n",
    "            # Step 4: Count how many triplets have a sum less than or equal to 'mid'.\n",
    "            count = 0\n",
    "            # Fix the first element of the triplet, A[i].\n",
    "            for i in range(n - 2):\n",
    "                # Use two pointers for the remaining part of the array.\n",
    "                j, k = i + 1, n - 1\n",
    "\n",
    "                while j < k:\n",
    "                    current_sum = A[i] + A[j] + A[k]\n",
    "\n",
    "                    if current_sum > mid:\n",
    "                        # The sum is too large, so we must decrease the largest element.\n",
    "                        k -= 1\n",
    "                    else:\n",
    "                        # If A[i] + A[j] + A[k] <= mid, it means that for the fixed A[i] and A[j],\n",
    "                        # all elements from A[j+1]...A[k] will also form a valid triplet\n",
    "                        # because they are smaller than or equal to A[k].\n",
    "                        # The number of such valid third elements is (k - j).\n",
    "                        count += k - j\n",
    "\n",
    "                        # Move to the next possible second element.\n",
    "                        j += 1\n",
    "\n",
    "            # Step 5: Adjust the search space based on the count.\n",
    "            if count >= B:\n",
    "                # 'mid' is a potential answer. We try to find an even smaller sum.\n",
    "                ans = mid\n",
    "                high = mid - 1\n",
    "            else:\n",
    "                # 'mid' is too small; we need a larger sum to reach the Bth triplet.\n",
    "                low = mid + 1\n",
    "\n",
    "        return ans\n",
    "\n",
    "\n",
    "Solution().solve([2, 4, 3, 2], 3)"
   ]
  },
  {
   "cell_type": "markdown",
   "id": "788eb726",
   "metadata": {},
   "source": [
    "### Lab Session\n",
    "\n",
    "Classes and Objects"
   ]
  },
  {
   "cell_type": "code",
   "execution_count": 6,
   "id": "d8e0b89f",
   "metadata": {},
   "outputs": [
    {
     "name": "stdout",
     "output_type": "stream",
     "text": [
      "Name:   \n",
      "Roll Number 0 \n",
      "Marks 0\n",
      "\n",
      "Name:  Sam \n",
      "Roll Number 21 \n",
      "Marks 99\n"
     ]
    }
   ],
   "source": [
    "class Student:\n",
    "    name = \"\"\n",
    "    roll_number = 0\n",
    "    marks = 0\n",
    "\n",
    "    def print_details(self):\n",
    "        print(\n",
    "            \"Name: \",\n",
    "            self.name,\n",
    "            \"\\nRoll Number\",\n",
    "            self.roll_number,\n",
    "            \"\\nMarks\",\n",
    "            self.marks,\n",
    "        )\n",
    "\n",
    "\n",
    "s1 = Student()\n",
    "s1.print_details()\n",
    "\n",
    "s1.name=\"Sam\"\n",
    "s1.roll_number=21\n",
    "s1.marks=99\n",
    "print()\n",
    "\n",
    "s1.print_details()"
   ]
  },
  {
   "cell_type": "code",
   "execution_count": 7,
   "id": "ec08e596",
   "metadata": {},
   "outputs": [
    {
     "name": "stdout",
     "output_type": "stream",
     "text": [
      "My name is A. I am 10 years old\n",
      "My name is B. I am 20 years old\n",
      "My name is B. I am 20 years old\n"
     ]
    }
   ],
   "source": [
    "class Student:\n",
    "    def __init__(self):\n",
    "        self.age = 0\n",
    "        self.name = \"\"\n",
    "\n",
    "    def display(self):\n",
    "        print(\"My name is\", self.name + \". I am\", self.age, \"years old\")\n",
    "\n",
    "    def say_hello(self, name):\n",
    "        print(self.name, \"says hello to\", name)\n",
    "\n",
    "# Main Code\n",
    "s1 = Student()\n",
    "s1.age = 10\n",
    "s1.name = \"A\"\n",
    "s1.display()\n",
    "\n",
    "s2 = s1\n",
    "s2.age = 20\n",
    "s2.name = \"B\"\n",
    "\n",
    "s2.display()\n",
    "s1.display()"
   ]
  },
  {
   "cell_type": "code",
   "execution_count": 8,
   "id": "a88a0fa3",
   "metadata": {},
   "outputs": [
    {
     "name": "stdout",
     "output_type": "stream",
     "text": [
      "My name is A. I am 10 years old\n"
     ]
    }
   ],
   "source": [
    "class Student:\n",
    "    def __init__(self):\n",
    "        self.age = 0\n",
    "        self.name = \"\"\n",
    "\n",
    "    def display(self):\n",
    "        print(\"My name is\", self.name + \". I am\", self.age, \"years old\")\n",
    "\n",
    "    def say_hello(self, name):\n",
    "        print(self.name, \"says hello to\", name)\n",
    "\n",
    "# Main code\n",
    "s1 = Student()\n",
    "s1.age = 10\n",
    "s1.name = \"A\"\n",
    "\n",
    "s2 = Student()\n",
    "\n",
    "temp = s1\n",
    "s1 = s2\n",
    "s2 = temp\n",
    "\n",
    "s2.display()"
   ]
  },
  {
   "cell_type": "code",
   "execution_count": null,
   "id": "1f2cffee",
   "metadata": {},
   "outputs": [
    {
     "name": "stdout",
     "output_type": "stream",
     "text": [
      "1\n",
      "2\n",
      "2\n"
     ]
    }
   ],
   "source": [
    "class Node:\n",
    "    def __init__(self, data):\n",
    "        self.data = data\n",
    "        self.next = None\n",
    "\n",
    "\n",
    "n1 = Node(1)\n",
    "n2 = Node(2)\n",
    "n1.next = n2\n",
    "\n",
    "print(n1.data)\n",
    "print(n1.next.data)"
   ]
  }
 ],
 "metadata": {
  "kernelspec": {
   "display_name": "venv (3.13.5)",
   "language": "python",
   "name": "python3"
  },
  "language_info": {
   "codemirror_mode": {
    "name": "ipython",
    "version": 3
   },
   "file_extension": ".py",
   "mimetype": "text/x-python",
   "name": "python",
   "nbconvert_exporter": "python",
   "pygments_lexer": "ipython3",
   "version": "3.13.7"
  }
 },
 "nbformat": 4,
 "nbformat_minor": 5
}
