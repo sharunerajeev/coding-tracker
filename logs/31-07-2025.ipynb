{
 "cells": [
  {
   "cell_type": "markdown",
   "id": "ff7e9ea9",
   "metadata": {},
   "source": [
    "# 📅 Date: 31-07-2025"
   ]
  },
  {
   "cell_type": "markdown",
   "id": "2ab48e80",
   "metadata": {},
   "source": [
    "## 🔍 Focus Area\n",
    "- Bit Manipulation"
   ]
  },
  {
   "cell_type": "markdown",
   "id": "422c22dc",
   "metadata": {},
   "source": [
    "## ✅ Tasks Completed\n",
    "- Problem 1: Number of 1 Bits ([Link](https://www.scaler.com/academy/mentee-dashboard/class/387842/assignment/problems/192))\n",
    "- Problem 2: Single Number ([Link](https://www.scaler.com/academy/mentee-dashboard/class/387842/assignment/problems/193?navref=cl_tt_nv))\n",
    "- Problem 3: Single Number III ([Link](https://www.scaler.com/academy/mentee-dashboard/class/387842/assignment/problems/9184?navref=cl_tt_nv))\n",
    "- Problem 4: Unset i-th bit ([Link](https://www.scaler.com/academy/mentee-dashboard/class/387842/assignment/problems/26930?navref=cl_tt_nv))\n",
    "- Problem 5: Toggle i-th bit ([Link](http://scaler.com/academy/mentee-dashboard/class/387842/assignment/problems/26950?navref=cl_tt_nv))\n",
    "- Problem 6: Set Bits ([Link](https://www.scaler.com/academy/mentee-dashboard/class/387842/assignment/problems/27344?navref=cl_tt_lst_sl))"
   ]
  },
  {
   "cell_type": "markdown",
   "id": "63252290",
   "metadata": {},
   "source": [
    "## 🧪 Code Experiments\n"
   ]
  },
  {
   "cell_type": "markdown",
   "id": "1c98627b",
   "metadata": {},
   "source": [
    "### Problem 1: Number of 1 Bits\n",
    "Write a function that takes an integer and returns the number of 1 bits present in its binary representation."
   ]
  },
  {
   "cell_type": "code",
   "execution_count": 41,
   "id": "053963c7",
   "metadata": {},
   "outputs": [
    {
     "name": "stdout",
     "output_type": "stream",
     "text": [
      "3\n"
     ]
    }
   ],
   "source": [
    "# Paste your solution here\n",
    "def solution(A):\n",
    "    count = 0\n",
    "    while A:\n",
    "        if A & 1:\n",
    "            count += 1\n",
    "        A >>= 1\n",
    "    return count\n",
    "\n",
    "\n",
    "print(solution(11))"
   ]
  },
  {
   "cell_type": "markdown",
   "id": "d038370f",
   "metadata": {},
   "source": [
    "### Problem 2: Single Number\n",
    "Given an array of integers A, every element appears twice except for one. Find that integer that occurs once.\n",
    "\n",
    "NOTE: Your algorithm should have a linear runtime complexity. Could you implement it without using extra memory?"
   ]
  },
  {
   "cell_type": "code",
   "execution_count": 8,
   "id": "817ed891",
   "metadata": {},
   "outputs": [
    {
     "name": "stdout",
     "output_type": "stream",
     "text": [
      "3\n"
     ]
    }
   ],
   "source": [
    "# Paste your solution here\n",
    "def solution(A):\n",
    "    xor = 0\n",
    "    for i in A:\n",
    "        xor ^= i\n",
    "    return xor\n",
    "\n",
    "\n",
    "print(solution([1, 2, 2, 3, 1]))"
   ]
  },
  {
   "cell_type": "markdown",
   "id": "3a4bfdaa",
   "metadata": {},
   "source": [
    "### Problem 3: Single Number III\n",
    "Given an array of positive integers A, two integers appear only once, and all the other integers appear twice.\n",
    "Find the two integers that appear only once.\n",
    "\n",
    "Note: Return the two numbers in ascending order."
   ]
  },
  {
   "cell_type": "code",
   "execution_count": 18,
   "id": "93b4c4aa",
   "metadata": {},
   "outputs": [
    {
     "name": "stdout",
     "output_type": "stream",
     "text": [
      "[3, 4]\n"
     ]
    }
   ],
   "source": [
    "# Paste your solution here\n",
    "def checkBit(n, i):\n",
    "    return n & (i << 1)\n",
    "\n",
    "\n",
    "def solution(A):\n",
    "    xor = 0\n",
    "    for i in A:\n",
    "        xor ^= i\n",
    "\n",
    "    j = 0\n",
    "    while not checkBit(xor, j):\n",
    "        j += 1\n",
    "\n",
    "    xor1 = 0\n",
    "    xor2 = 0\n",
    "    for i in range(len(A)):\n",
    "        if checkBit(A[i], j):\n",
    "            xor1 ^= A[i]\n",
    "        else:\n",
    "            xor2 ^= A[i]\n",
    "    res = [xor1, xor2]\n",
    "    res.sort()\n",
    "    return res\n",
    "\n",
    "\n",
    "print(solution([1, 2, 3, 1, 2, 4]))"
   ]
  },
  {
   "cell_type": "markdown",
   "id": "28e890f3",
   "metadata": {},
   "source": [
    "### Problem 4: Unset i-th bit\n",
    "You are given two integers A and B.\n",
    "- If B-th bit in A is set, make it unset.\n",
    "- If B-th bit in A is unset, leave as it is.\n",
    "Return the updated A value.\n",
    "\n",
    "Note:\n",
    "The bit position is 0-indexed, which means that the least significant bit (LSB) has index 0."
   ]
  },
  {
   "cell_type": "code",
   "execution_count": null,
   "id": "1544e920",
   "metadata": {},
   "outputs": [
    {
     "name": "stdout",
     "output_type": "stream",
     "text": [
      "7\n"
     ]
    }
   ],
   "source": [
    "# Paste your solution here\n",
    "def solution(A, B):\n",
    "    if A & (1 << B):\n",
    "        return A ^ (1 << B)\n",
    "    return A\n",
    "\n",
    "\n",
    "print(solution(23, 4))"
   ]
  },
  {
   "cell_type": "markdown",
   "id": "ce38d514",
   "metadata": {},
   "source": [
    "### Problem 5: Toggle i-th bit\n",
    "You are given two integers A and B.\n",
    "- If B-th bit in A is set, make it unset\n",
    "- If B-th bit in A is unset, make it set\n",
    "Return the updated A value"
   ]
  },
  {
   "cell_type": "code",
   "execution_count": 37,
   "id": "e6e5d917",
   "metadata": {},
   "outputs": [
    {
     "name": "stdout",
     "output_type": "stream",
     "text": [
      "1\n"
     ]
    }
   ],
   "source": [
    "# Paste your solution here\n",
    "def solution(A, B):\n",
    "    return A ^ (1 << B)\n",
    "\n",
    "\n",
    "print(solution(5, 2))"
   ]
  },
  {
   "cell_type": "markdown",
   "id": "6a5e6890",
   "metadata": {},
   "source": [
    "### Problem 6: Set Bit\n",
    "You are given two integers A and B.\n",
    "Set the A-th bit and B-th bit in 0, and return output in decimal Number System.\n",
    "\n",
    "Note:\n",
    "The bit positions are 0-indexed, which means that the least significant bit (LSB) has index 0."
   ]
  },
  {
   "cell_type": "code",
   "execution_count": 40,
   "id": "5074b758",
   "metadata": {},
   "outputs": [
    {
     "name": "stdout",
     "output_type": "stream",
     "text": [
      "40\n"
     ]
    }
   ],
   "source": [
    "# Paste your solution here\n",
    "def solution(A, B):\n",
    "    return (1 << A) | (1 << B)\n",
    "\n",
    "\n",
    "print(solution(5, 3))"
   ]
  }
 ],
 "metadata": {
  "kernelspec": {
   "display_name": "venv (3.13.5)",
   "language": "python",
   "name": "python3"
  },
  "language_info": {
   "codemirror_mode": {
    "name": "ipython",
    "version": 3
   },
   "file_extension": ".py",
   "mimetype": "text/x-python",
   "name": "python",
   "nbconvert_exporter": "python",
   "pygments_lexer": "ipython3",
   "version": "3.13.5"
  }
 },
 "nbformat": 4,
 "nbformat_minor": 5
}
