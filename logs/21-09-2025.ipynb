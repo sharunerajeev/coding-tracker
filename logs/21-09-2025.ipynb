{
 "cells": [
  {
   "cell_type": "markdown",
   "id": "454a67ac",
   "metadata": {},
   "source": [
    "# 📅 Date: 21-09-2025"
   ]
  },
  {
   "cell_type": "markdown",
   "id": "32c155c7",
   "metadata": {},
   "source": [
    "## 🔍 Focus Area\n",
    "- Trees"
   ]
  },
  {
   "cell_type": "markdown",
   "id": "b74888e3",
   "metadata": {},
   "source": [
    "## ✅ Tasks Completed\n",
    "- Problem 1: Delete a node in BST ([Link](https://www.scaler.com/academy/mentee-dashboard/class/387896/assignment/problems/18384?navref=cl_tt_nv))\n",
    "- Problem 2: <Name> ([Link](#))\n",
    "- Problem 3: <Name> ([Link](#))\n",
    "- Problem 4: <Name> ([Link](#))"
   ]
  },
  {
   "cell_type": "markdown",
   "id": "b29e4237",
   "metadata": {},
   "source": [
    "## 🧪 Code Experiments\n"
   ]
  },
  {
   "cell_type": "markdown",
   "id": "3c4a6304",
   "metadata": {},
   "source": [
    "### Problem 1: Delete a node in BST\n",
    "Given a Binary Search Tree(BST) A. If there is a node with value B present in the tree delete it and return the tree.\n",
    "\n",
    "Note - If there are multiple options, always replace a node by its in-order predecessor"
   ]
  },
  {
   "cell_type": "code",
   "execution_count": 30,
   "id": "1aa33043",
   "metadata": {},
   "outputs": [
    {
     "name": "stdout",
     "output_type": "stream",
     "text": [
      "└── 15\n",
      "    ┌── 20\n",
      "    │   ┌── 27\n",
      "    │   └── 16\n",
      "    └── 12\n",
      "        ┌── 14\n",
      "        └── 8\n"
     ]
    }
   ],
   "source": [
    "from helpers import tree_helpers\n",
    "from collections import deque\n",
    "\n",
    "\n",
    "class Solution:\n",
    "    def find_largest_inorder_predecessor(self, node):\n",
    "        current_node = node\n",
    "        while current_node.right is not None:\n",
    "            current_node = current_node.right\n",
    "        return current_node\n",
    "\n",
    "    def delete_node(self, root, target):\n",
    "        # If no nodes in the root return empty\n",
    "        if root == None:\n",
    "            return None\n",
    "\n",
    "        # Search for node to delete\n",
    "        if root.val < target:\n",
    "            root.right = self.delete_node(root.right, target)\n",
    "        elif root.val > target:\n",
    "            root.left = self.delete_node(root.left, target)\n",
    "        else:\n",
    "            # Node is found\n",
    "            if root.left is None:\n",
    "                return root.right\n",
    "            elif root.right is None:\n",
    "                return root.left\n",
    "\n",
    "            replacer = self.find_largest_inorder_predecessor(root.left)\n",
    "            root.val = replacer.val\n",
    "\n",
    "            # Delete replacer node\n",
    "            root.left = self.delete_node(root.left, replacer.val)\n",
    "\n",
    "        return root\n",
    "\n",
    "    def solve(self, A, B):\n",
    "        return self.delete_node(A, B)\n",
    "\n",
    "\n",
    "nodes = [15, 12, 20, 10, 14, 16, 27, 8, -1, -1, -1, -1, -1, -1, -1]\n",
    "root = tree_helpers.build_tree_level_order(nodes)\n",
    "tree_helpers.print_tree(Solution().solve(root, 10))"
   ]
  },
  {
   "cell_type": "markdown",
   "id": "4a52440b",
   "metadata": {},
   "source": [
    "### Problem 2: <Name>\n",
    "<Problem description here>\n"
   ]
  },
  {
   "cell_type": "code",
   "execution_count": 11,
   "id": "9cf1ce77",
   "metadata": {},
   "outputs": [],
   "source": [
    "# Paste your solution here\n",
    "class Solution:\n",
    "    # @param A : integer\n",
    "    def solve(self, A):\n",
    "        pass\n",
    "\n",
    "Solution().solve(<test_input>)"
   ]
  },
  {
   "cell_type": "markdown",
   "id": "20519e51",
   "metadata": {},
   "source": [
    "### Problem 3: <Name>\n",
    "<Problem description here>\n"
   ]
  },
  {
   "cell_type": "code",
   "execution_count": null,
   "id": "f845ae1d",
   "metadata": {},
   "outputs": [],
   "source": [
    "# Paste your solution here\n",
    "class Solution:\n",
    "    # @param A : integer\n",
    "    def solve(self, A):\n",
    "        pass\n",
    "\n",
    "Solution().solve(<test_input>)"
   ]
  },
  {
   "cell_type": "markdown",
   "id": "6b45c9dc",
   "metadata": {},
   "source": [
    "### Problem 4: <Name>\n",
    "<Problem description here>\n"
   ]
  },
  {
   "cell_type": "code",
   "execution_count": null,
   "id": "5d976968",
   "metadata": {},
   "outputs": [],
   "source": [
    "# Paste your solution here\n",
    "class Solution:\n",
    "    # @param A : integer\n",
    "    def solve(self, A):\n",
    "        pass\n",
    "\n",
    "Solution().solve(<test_input>)"
   ]
  },
  {
   "cell_type": "markdown",
   "id": "1640432a",
   "metadata": {},
   "source": [
    "## 🔄 Revision Log\n",
    "- <Date>: First attempt, reviewed solution and code.\n",
    "- [ ] Next revision: <Next Date> (Schedule a revisit for spaced repetition)\n"
   ]
  },
  {
   "cell_type": "markdown",
   "id": "ab4661be",
   "metadata": {},
   "source": [
    "## 📝 Personal Notes\n",
    "- <Your notes here>\n"
   ]
  },
  {
   "cell_type": "markdown",
   "id": "64bd2caa",
   "metadata": {},
   "source": [
    "### Problem 3: <Name>\n",
    "<Problem description here>\n"
   ]
  },
  {
   "cell_type": "code",
   "execution_count": null,
   "id": "f6d03e88",
   "metadata": {},
   "outputs": [],
   "source": [
    "# Paste your solution here\n",
    "class Solution:\n",
    "    # @param A : integer\n",
    "    def solve(self, A):\n",
    "        pass\n",
    "\n",
    "Solution().solve(<test_input>)"
   ]
  },
  {
   "cell_type": "markdown",
   "id": "167a8c53",
   "metadata": {},
   "source": [
    "### Problem 4: <Name>\n",
    "<Problem description here>\n"
   ]
  },
  {
   "cell_type": "code",
   "execution_count": null,
   "id": "a0cc4c9b",
   "metadata": {},
   "outputs": [],
   "source": [
    "# Paste your solution here\n",
    "class Solution:\n",
    "    # @param A : integer\n",
    "    def solve(self, A):\n",
    "        pass\n",
    "\n",
    "Solution().solve(<test_input>)"
   ]
  },
  {
   "cell_type": "markdown",
   "id": "3676a380",
   "metadata": {},
   "source": [
    "## 🔄 Revision Log\n",
    "- <Date>: First attempt, reviewed solution and code.\n",
    "- [ ] Next revision: <Next Date> (Schedule a revisit for spaced repetition)\n"
   ]
  },
  {
   "cell_type": "markdown",
   "id": "2c015236",
   "metadata": {},
   "source": [
    "## 📝 Personal Notes\n",
    "- <Your notes here>\n"
   ]
  }
 ],
 "metadata": {
  "kernelspec": {
   "display_name": "venv (3.13.5)",
   "language": "python",
   "name": "python3"
  },
  "language_info": {
   "name": "python",
   "version": "3.13.5"
  }
 },
 "nbformat": 4,
 "nbformat_minor": 5
}
