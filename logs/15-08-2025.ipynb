{
 "cells": [
  {
   "cell_type": "markdown",
   "id": "d7eb3fe6",
   "metadata": {},
   "source": [
    "# 📅 Date: 15-08-2025"
   ]
  },
  {
   "cell_type": "markdown",
   "id": "282c477f",
   "metadata": {},
   "source": [
    "## 🔍 Focus Area\n",
    "- Hashing"
   ]
  },
  {
   "cell_type": "markdown",
   "id": "b1d901d6",
   "metadata": {},
   "source": [
    "## ✅ Tasks Completed\n",
    "- Problem 1: Count Subarray Zero Sum ([Link](https://www.scaler.com/academy/mentee-dashboard/class/387950/homework/problems/27776?navref=cl_tt_lst_sl))\n",
    "- Problem 2: Longest Subarray Zero Sum ([Link](https://www.scaler.com/academy/mentee-dashboard/class/387950/homework/problems/27742?navref=cl_tt_lst_sl))\n",
    "- Problem 3: Subarray with given sum ([Link](https://www.scaler.com/academy/mentee-dashboard/class/387950/homework/problems/4116?navref=cl_tt_lst_sl))\n",
    "- Problem 4: Distinct Numbers in Window ([Link](https://www.scaler.com/academy/mentee-dashboard/class/387950/homework/problems/333?navref=cl_tt_nv))"
   ]
  },
  {
   "cell_type": "markdown",
   "id": "ca8d007a",
   "metadata": {},
   "source": [
    "## 🧪 Code Experiments\n"
   ]
  },
  {
   "cell_type": "markdown",
   "id": "b7e0a87b",
   "metadata": {},
   "source": [
    "### Problem 1: Count Subarray Zero Sum\n",
    "Given an array A of N integers.\n",
    "\n",
    "Find the count of the subarrays in the array which sums to zero. Since the answer can be very large, return the remainder on dividing the result with 109+7\n"
   ]
  },
  {
   "cell_type": "code",
   "execution_count": 6,
   "id": "a8246824",
   "metadata": {},
   "outputs": [
    {
     "data": {
      "text/plain": [
       "3"
      ]
     },
     "execution_count": 6,
     "metadata": {},
     "output_type": "execute_result"
    }
   ],
   "source": [
    "# Paste your solution here\n",
    "class Solution:\n",
    "    # @param A : integer\n",
    "    def solve(self, A):\n",
    "        cnt = 0\n",
    "        sum = 0\n",
    "        ps_freq = {}\n",
    "        for i in A:\n",
    "            sum += i\n",
    "            if sum == 0:\n",
    "                cnt += 1\n",
    "            cnt += ps_freq.get(sum, 0)\n",
    "            ps_freq[sum] = ps_freq.get(sum, 0) + 1\n",
    "        return cnt\n",
    "\n",
    "\n",
    "Solution().solve([1, -1, -2, 2])"
   ]
  },
  {
   "cell_type": "markdown",
   "id": "e2af5971",
   "metadata": {},
   "source": [
    "### Problem 2: Longest Subarray Zero Sum\n",
    "Given an array A of N integers.\n",
    "Find the length of the longest subarray in the array which sums to zero.\n",
    "\n",
    "If there is no subarray which sums to zero then return 0."
   ]
  },
  {
   "cell_type": "code",
   "execution_count": 41,
   "id": "30c6f4f7",
   "metadata": {},
   "outputs": [
    {
     "data": {
      "text/plain": [
       "3"
      ]
     },
     "execution_count": 41,
     "metadata": {},
     "output_type": "execute_result"
    }
   ],
   "source": [
    "# Paste your solution here\n",
    "class Solution:\n",
    "    # @param A : integer\n",
    "    def solve(self, A):\n",
    "        sum = 0\n",
    "        ps_freq = {}\n",
    "        max_length = 0\n",
    "        for i in range(len(A)):\n",
    "            sum += A[i]\n",
    "            if sum == 0:\n",
    "                max_length = max(max_length, i + 1)\n",
    "            if sum in ps_freq:\n",
    "                max_length = max(max_length, (i - ps_freq[sum]) + 1)\n",
    "            else:\n",
    "                ps_freq[sum] = i - ps_freq.get(sum, 0) + 1\n",
    "        return max_length\n",
    "\n",
    "\n",
    "Solution().solve([-10, 8, 2, -2, 12, -1, -18, 18])"
   ]
  },
  {
   "cell_type": "markdown",
   "id": "97d02efe",
   "metadata": {},
   "source": [
    "### Problem 3: Subarray with given sum\n",
    "Given an array of positive integers A and an integer B, find and return first continuous subarray which adds to B.\n",
    "If the answer does not exist return an array with a single integer \"-1\".\n",
    "First sub-array means the sub-array for which starting index in minimum."
   ]
  },
  {
   "cell_type": "code",
   "execution_count": 48,
   "id": "dfbbedb6",
   "metadata": {},
   "outputs": [
    {
     "data": {
      "text/plain": [
       "[-1]"
      ]
     },
     "execution_count": 48,
     "metadata": {},
     "output_type": "execute_result"
    }
   ],
   "source": [
    "# Paste your solution here\n",
    "class Solution:\n",
    "    # @param A : integer\n",
    "    def solve(self, A, B):\n",
    "        ps_index = {}\n",
    "        sum = 0\n",
    "        for i in range(len(A)):\n",
    "            sum += A[i]\n",
    "            if sum == B:\n",
    "                return A[: i + 1]\n",
    "            if sum - B in ps_index:\n",
    "                return A[ps_index[sum - B] + 1 : i + 1]\n",
    "            ps_index[sum] = i\n",
    "        return [-1]\n",
    "\n",
    "\n",
    "Solution().solve([5, 10, 20, 100, 105], 500)"
   ]
  },
  {
   "cell_type": "markdown",
   "id": "0dec409d",
   "metadata": {},
   "source": [
    "### Problem 4: Distinct Numbers in Window\n",
    "You are given an array of N integers, A1, A2 ,..., AN and an integer B. Return the of count of distinct numbers in all windows of size B.\n",
    "\n",
    "Formally, return an array of size N-B+1 where i'th element in this array contains number of distinct elements in sequence Ai, Ai+1 ,..., Ai+B-1.\n",
    "\n",
    "NOTE: if B > N, return an empty array."
   ]
  },
  {
   "cell_type": "code",
   "execution_count": 78,
   "id": "9da74437",
   "metadata": {},
   "outputs": [
    {
     "data": {
      "text/plain": [
       "[2, 3, 3, 2]"
      ]
     },
     "execution_count": 78,
     "metadata": {},
     "output_type": "execute_result"
    }
   ],
   "source": [
    "# Paste your solution here\n",
    "class Solution:\n",
    "    # @param A : integer\n",
    "    def solve(self, A, B):\n",
    "        ele_freq = {}\n",
    "        start, end = 0, B\n",
    "        res = []\n",
    "        for i in range(B):\n",
    "            ele_freq[A[i]] = ele_freq.get(A[i], 0) + 1\n",
    "        res.append(len(ele_freq))\n",
    "        while end < len(A):\n",
    "            ele_freq[A[end]] = ele_freq.get(A[end], 0) + 1\n",
    "            if A[start] in ele_freq:\n",
    "                if ele_freq[A[start]] - 1 == 0:\n",
    "                    del ele_freq[A[start]]\n",
    "                else:\n",
    "                    ele_freq[A[start]] = ele_freq.get(A[start], 0) - 1\n",
    "            res.append(len(ele_freq))\n",
    "            start += 1\n",
    "            end += 1\n",
    "        return res\n",
    "\n",
    "\n",
    "Solution().solve([1, 2, 1, 3, 4, 3], 3)"
   ]
  }
 ],
 "metadata": {
  "kernelspec": {
   "display_name": "venv (3.13.5)",
   "language": "python",
   "name": "python3"
  },
  "language_info": {
   "codemirror_mode": {
    "name": "ipython",
    "version": 3
   },
   "file_extension": ".py",
   "mimetype": "text/x-python",
   "name": "python",
   "nbconvert_exporter": "python",
   "pygments_lexer": "ipython3",
   "version": "3.13.5"
  }
 },
 "nbformat": 4,
 "nbformat_minor": 5
}
