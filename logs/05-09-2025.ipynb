{
 "cells": [
  {
   "cell_type": "markdown",
   "id": "92aa64d6",
   "metadata": {},
   "source": [
    "# 📅 Date: 05-09-2025"
   ]
  },
  {
   "cell_type": "markdown",
   "id": "556ffad1",
   "metadata": {},
   "source": [
    "## 🔍 Focus Area\n",
    "- Linked List"
   ]
  },
  {
   "cell_type": "markdown",
   "id": "09e7b80b",
   "metadata": {},
   "source": [
    "### Linked List Helpers"
   ]
  },
  {
   "cell_type": "code",
   "execution_count": 2,
   "id": "0f824a0c",
   "metadata": {},
   "outputs": [
    {
     "name": "stdout",
     "output_type": "stream",
     "text": [
      "0 -> 1 -> 2 -> 3 -> 4 -> 5 -> 6 -> 7 -> 8 -> 9 -> None\n"
     ]
    }
   ],
   "source": [
    "# Definition for singly-linked list.\n",
    "class ListNode:\n",
    "    def __init__(self, x):\n",
    "        self.val = x\n",
    "        self.next = None\n",
    "\n",
    "\n",
    "def generate_linked_list(A):\n",
    "    if A > 0:\n",
    "        head = ListNode(0)\n",
    "        current = head\n",
    "        for i in range(1, A):  # start from 1 because head is already 0\n",
    "            newNode = ListNode(i)\n",
    "            current.next = newNode\n",
    "            current = current.next\n",
    "        return head\n",
    "\n",
    "\n",
    "def print_linked_list(head):\n",
    "    temp = head\n",
    "    while temp is not None:\n",
    "        print(temp.val, end=\" -> \")\n",
    "        temp = temp.next\n",
    "    print(\"None\")  # to mark the end of the list\n",
    "\n",
    "\n",
    "head = generate_linked_list(10)\n",
    "print_linked_list(head)"
   ]
  }
 ],
 "metadata": {
  "kernelspec": {
   "display_name": "venv (3.13.5)",
   "language": "python",
   "name": "python3"
  },
  "language_info": {
   "codemirror_mode": {
    "name": "ipython",
    "version": 3
   },
   "file_extension": ".py",
   "mimetype": "text/x-python",
   "name": "python",
   "nbconvert_exporter": "python",
   "pygments_lexer": "ipython3",
   "version": "3.13.5"
  }
 },
 "nbformat": 4,
 "nbformat_minor": 5
}
