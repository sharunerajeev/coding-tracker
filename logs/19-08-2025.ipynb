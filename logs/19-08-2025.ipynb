{
 "cells": [
  {
   "cell_type": "markdown",
   "id": "967f770a",
   "metadata": {},
   "source": [
    "# 📅 Date: 19-08-2025"
   ]
  },
  {
   "cell_type": "markdown",
   "id": "3c8baad2",
   "metadata": {},
   "source": [
    "## 🔍 Focus Area\n",
    "- Sorting"
   ]
  },
  {
   "cell_type": "markdown",
   "id": "c48f8ae7",
   "metadata": {},
   "source": [
    "## ✅ Tasks Completed\n",
    "- Problem 1: Max Chunks To Make Sorted ([Link](https://www.scaler.com/academy/mentee-dashboard/class/387818/homework/problems/4036?navref=cl_tt_lst_nm))\n",
    "- Problem 2: Inversion count in an array ([Link](https://www.scaler.com/academy/mentee-dashboard/class/387818/homework/problems/4190?navref=cl_tt_nv))\n",
    "- Problem 3: Sort subarray with left and right index ([Link](https://www.scaler.com/academy/mentee-dashboard/class/387818/homework/problems/88770?navref=cl_tt_nv))"
   ]
  },
  {
   "cell_type": "markdown",
   "id": "f1e6e70d",
   "metadata": {},
   "source": [
    "## 🧪 Code Experiments\n"
   ]
  },
  {
   "cell_type": "markdown",
   "id": "32dbac49",
   "metadata": {},
   "source": [
    "### Problem 1: Max Chunks To Make Sorted\n",
    "Given an array of integers A of size N that is a permutation of [0, 1, 2, ..., (N-1)], if we split the array into some number of \"chunks\" (partitions), and individually sort each chunk. After concatenating them in order of splitting, the result equals the sorted array.\n",
    "\n",
    "What is the most number of chunks we could have made?"
   ]
  },
  {
   "cell_type": "code",
   "execution_count": 16,
   "id": "651df2f0",
   "metadata": {},
   "outputs": [
    {
     "data": {
      "text/plain": [
       "2"
      ]
     },
     "execution_count": 16,
     "metadata": {},
     "output_type": "execute_result"
    }
   ],
   "source": [
    "# Paste your solution here\n",
    "class Solution:\n",
    "    # @param A : integer\n",
    "    def solve(self, A):\n",
    "        # Find the number of cases where there is change of sorting\n",
    "        cnt = 0\n",
    "        max_so_far = 0\n",
    "        for i in range(len(A)):\n",
    "            max_so_far = max(max_so_far, A[i])\n",
    "            if max_so_far == i:\n",
    "                cnt += 1\n",
    "        return cnt\n",
    "\n",
    "\n",
    "Solution().solve([2, 0, 1, 3])"
   ]
  },
  {
   "cell_type": "markdown",
   "id": "a50e423b",
   "metadata": {},
   "source": [
    "### Problem 2: Inversion count in an array\n",
    "Given an array of integers A. If i < j and A[i] > A[j], then the pair (i, j) is called an inversion of A. Find the total number of inversions of A modulo (109 + 7)."
   ]
  },
  {
   "cell_type": "code",
   "execution_count": 33,
   "id": "a2e553d7",
   "metadata": {},
   "outputs": [
    {
     "data": {
      "text/plain": [
       "21"
      ]
     },
     "execution_count": 33,
     "metadata": {},
     "output_type": "execute_result"
    }
   ],
   "source": [
    "# Paste your solution here\n",
    "class Solution:\n",
    "    def check_and_compare(self, X, S, E, inv_cnt):\n",
    "        mid = (S + E) // 2\n",
    "        A = X[S : mid + 1]\n",
    "        B = X[mid + 1 : E + 1]\n",
    "        C = []\n",
    "        i, j = 0, 0\n",
    "        a, b = len(A), len(B)\n",
    "        while i < a and j < b:\n",
    "            if A[i] <= B[j]:\n",
    "                C.append(A[i])\n",
    "                i += 1\n",
    "            else:\n",
    "                inv_cnt += a - i\n",
    "                C.append(B[j])\n",
    "                j += 1\n",
    "        C.extend(A[i:])\n",
    "        C.extend(B[j:])\n",
    "        X[S : E + 1] = C\n",
    "        return inv_cnt\n",
    "\n",
    "    def merge_sort(self, A, S, E, inv_cnt):\n",
    "        if S >= E:\n",
    "            return inv_cnt\n",
    "        mid = (S + E) // 2\n",
    "        inv_cnt = self.merge_sort(A, S, mid, inv_cnt)\n",
    "        inv_cnt = self.merge_sort(A, mid + 1, E, inv_cnt)\n",
    "        inv_cnt = self.check_and_compare(A, S, E, inv_cnt)\n",
    "        return inv_cnt\n",
    "\n",
    "    # @param A : integer\n",
    "    def solve(self, A):\n",
    "        return self.merge_sort(A, 0, len(A) - 1, 0) % (pow(10, 9) + 7)\n",
    "\n",
    "\n",
    "Solution().solve([6, 12, 10, 17, 10, 22, 9, 19, 21, 31, 26, 8])"
   ]
  },
  {
   "cell_type": "markdown",
   "id": "b2f11066",
   "metadata": {},
   "source": [
    "### Problem 3: Sort subarray with left and right index\n",
    "You are given an array A of integers of length N and two indices, B and C.\n",
    "\n",
    "Your task is to sort the subarray [B, C] within the given array. The rest of the array should remain unchanged."
   ]
  },
  {
   "cell_type": "code",
   "execution_count": 36,
   "id": "1f0abbf2",
   "metadata": {},
   "outputs": [
    {
     "data": {
      "text/plain": [
       "[59, 11, 8, 91, 8, 44, 49]"
      ]
     },
     "execution_count": 36,
     "metadata": {},
     "output_type": "execute_result"
    }
   ],
   "source": [
    "# Paste your solution here\n",
    "class Solution:\n",
    "    # @param A : integer\n",
    "    def solve(self, A, B, C):\n",
    "        sub_array = A[B : C + 1]\n",
    "        sub_array.sort()\n",
    "        A[B : C + 1] = sub_array\n",
    "        return A\n",
    "\n",
    "\n",
    "Solution().solve([59, 11, 8, 91, 49, 44, 8], 4, 6)"
   ]
  }
 ],
 "metadata": {
  "kernelspec": {
   "display_name": "venv (3.13.5)",
   "language": "python",
   "name": "python3"
  },
  "language_info": {
   "codemirror_mode": {
    "name": "ipython",
    "version": 3
   },
   "file_extension": ".py",
   "mimetype": "text/x-python",
   "name": "python",
   "nbconvert_exporter": "python",
   "pygments_lexer": "ipython3",
   "version": "3.13.7"
  }
 },
 "nbformat": 4,
 "nbformat_minor": 5
}
