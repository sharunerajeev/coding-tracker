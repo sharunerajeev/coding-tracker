{
 "cells": [
  {
   "cell_type": "markdown",
   "id": "57b84105",
   "metadata": {},
   "source": [
    "# 📅 Date: 11-08-2025"
   ]
  },
  {
   "cell_type": "markdown",
   "id": "71e4e656",
   "metadata": {},
   "source": [
    "## 🔍 Focus Area\n",
    "- Hashing"
   ]
  },
  {
   "cell_type": "markdown",
   "id": "671910c9",
   "metadata": {},
   "source": [
    "## ✅ Tasks Completed\n",
    "- Problem 1: Check Pair Sum ([Link](https://www.scaler.com/academy/mentee-dashboard/class/387815/assignment/problems/21202?navref=cl_tt_lst_sl))\n",
    "- Problem 2: Count distinct elements ([Link](https://www.scaler.com/academy/mentee-dashboard/class/387815/assignment/problems/27502?navref=cl_tt_lst_sl))\n",
    "- Problem 3: Count Pair Sum ([Link](https://www.scaler.com/academy/mentee-dashboard/class/387815/assignment/problems/27714?navref=cl_tt_nv))\n",
    "- Problem 4: Frequency of element query ([Link](https://www.scaler.com/academy/mentee-dashboard/class/387815/assignment/problems/31492?navref=cl_tt_nv))"
   ]
  },
  {
   "cell_type": "markdown",
   "id": "18ea1f41",
   "metadata": {},
   "source": [
    "## 🧪 Code Experiments\n"
   ]
  },
  {
   "cell_type": "markdown",
   "id": "38c20ec3",
   "metadata": {},
   "source": [
    "### Problem 1: Check Pair Sum\n",
    "Given an Array of integers B, and a target sum A.\n",
    "Check if there exists a pair (i,j) such that Bi + Bj = A and i!=j."
   ]
  },
  {
   "cell_type": "code",
   "execution_count": 2,
   "id": "eb94862c",
   "metadata": {},
   "outputs": [
    {
     "data": {
      "text/plain": [
       "0"
      ]
     },
     "execution_count": 2,
     "metadata": {},
     "output_type": "execute_result"
    }
   ],
   "source": [
    "# Paste your solution here\n",
    "class Solution:\n",
    "    # @param A : integer\n",
    "    def solve(self, A, B):\n",
    "        hs = set()\n",
    "        for i in B:\n",
    "            if A - i in hs:\n",
    "                return 1\n",
    "            else:\n",
    "                hs.add(i)\n",
    "        return 0\n",
    "\n",
    "Solution().solve(21, [9, 10, 7, 10, 9, 1, 5, 1, 5])"
   ]
  },
  {
   "cell_type": "markdown",
   "id": "6d64e7c0",
   "metadata": {},
   "source": [
    "### Problem 2: Count distinct elements\n",
    "Given an array A of N integers, return the number of unique elements in the array."
   ]
  },
  {
   "cell_type": "code",
   "execution_count": 3,
   "id": "8c2851c9",
   "metadata": {},
   "outputs": [
    {
     "data": {
      "text/plain": [
       "3"
      ]
     },
     "execution_count": 3,
     "metadata": {},
     "output_type": "execute_result"
    }
   ],
   "source": [
    "# Paste your solution here\n",
    "class Solution:\n",
    "    # @param A : integer\n",
    "    def solve(self, A):\n",
    "        return len(set(A))\n",
    "\n",
    "\n",
    "Solution().solve([3, 4, 3, 6, 6])"
   ]
  },
  {
   "cell_type": "markdown",
   "id": "e18ad618",
   "metadata": {},
   "source": [
    "### Problem 3: Count Pair Sum\n",
    "You are given an array A of N integers and an integer B. Count the number of pairs (i,j) such that A[i] + A[j] = B and i ≠ j.\n",
    "\n",
    "Since the answer can be very large, return the remainder after dividing the count with 10^9+7.\n",
    "\n",
    "Note - The pair (i,j) is same as the pair (j,i) and we need to count it only once."
   ]
  },
  {
   "cell_type": "code",
   "execution_count": 11,
   "id": "3d591a4a",
   "metadata": {},
   "outputs": [
    {
     "data": {
      "text/plain": [
       "1"
      ]
     },
     "execution_count": 11,
     "metadata": {},
     "output_type": "execute_result"
    }
   ],
   "source": [
    "# Paste your solution here\n",
    "class Solution:\n",
    "    # @param A : integer\n",
    "    def solve(self, A, B):\n",
    "        MOD = pow(10, 9) + 7\n",
    "        hm = {}\n",
    "        cnt = 0\n",
    "        for i in A:\n",
    "            if B - i in hm:\n",
    "                cnt += hm[B - i]\n",
    "            if i in hm:\n",
    "                hm[i] += 1\n",
    "            else:\n",
    "                hm[i] = 1\n",
    "        return cnt % MOD\n",
    "\n",
    "\n",
    "Solution().solve([3, 5, 1, 2], 8)"
   ]
  },
  {
   "cell_type": "markdown",
   "id": "b2c00fc8",
   "metadata": {},
   "source": [
    "### Problem 4: Frequency of element query\n",
    "SCALER organizes a series of contests aimed at helping learners enhance their coding skills. Each learner can participate in multiple contests, and their participation is represented by integers in an array. The goal is to identify how frequently each learner has participated in these contests. This information will help SCALER determine which learners are participating the least, allowing them to provide targeted support and encouragement.\n",
    "\n",
    "Given an array A that represents the participants of various contests, where each integer corresponds to a specific learner, and an array B containing the learners for whom you want to check participation frequency, your task is to find the frequency of each learner from array B in the array A and return a list containing all these frequencies\n"
   ]
  },
  {
   "cell_type": "code",
   "execution_count": 13,
   "id": "6c19eeae",
   "metadata": {},
   "outputs": [
    {
     "data": {
      "text/plain": [
       "[3, 1]"
      ]
     },
     "execution_count": 13,
     "metadata": {},
     "output_type": "execute_result"
    }
   ],
   "source": [
    "# Paste your solution here\n",
    "class Solution:\n",
    "    # @param A : integer\n",
    "    def solve(self, A, B):\n",
    "        hm = {}\n",
    "        for i in A:\n",
    "            if i in hm:\n",
    "                hm[i] += 1\n",
    "            else:\n",
    "                hm[i] = 1\n",
    "        ans = []\n",
    "        for i in B:\n",
    "            if i in hm:\n",
    "                ans.append(hm[i])\n",
    "            else:\n",
    "                ans.append(0)\n",
    "        return ans\n",
    "\n",
    "\n",
    "Solution().solve([1, 2, 1, 1], [1, 2])"
   ]
  }
 ],
 "metadata": {
  "kernelspec": {
   "display_name": "venv (3.13.5)",
   "language": "python",
   "name": "python3"
  },
  "language_info": {
   "codemirror_mode": {
    "name": "ipython",
    "version": 3
   },
   "file_extension": ".py",
   "mimetype": "text/x-python",
   "name": "python",
   "nbconvert_exporter": "python",
   "pygments_lexer": "ipython3",
   "version": "3.13.5"
  }
 },
 "nbformat": 4,
 "nbformat_minor": 5
}
