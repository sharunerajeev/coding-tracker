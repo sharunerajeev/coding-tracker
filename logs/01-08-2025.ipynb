{
 "cells": [
  {
   "cell_type": "markdown",
   "id": "ff7e9ea9",
   "metadata": {},
   "source": [
    "# 📅 Date: 01-08-2025"
   ]
  },
  {
   "cell_type": "markdown",
   "id": "2ab48e80",
   "metadata": {},
   "source": [
    "## 🔍 Focus Area\n",
    "- Bit Manipulation"
   ]
  },
  {
   "cell_type": "markdown",
   "id": "422c22dc",
   "metadata": {},
   "source": [
    "## ✅ Tasks Completed\n",
    "- Problem 1: Find nth Magic Number ([Link](https://www.scaler.com/academy/mentee-dashboard/class/387842/homework/problems/4105))\n",
    "- Problem 2: Help From Sam ([Link](https://www.scaler.com/academy/mentee-dashboard/class/387842/homework/problems/4531?navref=cl_tt_lst_sl))\n",
    "- Problem 3: Unset x bits from right ([Link](https://www.scaler.com/academy/mentee-dashboard/class/387842/homework/problems/17892?navref=cl_tt_nv))"
   ]
  },
  {
   "cell_type": "markdown",
   "id": "63252290",
   "metadata": {},
   "source": [
    "## 🧪 Code Experiments\n"
   ]
  },
  {
   "cell_type": "markdown",
   "id": "1c98627b",
   "metadata": {},
   "source": [
    "### Problem 1: Find nth Magic Number\n",
    "Given an integer A, find and return the Ath magic number.\n",
    "\n",
    "A magic number is defined as a number that can be expressed as a power of 5 or a sum of unique powers of 5.\n",
    "\n",
    "First few magic numbers are 5, 25, 30(5 + 25), 125, 130(125 + 5), …."
   ]
  },
  {
   "cell_type": "markdown",
   "id": "24e85843",
   "metadata": {},
   "source": [
    "### Problem 1: Find nth Magic Number\n",
    "Given an integer A, find and return the Ath magic number.\n",
    "\n",
    "A magic number is defined as a number that can be expressed as a power of 5 or a sum of unique powers of 5.\n",
    "\n",
    "First few magic numbers are 5, 25, 30(5 + 25), 125, 130(125 + 5), …."
   ]
  },
  {
   "cell_type": "code",
   "execution_count": 25,
   "id": "053963c7",
   "metadata": {},
   "outputs": [
    {
     "name": "stdout",
     "output_type": "stream",
     "text": [
      "30\n"
     ]
    }
   ],
   "source": [
    "# Paste your solution here\n",
    "def solution(A):\n",
    "    # Convert A to binary\n",
    "    res = 0\n",
    "    power = 1\n",
    "    base = 5\n",
    "\n",
    "    while A:\n",
    "        if A & 1:\n",
    "            res += base**power\n",
    "        A >>= 1\n",
    "        power += 1\n",
    "\n",
    "    return res\n",
    "\n",
    "\n",
    "print(solution(3))"
   ]
  },
  {
   "cell_type": "markdown",
   "id": "d038370f",
   "metadata": {},
   "source": [
    "### Problem 2: Help From Sam\n",
    "Alex and Sam are good friends. Alex is doing a lot of programming these days. He has set a target score of A for himself.\n",
    "Initially, Alex's score was zero. Alex can double his score by doing a question, or Alex can seek help from Sam for doing questions that will contribute 1 to Alex's score. Alex wants his score to be precisely A. Also, he does not want to take much help from Sam.\n",
    "\n",
    "Find and return the minimum number of times Alex needs to take help from Sam to achieve a score of A."
   ]
  },
  {
   "cell_type": "code",
   "execution_count": 29,
   "id": "817ed891",
   "metadata": {},
   "outputs": [
    {
     "name": "stdout",
     "output_type": "stream",
     "text": [
      "2\n"
     ]
    }
   ],
   "source": [
    "# Paste your solution here\n",
    "def solution(A):\n",
    "    max_help = 0\n",
    "    max_solve = 0\n",
    "    T = A\n",
    "    while T:\n",
    "        if T % 2 == 0:\n",
    "            max_solve += 1\n",
    "            T = T // 2\n",
    "        else:\n",
    "            max_help += 1\n",
    "            T -= 1\n",
    "    return max_help\n",
    "\n",
    "\n",
    "print(solution(3))"
   ]
  },
  {
   "cell_type": "markdown",
   "id": "fbabfedd",
   "metadata": {},
   "source": [
    "### Problem 3: Unset x bits from right\n",
    "Given an integer A. Unset B bits from the right of A in binary.\n",
    "\n",
    "For example, if A = 93 and B = 4, the binary representation of A is 1011101.\n",
    "If we unset the rightmost 4 bits, we get the binary number 1010000, which is equal to the decimal value 80."
   ]
  },
  {
   "cell_type": "code",
   "execution_count": null,
   "id": "52728216",
   "metadata": {},
   "outputs": [
    {
     "name": "stdout",
     "output_type": "stream",
     "text": [
      "0 38 2\n",
      "4 32 4\n",
      "0 40 8\n",
      "32\n"
     ]
    }
   ],
   "source": [
    "# Paste your solution here\n",
    "def solution(A, B):\n",
    "    checker = 1\n",
    "    while B:\n",
    "        if A & checker:\n",
    "            A ^= checker\n",
    "        checker <<= 1\n",
    "        B -= 1\n",
    "    return A\n",
    "\n",
    "\n",
    "print(solution(37, 3))"
   ]
  }
 ],
 "metadata": {
  "kernelspec": {
   "display_name": "venv (3.13.5)",
   "language": "python",
   "name": "python3"
  },
  "language_info": {
   "codemirror_mode": {
    "name": "ipython",
    "version": 3
   },
   "file_extension": ".py",
   "mimetype": "text/x-python",
   "name": "python",
   "nbconvert_exporter": "python",
   "pygments_lexer": "ipython3",
   "version": "3.13.5"
  }
 },
 "nbformat": 4,
 "nbformat_minor": 5
}
