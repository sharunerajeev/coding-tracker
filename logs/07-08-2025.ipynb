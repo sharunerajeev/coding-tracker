{
 "cells": [
  {
   "cell_type": "markdown",
   "id": "d866f90a",
   "metadata": {},
   "source": [
    "# 📅 Date: 07-08-2025"
   ]
  },
  {
   "cell_type": "markdown",
   "id": "7dcc51b4",
   "metadata": {},
   "source": [
    "## 🔍 Focus Area\n",
    "- Recursion"
   ]
  },
  {
   "cell_type": "markdown",
   "id": "14b3d17a",
   "metadata": {},
   "source": [
    "## ✅ Tasks Completed\n",
    "- Problem 1: Fast Power ([Link](https://www.scaler.com/academy/mentee-dashboard/class/387851/assignment/problems/133460?navref=cl_tt_lst_sl))\n",
    "- Problem 2: Print Array using Recursion ([Link](https://www.scaler.com/academy/mentee-dashboard/class/387851/assignment/problems/122782?navref=cl_tt_lst_sl))\n",
    "- Problem 3: All Indices Of Array ([Link](https://www.scaler.com/academy/mentee-dashboard/class/387851/assignment/problems/101467?navref=cl_tt_lst_sl))\n",
    "- Problem 4: Check Palindrome using Recursion ([Link](https://www.scaler.com/academy/mentee-dashboard/class/387851/assignment/problems/10764?navref=cl_tt_nv))"
   ]
  },
  {
   "cell_type": "markdown",
   "id": "4833d83c",
   "metadata": {},
   "source": [
    "## 🧪 Code Experiments\n"
   ]
  },
  {
   "cell_type": "markdown",
   "id": "785dcd3a",
   "metadata": {},
   "source": [
    "### Problem 1: Fast Power\n",
    "Given two positive integers A and B. Implement Fast Power function to compute AB"
   ]
  },
  {
   "cell_type": "code",
   "execution_count": 12,
   "id": "9687e734",
   "metadata": {},
   "outputs": [
    {
     "data": {
      "text/plain": [
       "1024"
      ]
     },
     "execution_count": 12,
     "metadata": {},
     "output_type": "execute_result"
    }
   ],
   "source": [
    "# Paste your solution here\n",
    "class Solution:\n",
    "    # @param A : integer\n",
    "    def solve(self, A, B):\n",
    "        if B == 0:\n",
    "            return 1\n",
    "        half_solve = self.solve(A, B // 2)\n",
    "        if B % 2 == 0:\n",
    "            return half_solve * half_solve\n",
    "        else:\n",
    "            return A * half_solve * half_solve\n",
    "\n",
    "\n",
    "Solution().solve(2, 10)"
   ]
  },
  {
   "cell_type": "markdown",
   "id": "5aabc8a7",
   "metadata": {},
   "source": [
    "### Problem 2: Print Array using Recursion\n",
    "You are given an array A. Print the elements of the array using recursion."
   ]
  },
  {
   "cell_type": "code",
   "execution_count": 14,
   "id": "a985d891",
   "metadata": {},
   "outputs": [
    {
     "name": "stdout",
     "output_type": "stream",
     "text": [
      "1 2 3 \n"
     ]
    }
   ],
   "source": [
    "# Paste your solution here\n",
    "class Solution:\n",
    "    # Print elements from i to end of array\n",
    "    def printRec(self, A, i):\n",
    "        if i == len(A):\n",
    "            return\n",
    "        print(A[i], end=\" \")\n",
    "        self.printRec(A, i + 1)\n",
    "\n",
    "    # @param A : integer\n",
    "    def solve(self, A):\n",
    "        self.printRec(A, 0)\n",
    "        print()\n",
    "\n",
    "\n",
    "Solution().solve([1, 2, 3])"
   ]
  },
  {
   "cell_type": "markdown",
   "id": "bba550a8",
   "metadata": {},
   "source": [
    "### Problem 3: All Indices Of Array\n",
    "Given an array of integers A with N elements and a target integer B, the task is to find all the indices at which B occurs in the array."
   ]
  },
  {
   "cell_type": "code",
   "execution_count": 17,
   "id": "9452ebd8",
   "metadata": {},
   "outputs": [
    {
     "data": {
      "text/plain": [
       "[2, 4, 5]"
      ]
     },
     "execution_count": 17,
     "metadata": {},
     "output_type": "execute_result"
    }
   ],
   "source": [
    "# Paste your solution here\n",
    "class Solution:\n",
    "    def searchRec(self, A, B, i, ans):\n",
    "        if i == len(A):\n",
    "            return\n",
    "        if A[i] == B:\n",
    "            ans.append(i)\n",
    "        self.searchRec(A, B, i + 1, ans)\n",
    "\n",
    "    # @param A : integer\n",
    "    def solve(self, A, B):\n",
    "        ans = []\n",
    "        self.searchRec(A, B, 0, ans)\n",
    "        return ans\n",
    "\n",
    "\n",
    "Solution().solve([8, 9, 5, 6, 5, 5], 5)"
   ]
  },
  {
   "cell_type": "markdown",
   "id": "0da41cc1",
   "metadata": {},
   "source": [
    "### Problem 4: Check Palindrome using Recursion\n",
    "Write a recursive function that checks whether string A is a palindrome or Not.\n",
    "Return 1 if the string A is a palindrome, else return 0."
   ]
  },
  {
   "cell_type": "code",
   "execution_count": 21,
   "id": "4e212066",
   "metadata": {},
   "outputs": [
    {
     "data": {
      "text/plain": [
       "0"
      ]
     },
     "execution_count": 21,
     "metadata": {},
     "output_type": "execute_result"
    }
   ],
   "source": [
    "# Paste your solution here\n",
    "class Solution:\n",
    "    def checkPalin(self, A, i, j):\n",
    "        if i >= j:\n",
    "            return 1\n",
    "        if A[i] != A[j]:\n",
    "            return 0\n",
    "        return self.checkPalin(A, i + 1, j - 1)\n",
    "\n",
    "    # @param A : integer\n",
    "    def solve(self, A):\n",
    "        return self.checkPalin(A, 0, len(A) - 1)\n",
    "\n",
    "\n",
    "Solution().solve(\"pan\")"
   ]
  },
  {
   "cell_type": "markdown",
   "id": "cfcbec89",
   "metadata": {},
   "source": [
    "### Problem 5: Tower of Hanoi\n",
    "In the classic problem of the Towers of Hanoi, you have 3 towers numbered from 1 to 3 (left to right) and A disks numbered from 1 to A (top to bottom) of different sizes which can slide onto any tower.\n",
    "The puzzle starts with disks sorted in ascending order of size from top to bottom (i.e., each disk sits on top of an even larger one).\n",
    "You have the following constraints:\n",
    "\n",
    "Only one disk can be moved at a time.\n",
    "A disk is slid off the top of one tower onto another tower.\n",
    "A disk cannot be placed on top of a smaller disk.\n",
    "\n",
    "You have to find the solution to the Tower of Hanoi problem.\n",
    "You have to return a 2D array of dimensions M x 3, where M is the minimum number of moves needed to solve the problem.\n",
    "In each row, there should be 3 integers (disk, start, end), where:\n",
    "\n",
    "disk - number of the disk being moved\n",
    "start - number of the tower from which the disk is being moved\n",
    "end - number of the tower to which the disk is being moved"
   ]
  },
  {
   "cell_type": "code",
   "execution_count": 28,
   "id": "88be187f",
   "metadata": {},
   "outputs": [
    {
     "data": {
      "text/plain": [
       "[[1, 1, 2], [2, 1, 3], [1, 2, 3]]"
      ]
     },
     "execution_count": 28,
     "metadata": {},
     "output_type": "execute_result"
    }
   ],
   "source": [
    "# Paste your solution here\n",
    "class Solution:\n",
    "    def toh(self, n, src, dest, inter, steps):\n",
    "        if n == 0:\n",
    "            return\n",
    "        self.toh(n - 1, src, inter, dest, steps)\n",
    "        ar = []\n",
    "        ar.append(n)\n",
    "        ar.append(src)\n",
    "        ar.append(dest)\n",
    "        steps.append(ar)\n",
    "        self.toh(n - 1, inter, dest, src, steps)\n",
    "\n",
    "    # @param A : integer\n",
    "    def solve(self, A):\n",
    "        steps = []\n",
    "        self.toh(A, 1, 3, 2, steps)\n",
    "        return steps\n",
    "\n",
    "\n",
    "Solution().solve(2)"
   ]
  }
 ],
 "metadata": {
  "kernelspec": {
   "display_name": "venv (3.13.5)",
   "language": "python",
   "name": "python3"
  },
  "language_info": {
   "codemirror_mode": {
    "name": "ipython",
    "version": 3
   },
   "file_extension": ".py",
   "mimetype": "text/x-python",
   "name": "python",
   "nbconvert_exporter": "python",
   "pygments_lexer": "ipython3",
   "version": "3.13.5"
  }
 },
 "nbformat": 4,
 "nbformat_minor": 5
}
