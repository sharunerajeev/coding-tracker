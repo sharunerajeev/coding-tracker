{
 "cells": [
  {
   "cell_type": "markdown",
   "id": "b95c70fa",
   "metadata": {},
   "source": [
    "# 📅 Date: 28-07-2025"
   ]
  },
  {
   "cell_type": "markdown",
   "id": "848ef476",
   "metadata": {},
   "source": [
    "## 🔍 Focus Area\n",
    "- 2D Matrix\n"
   ]
  },
  {
   "cell_type": "markdown",
   "id": "0827fb61",
   "metadata": {},
   "source": [
    "## ✅ Tasks Completed\n",
    "- [X] Problem 1: Rain Water Trapped ([Link](https://www.scaler.com/academy/mentee-dashboard/class/387812/assignment/problems/47))\n",
    "- [X] Problem 2: Spiral Order Matrix II ([Link](https://www.scaler.com/academy/mentee-dashboard/class/387812/assignment/problems/63?navref=cl_tt_nv))\n",
    "- [X] Problem 3: Next Permutation ([Link](https://www.scaler.com/academy/mentee-dashboard/class/387812/assignment/problems/71?navref=cl_tt_nv))"
   ]
  },
  {
   "cell_type": "markdown",
   "id": "36cdea7d",
   "metadata": {},
   "source": [
    "## 🧪 Code Experiments\n"
   ]
  },
  {
   "cell_type": "markdown",
   "id": "b2e3832e",
   "metadata": {},
   "source": [
    "### Problem 1: Rain Water Trapped\n",
    "Imagine a histogram where the bars' heights are given by the array A. Each bar is of uniform width, which is 1 unit. When it rains, water will accumulate in the valleys between the bars.\n",
    "\n",
    "Your task is to calculate the total amount of water that can be trapped in these valleys."
   ]
  },
  {
   "cell_type": "code",
   "execution_count": 25,
   "id": "334db68e",
   "metadata": {},
   "outputs": [
    {
     "name": "stdout",
     "output_type": "stream",
     "text": [
      "1\n"
     ]
    }
   ],
   "source": [
    "# Paste your solution here\n",
    "def solution(A):\n",
    "    n = len(A)\n",
    "    PM = [0 for _ in range(n)]  # Prefix Max\n",
    "    SM = [0 for _ in range(n)]  # Suffix Max\n",
    "    PM[0] = A[0]\n",
    "    res = 0\n",
    "    for i in range(1, n):\n",
    "        PM[i] = max(PM[i - 1], A[i])\n",
    "    SM[n - 1] = A[n - 1]\n",
    "    for i in range(n - 2, -1, -1):\n",
    "        SM[i] = max(SM[i + 1], A[i])\n",
    "    for i in range(n):\n",
    "        max_limit = min(PM[i], SM[i]) - A[i]\n",
    "        if max_limit > 0:\n",
    "            res += max_limit\n",
    "    return res\n",
    "\n",
    "\n",
    "print(solution([0, 1, 0, 2]))"
   ]
  },
  {
   "cell_type": "markdown",
   "id": "d0a1d346",
   "metadata": {},
   "source": [
    "### Problem 2: Spiral Order Matrix II\n",
    "Given an integer A, generate a square matrix filled with elements from 1 to A2 in spiral order and return the generated square matrix."
   ]
  },
  {
   "cell_type": "code",
   "execution_count": 46,
   "id": "ac64c887",
   "metadata": {},
   "outputs": [
    {
     "name": "stdout",
     "output_type": "stream",
     "text": [
      "[[1, 2, 3, 4], [12, 13, 14, 5], [11, 16, 15, 6], [10, 9, 8, 7]]\n"
     ]
    }
   ],
   "source": [
    "# Paste your solution here\n",
    "def solution(A):\n",
    "    res = [[0 for _ in range(A)] for _ in range(A)]\n",
    "    row, col, llim, ulim = 0, 0, 0, A - 1\n",
    "    num = 1\n",
    "    while llim < ulim:\n",
    "        while col < ulim:\n",
    "            res[row][col] = num\n",
    "            num += 1\n",
    "            col += 1\n",
    "        while row < ulim:\n",
    "            res[row][col] = num\n",
    "            num += 1\n",
    "            row += 1\n",
    "        while col > llim:\n",
    "            res[row][col] = num\n",
    "            num += 1\n",
    "            col -= 1\n",
    "        while row > llim:\n",
    "            res[row][col] = num\n",
    "            num += 1\n",
    "            row -= 1\n",
    "        row += 1\n",
    "        col += 1\n",
    "        llim += 1\n",
    "        ulim -= 1\n",
    "    if A % 2 == 1:\n",
    "        res[A // 2][A // 2] = num\n",
    "    return res\n",
    "\n",
    "\n",
    "print(solution(4))"
   ]
  },
  {
   "cell_type": "markdown",
   "id": "8570ebb6",
   "metadata": {},
   "source": [
    "### Problem 3: Next Permutation\n",
    "Implement the next permutation, which rearranges numbers into the numerically next greater permutation of numbers for a given array A of size N.\n",
    "\n",
    "If such arrangement is not possible, it must be rearranged as the lowest possible order, i.e., sorted in ascending order.\n",
    "\n",
    "NOTE:\n",
    "The replacement must be in-place, do not allocate extra memory.\n",
    "DO NOT USE LIBRARY FUNCTION FOR NEXT PERMUTATION. Use of Library functions will disqualify your submission retroactively and will give you penalty points."
   ]
  },
  {
   "cell_type": "code",
   "execution_count": null,
   "id": "2ab7c83d",
   "metadata": {},
   "outputs": [
    {
     "name": "stdout",
     "output_type": "stream",
     "text": [
      "-1\n",
      "[1, 2, 3]\n"
     ]
    }
   ],
   "source": [
    "# Paste your solution here\n",
    "def solution(A):\n",
    "    n = len(A)\n",
    "    i = n - 2\n",
    "    while i >= 0:\n",
    "        if A[i] < A[i + 1]:\n",
    "            break\n",
    "        i -= 1\n",
    "    if i == -1:\n",
    "        return A[::-1]\n",
    "    for j in range(n - 1, i - 1, -1):\n",
    "        if A[j] > A[i]:\n",
    "            break\n",
    "    A[i], A[j] = A[j], A[i]\n",
    "    A = A[: i + 1] + A[i + 1 :][::-1]\n",
    "    return A\n",
    "\n",
    "\n",
    "print(solution([3, 2, 1]))"
   ]
  }
 ],
 "metadata": {
  "kernelspec": {
   "display_name": "venv (3.13.5)",
   "language": "python",
   "name": "python3"
  },
  "language_info": {
   "codemirror_mode": {
    "name": "ipython",
    "version": 3
   },
   "file_extension": ".py",
   "mimetype": "text/x-python",
   "name": "python",
   "nbconvert_exporter": "python",
   "pygments_lexer": "ipython3",
   "version": "3.13.5"
  }
 },
 "nbformat": 4,
 "nbformat_minor": 5
}
