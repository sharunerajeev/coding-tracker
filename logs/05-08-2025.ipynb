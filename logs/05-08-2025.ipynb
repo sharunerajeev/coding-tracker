{
 "cells": [
  {
   "cell_type": "markdown",
   "id": "5bd5e4b8",
   "metadata": {},
   "source": [
    "# 📅 Date: 05-08-2025\n"
   ]
  },
  {
   "cell_type": "markdown",
   "id": "5ba0fe47",
   "metadata": {},
   "source": [
    "## 🔍 Focus Area\n",
    "\n",
    "- Recursion\n"
   ]
  },
  {
   "cell_type": "markdown",
   "id": "00597f9e",
   "metadata": {},
   "source": [
    "## ✅ Tasks Overview\n",
    "\n",
    "- Problem 1: Print 1 to A function ([Link](https://www.scaler.com/academy/mentee-dashboard/class/387881/assignment/problems/31725?navref=cl_tt_lst_sl))\n",
    "- Problem 2: Print A to 1 function ([Link](https://www.scaler.com/academy/mentee-dashboard/class/387881/assignment/problems/31731?navref=cl_tt_lst_sl))\n",
    "- Problem 3: Find Factorial! ([Link](https://www.scaler.com/academy/mentee-dashboard/class/387881/assignment/problems/10753?navref=cl_tt_lst_sl))\n",
    "- Problem 4: Find Fibonacci - II ([Link](https://www.scaler.com/academy/mentee-dashboard/class/387881/assignment/problems/10755?navref=cl_tt_nv))\n",
    "- Problem 5: Sum of Digits! ([Link](https://www.scaler.com/academy/mentee-dashboard/class/387881/homework/problems/10754?navref=cl_tt_lst_sl))\n",
    "- Problem 6: Decreasing Increasing in one Function ([Link](https://www.scaler.com/academy/mentee-dashboard/class/387881/homework/problems/122781?navref=cl_tt_nv))"
   ]
  },
  {
   "cell_type": "markdown",
   "id": "cd680502",
   "metadata": {},
   "source": [
    "## 🧪 Code Experiments\n"
   ]
  },
  {
   "cell_type": "markdown",
   "id": "ddb98c25",
   "metadata": {},
   "source": [
    "### Problem 1: Print 1 to A function\n",
    "\n",
    "You are given an integer A, print 1 to A using using recursion.\n",
    "\n",
    "Note :- After printing all the numbers from 1 to A, print a new line.\n"
   ]
  },
  {
   "cell_type": "code",
   "execution_count": 33,
   "id": "2abbcc61",
   "metadata": {},
   "outputs": [
    {
     "name": "stdout",
     "output_type": "stream",
     "text": [
      "1 2 3 4 5 6 7 8 9 \n"
     ]
    }
   ],
   "source": [
    "class Solution:\n",
    "    # @param A : integer\n",
    "    def solve(self, A):\n",
    "        self.printNumber(A)\n",
    "        print()\n",
    "\n",
    "    def printNumber(self, A):\n",
    "        if A == 0:\n",
    "            return\n",
    "        self.printNumber(A - 1)\n",
    "        print(A, end=\" \")\n",
    "\n",
    "\n",
    "Solution().solve(9)"
   ]
  },
  {
   "cell_type": "markdown",
   "id": "cca37811",
   "metadata": {},
   "source": [
    "### Problem 2: Print A to 1 function\n",
    "\n",
    "You are given an integer A, print A to 1 using using recursion.\n",
    "\n",
    "Note :- After printing all the numbers from A to 1, print a new line.\n"
   ]
  },
  {
   "cell_type": "code",
   "execution_count": 34,
   "id": "4874c3ef",
   "metadata": {},
   "outputs": [
    {
     "name": "stdout",
     "output_type": "stream",
     "text": [
      "9 8 7 6 5 4 3 2 1 \n"
     ]
    }
   ],
   "source": [
    "class Solution:\n",
    "    # @param A : integer\n",
    "    def solve(self, A):\n",
    "        self.printNumber(A)\n",
    "        print()\n",
    "\n",
    "    def printNumber(self, A):\n",
    "        if A == 0:\n",
    "            return\n",
    "        print(A, end=\" \")\n",
    "        self.printNumber(A - 1)\n",
    "\n",
    "\n",
    "Solution().solve(9)"
   ]
  },
  {
   "cell_type": "markdown",
   "id": "4c327a59",
   "metadata": {},
   "source": [
    "### Problem 3: Find Factorial!\n",
    "\n",
    "Write a program to find the factorial of the given number A using recursion.\n",
    "\n",
    "Note: The factorial of a number N is defined as the product of the numbers from 1 to N.\n"
   ]
  },
  {
   "cell_type": "code",
   "execution_count": 39,
   "id": "748accd0",
   "metadata": {},
   "outputs": [
    {
     "name": "stdout",
     "output_type": "stream",
     "text": [
      "120\n"
     ]
    }
   ],
   "source": [
    "class Solution:\n",
    "    # @param A : integer\n",
    "    def solve(self, A):\n",
    "        print(self.factorial(A))\n",
    "\n",
    "    def factorial(self, A):\n",
    "        if A == 1:\n",
    "            return 1\n",
    "        return A * self.factorial(A - 1)\n",
    "\n",
    "\n",
    "Solution().solve(5)"
   ]
  },
  {
   "cell_type": "markdown",
   "id": "8ef65da2",
   "metadata": {},
   "source": [
    "### Problem 4: Find Fibonacci - II\n",
    "\n",
    "The Fibonacci numbers are the numbers in the following integer sequence.\n",
    "\n",
    "0, 1, 1, 2, 3, 5, 8, 13, 21, 34, 55, 89, 144, ……..\n",
    "\n",
    "In mathematical terms, the sequence Fn of Fibonacci numbers is defined by the recurrence relation:\n",
    "\n",
    "Fn = Fn-1 + Fn-2\n",
    "\n",
    "Given a number A, find and return the Ath Fibonacci Number using recursion.\n",
    "\n",
    "Given that F0 = 0 and F1 = 1.\n"
   ]
  },
  {
   "cell_type": "code",
   "execution_count": 42,
   "id": "87a2c0c5",
   "metadata": {},
   "outputs": [
    {
     "name": "stdout",
     "output_type": "stream",
     "text": [
      "13\n"
     ]
    }
   ],
   "source": [
    "class Solution:\n",
    "    # @param A : integer\n",
    "    def solve(self, A):\n",
    "        print(self.fibonacciNumber(A))\n",
    "\n",
    "    def fibonacciNumber(self, A):\n",
    "        if A < 2:\n",
    "            return A\n",
    "        return self.fibonacciNumber(A - 1) + self.fibonacciNumber(A - 2)\n",
    "\n",
    "\n",
    "Solution().solve(7)"
   ]
  },
  {
   "cell_type": "markdown",
   "id": "c5758efe",
   "metadata": {},
   "source": [
    "### Problem 5: Sum of Digits!\n",
    "Given a number A, we need to find the sum of its digits using recursion.\n"
   ]
  },
  {
   "cell_type": "code",
   "execution_count": 13,
   "id": "a472de1d",
   "metadata": {},
   "outputs": [
    {
     "data": {
      "text/plain": [
       "10"
      ]
     },
     "execution_count": 13,
     "metadata": {},
     "output_type": "execute_result"
    }
   ],
   "source": [
    "# Paste your solution here\n",
    "class Solution:\n",
    "    # @param A : integer\n",
    "    def solve(self, A):\n",
    "        if A // 10 == 0:\n",
    "            return A % 10\n",
    "        return (A % 10) + self.solve(A // 10)\n",
    "\n",
    "\n",
    "Solution().solve(451)"
   ]
  },
  {
   "cell_type": "markdown",
   "id": "5d7774fc",
   "metadata": {},
   "source": [
    "### Problem 6: Decreasing Increasing in one Function\n",
    "\n",
    "Print N numbers in Decreasing Order and then in Increasing\n",
    "Order.\n",
    "\n",
    "- You are given a positive number N.\n",
    "- You are required to print the numbers from N to 1.You are required to not use any loops.\n",
    "- Don't change the signature of the function DecThenInc function.Note : Please print an new line after printing the output.\n"
   ]
  },
  {
   "cell_type": "code",
   "execution_count": 26,
   "id": "35977e17",
   "metadata": {},
   "outputs": [
    {
     "name": "stdout",
     "output_type": "stream",
     "text": [
      "1 1 \n"
     ]
    }
   ],
   "source": [
    "# Paste your solution here\n",
    "class Solution:\n",
    "    def printDec(self, A):\n",
    "        if A == 1:\n",
    "            print(1, end=\" \")\n",
    "            return\n",
    "        print(A, end=\" \")\n",
    "        self.printDec(A - 1)\n",
    "        return\n",
    "\n",
    "    def printInc(self, A):\n",
    "        if A == 1:\n",
    "            print(1, end=\" \")\n",
    "            return\n",
    "        self.printInc(A - 1)\n",
    "        print(A, end=\" \")\n",
    "        return\n",
    "\n",
    "    # @param A : integer\n",
    "    def solve(self, A):\n",
    "        self.printDec(A)\n",
    "        self.printInc(A)\n",
    "        print()\n",
    "\n",
    "\n",
    "Solution().solve(1)"
   ]
  }
 ],
 "metadata": {
  "kernelspec": {
   "display_name": "venv (3.13.5)",
   "language": "python",
   "name": "python3"
  },
  "language_info": {
   "codemirror_mode": {
    "name": "ipython",
    "version": 3
   },
   "file_extension": ".py",
   "mimetype": "text/x-python",
   "name": "python",
   "nbconvert_exporter": "python",
   "pygments_lexer": "ipython3",
   "version": "3.13.5"
  }
 },
 "nbformat": 4,
 "nbformat_minor": 5
}
