{
 "cells": [
  {
   "cell_type": "markdown",
   "id": "5bd5e4b8",
   "metadata": {},
   "source": [
    "# 📅 Date: 05-08-2025"
   ]
  },
  {
   "cell_type": "markdown",
   "id": "5ba0fe47",
   "metadata": {},
   "source": [
    "## 🔍 Focus Area\n",
    "- Recursion"
   ]
  },
  {
   "cell_type": "markdown",
   "id": "00597f9e",
   "metadata": {},
   "source": [
    "## ✅ Tasks Completed\n",
    "- Problem 1: Print 1 to A function ([Link](https://www.scaler.com/academy/mentee-dashboard/class/387881/assignment/problems/31725?navref=cl_tt_lst_sl))\n",
    "- Problem 2: Print A to 1 function ([Link](https://www.scaler.com/academy/mentee-dashboard/class/387881/assignment/problems/31731?navref=cl_tt_lst_sl))\n",
    "- Problem 3: Find Factorial! ([Link](https://www.scaler.com/academy/mentee-dashboard/class/387881/assignment/problems/10753?navref=cl_tt_lst_sl))\n",
    "- Problem 4: Find Fibonacci - II ([Link](https://www.scaler.com/academy/mentee-dashboard/class/387881/assignment/problems/10755?navref=cl_tt_nv))"
   ]
  },
  {
   "cell_type": "markdown",
   "id": "cd680502",
   "metadata": {},
   "source": [
    "## 🧪 Code Experiments\n"
   ]
  },
  {
   "cell_type": "markdown",
   "id": "ddb98c25",
   "metadata": {},
   "source": [
    "### Problem 1: Print 1 to A function\n",
    "You are given an integer A, print 1 to A using using recursion.\n",
    "\n",
    "Note :- After printing all the numbers from 1 to A, print a new line."
   ]
  },
  {
   "cell_type": "code",
   "execution_count": 33,
   "id": "2abbcc61",
   "metadata": {},
   "outputs": [
    {
     "name": "stdout",
     "output_type": "stream",
     "text": [
      "1 2 3 4 5 6 7 8 9 \n"
     ]
    }
   ],
   "source": [
    "class Solution:\n",
    "    # @param A : integer\n",
    "    def solve(self, A):\n",
    "        self.printNumber(A)\n",
    "        print()\n",
    "\n",
    "    def printNumber(self, A):\n",
    "        if A == 0:\n",
    "            return\n",
    "        self.printNumber(A - 1)\n",
    "        print(A, end=\" \")\n",
    "\n",
    "\n",
    "Solution().solve(9)"
   ]
  },
  {
   "cell_type": "markdown",
   "id": "cca37811",
   "metadata": {},
   "source": [
    "### Problem 2: Print A to 1 function\n",
    "You are given an integer A, print A to 1 using using recursion.\n",
    "\n",
    "Note :- After printing all the numbers from A to 1, print a new line."
   ]
  },
  {
   "cell_type": "code",
   "execution_count": 34,
   "id": "4874c3ef",
   "metadata": {},
   "outputs": [
    {
     "name": "stdout",
     "output_type": "stream",
     "text": [
      "9 8 7 6 5 4 3 2 1 \n"
     ]
    }
   ],
   "source": [
    "class Solution:\n",
    "    # @param A : integer\n",
    "    def solve(self, A):\n",
    "        self.printNumber(A)\n",
    "        print()\n",
    "\n",
    "    def printNumber(self, A):\n",
    "        if A == 0:\n",
    "            return\n",
    "        print(A, end=\" \")\n",
    "        self.printNumber(A - 1)\n",
    "\n",
    "\n",
    "Solution().solve(9)"
   ]
  },
  {
   "cell_type": "markdown",
   "id": "4c327a59",
   "metadata": {},
   "source": [
    "### Problem 3: Find Factorial!\n",
    "Write a program to find the factorial of the given number A using recursion.\n",
    "\n",
    "Note: The factorial of a number N is defined as the product of the numbers from 1 to N."
   ]
  },
  {
   "cell_type": "code",
   "execution_count": 39,
   "id": "748accd0",
   "metadata": {},
   "outputs": [
    {
     "name": "stdout",
     "output_type": "stream",
     "text": [
      "120\n"
     ]
    }
   ],
   "source": [
    "class Solution:\n",
    "    # @param A : integer\n",
    "    def solve(self, A):\n",
    "        print(self.factorial(A))\n",
    "\n",
    "    def factorial(self, A):\n",
    "        if A == 1:\n",
    "            return 1\n",
    "        return A * self.factorial(A - 1)\n",
    "\n",
    "\n",
    "Solution().solve(5)"
   ]
  },
  {
   "cell_type": "markdown",
   "id": "8ef65da2",
   "metadata": {},
   "source": [
    "### Problem 4: Find Fibonacci - II\n",
    "The Fibonacci numbers are the numbers in the following integer sequence.\n",
    "\n",
    "0, 1, 1, 2, 3, 5, 8, 13, 21, 34, 55, 89, 144, ……..\n",
    "\n",
    "In mathematical terms, the sequence Fn of Fibonacci numbers is defined by the recurrence relation:\n",
    "\n",
    "Fn = Fn-1 + Fn-2\n",
    "\n",
    "Given a number A, find and return the Ath Fibonacci Number using recursion.\n",
    "\n",
    "Given that F0 = 0 and F1 = 1."
   ]
  },
  {
   "cell_type": "code",
   "execution_count": 42,
   "id": "87a2c0c5",
   "metadata": {},
   "outputs": [
    {
     "name": "stdout",
     "output_type": "stream",
     "text": [
      "13\n"
     ]
    }
   ],
   "source": [
    "class Solution:\n",
    "    # @param A : integer\n",
    "    def solve(self, A):\n",
    "        print(self.fibonacciNumber(A))\n",
    "\n",
    "    def fibonacciNumber(self, A):\n",
    "        if A < 2:\n",
    "            return A\n",
    "        return self.fibonacciNumber(A - 1) + self.fibonacciNumber(A - 2)\n",
    "\n",
    "\n",
    "Solution().solve(7)"
   ]
  }
 ],
 "metadata": {
  "kernelspec": {
   "display_name": "venv (3.13.5)",
   "language": "python",
   "name": "python3"
  },
  "language_info": {
   "codemirror_mode": {
    "name": "ipython",
    "version": 3
   },
   "file_extension": ".py",
   "mimetype": "text/x-python",
   "name": "python",
   "nbconvert_exporter": "python",
   "pygments_lexer": "ipython3",
   "version": "3.13.5"
  }
 },
 "nbformat": 4,
 "nbformat_minor": 5
}
