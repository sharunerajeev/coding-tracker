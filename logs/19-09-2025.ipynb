{
 "cells": [
  {
   "cell_type": "markdown",
   "id": "1974aed2",
   "metadata": {},
   "source": [
    "# 📅 Date: 19-09-2025"
   ]
  },
  {
   "cell_type": "markdown",
   "id": "44ab2c30",
   "metadata": {},
   "source": [
    "## 🔍 Focus Area\n",
    "- Trees"
   ]
  },
  {
   "cell_type": "markdown",
   "id": "51373e40",
   "metadata": {},
   "source": [
    "## ✅ Tasks Completed\n",
    "- Problem 1: Equal Tree Partition ([Link](https://www.scaler.com/academy/mentee-dashboard/class/387908/assignment/problems/4859))\n",
    "- Problem 2: Balanced Binary Tree ([Link](https://www.scaler.com/academy/mentee-dashboard/class/387908/assignment/problems/225?navref=cl_tt_lst_nm))\n",
    "- Problem 3: Path Sum ([Link](https://www.scaler.com/academy/mentee-dashboard/class/387908/assignment/problems/234?navref=cl_tt_lst_nm))\n",
    "- Problem 4: <Name> ([Link](#))"
   ]
  },
  {
   "cell_type": "markdown",
   "id": "34a62a0e",
   "metadata": {},
   "source": [
    "## 🧪 Code Experiments\n"
   ]
  },
  {
   "cell_type": "markdown",
   "id": "9996e4ed",
   "metadata": {},
   "source": [
    "### Problem 1: Equal Tree Partition\n",
    "Given a binary tree A. Check whether it is possible to partition the tree to two trees which have equal sum of values after removing exactly one edge on the original tree."
   ]
  },
  {
   "cell_type": "code",
   "execution_count": null,
   "id": "3ec7a21a",
   "metadata": {},
   "outputs": [
    {
     "data": {
      "text/plain": [
       "0"
      ]
     },
     "execution_count": 1,
     "metadata": {},
     "output_type": "execute_result"
    }
   ],
   "source": [
    "from helpers import tree_helpers\n",
    "from collections import deque\n",
    "\n",
    "\n",
    "class Solution:\n",
    "    def get_total_sum(self, root):\n",
    "        if root == None:\n",
    "            return 0\n",
    "        return root.val + self.get_total_sum(root.left) + self.get_total_sum(root.right)\n",
    "    \n",
    "    def find_subtree_with_sum(self, root, target):\n",
    "        if root == None:\n",
    "            return (False, 0)\n",
    "        left_sum = self.find_subtree_with_sum(root.left, target)\n",
    "        right_sum = self.find_subtree_with_sum(root.right, target)\n",
    "        total_sum = root.val + left_sum[1] + right_sum[1]\n",
    "        subtree_found = left_sum[0] or right_sum[0] or (total_sum == target)\n",
    "        return (subtree_found, total_sum)\n",
    "\n",
    "    # @param A : integer\n",
    "    def solve(self, A):\n",
    "        # Find the total sum\n",
    "        total_sum = self.get_total_sum(A)\n",
    "        if total_sum % 2 == 1:\n",
    "            return 0\n",
    "        result = self.find_subtree_with_sum(A, total_sum // 2)\n",
    "        return 1 if result[0] else 0\n",
    "\n",
    "\n",
    "nodes = [5, 3, 7, 4, 6, 5, 6]\n",
    "root = tree_helpers.build_tree_level_order(nodes)\n",
    "Solution().solve(root)"
   ]
  },
  {
   "cell_type": "markdown",
   "id": "c240d698",
   "metadata": {},
   "source": [
    "### Problem 2: Balanced Binary Tree\n",
    "Given a root of binary tree A, determine if it is height-balanced.\n",
    "\n",
    "A height-balanced binary tree is defined as a binary tree in which the depth of the two subtrees of every node never differ by more than 1."
   ]
  },
  {
   "cell_type": "code",
   "execution_count": 4,
   "id": "c1f811a4",
   "metadata": {},
   "outputs": [
    {
     "data": {
      "text/plain": [
       "0"
      ]
     },
     "execution_count": 4,
     "metadata": {},
     "output_type": "execute_result"
    }
   ],
   "source": [
    "from helpers import tree_helpers\n",
    "from collections import deque\n",
    "\n",
    "\n",
    "class Solution:\n",
    "    def __init__(self):\n",
    "        self.is_balanced = True\n",
    "\n",
    "    def get_height(self, root):\n",
    "        if root == None:\n",
    "            return -1\n",
    "        left_height = self.get_height(root.left)\n",
    "        right_height = self.get_height(root.right)\n",
    "        if abs(right_height - left_height) > 1:\n",
    "            self.is_balanced = False\n",
    "        return (\n",
    "            max(left_height, right_height) + 1\n",
    "        )  # To mark the height including the root +1 is added\n",
    "\n",
    "    def solve(self, A):\n",
    "        self.get_height(A)\n",
    "        return 1 if self.is_balanced else 0\n",
    "\n",
    "\n",
    "nodes = [1, 2, 3, 4, -1, -1, -1, -1, 1]\n",
    "root = tree_helpers.build_tree_level_order(nodes)\n",
    "Solution().solve(root)"
   ]
  },
  {
   "cell_type": "markdown",
   "id": "0310d1b5",
   "metadata": {},
   "source": [
    "### Problem 3: Path Sum\n",
    "Given a binary tree and a sum, determine if the tree has a root-to-leaf path such that adding up all the values along the path equals the given sum."
   ]
  },
  {
   "cell_type": "code",
   "execution_count": 10,
   "id": "f33406e7",
   "metadata": {},
   "outputs": [
    {
     "data": {
      "text/plain": [
       "1"
      ]
     },
     "execution_count": 10,
     "metadata": {},
     "output_type": "execute_result"
    }
   ],
   "source": [
    "from helpers import tree_helpers\n",
    "from collections import deque\n",
    "\n",
    "\n",
    "class Solution:\n",
    "    def hasPathSum(self, A, B):\n",
    "        if A == None:\n",
    "            return 0\n",
    "        B -= A.val\n",
    "        if A.left == None and A.right == None:\n",
    "            return 1 if B == 0 else 0\n",
    "        left_ans = self.hasPathSum(A.left, B)\n",
    "        right_ans = self.hasPathSum(A.right, B)\n",
    "        return left_ans | right_ans\n",
    "\n",
    "\n",
    "nodes = [5, 4, 8, 11, -1, 13, 4, 7, 2, -1, 1]\n",
    "root = tree_helpers.build_tree_level_order(nodes)\n",
    "Solution().hasPathSum(root, 22)"
   ]
  }
 ],
 "metadata": {
  "kernelspec": {
   "display_name": "venv (3.13.5)",
   "language": "python",
   "name": "python3"
  },
  "language_info": {
   "codemirror_mode": {
    "name": "ipython",
    "version": 3
   },
   "file_extension": ".py",
   "mimetype": "text/x-python",
   "name": "python",
   "nbconvert_exporter": "python",
   "pygments_lexer": "ipython3",
   "version": "3.13.7"
  }
 },
 "nbformat": 4,
 "nbformat_minor": 5
}
