{
 "cells": [
  {
   "cell_type": "markdown",
   "id": "2167db3e",
   "metadata": {},
   "source": [
    "# 📅 Date: 18-08-2025"
   ]
  },
  {
   "cell_type": "markdown",
   "id": "5409dc6f",
   "metadata": {},
   "source": [
    "## 🔍 Focus Area\n",
    "- Sort"
   ]
  },
  {
   "cell_type": "markdown",
   "id": "d20d9d91",
   "metadata": {},
   "source": [
    "## ✅ Tasks Completed\n",
    "- Problem 1: Count Sort ([Link](https://www.scaler.com/academy/mentee-dashboard/class/387818/assignment/problems/21391?navref=cl_tt_lst_nm))\n",
    "- Problem 2: Merge Two Sorted Arrays ([Link](https://www.scaler.com/academy/mentee-dashboard/class/387818/assignment/problems/164?navref=cl_tt_lst_nm))\n",
    "- Problem 3: Smallest Number ([Link](https://www.scaler.com/academy/mentee-dashboard/class/387818/assignment/problems/88764?navref=cl_tt_lst_sl))\n",
    "- Problem 4: Sort by Color ([Link](https://www.scaler.com/academy/mentee-dashboard/class/387818/assignment/problems/167?navref=cl_tt_lst_sl))\n",
    "- Problem 5: Sort by Color ([Link](https://www.scaler.com/academy/mentee-dashboard/class/387818/assignment/problems/167?navref=cl_tt_lst_sl))"
   ]
  },
  {
   "cell_type": "markdown",
   "id": "dc6d3f88",
   "metadata": {},
   "source": [
    "## 🧪 Code Experiments\n"
   ]
  },
  {
   "cell_type": "markdown",
   "id": "e16adcc3",
   "metadata": {},
   "source": [
    "### Problem 1: Count Sort\n",
    "Given an array A. Sort this array using Count Sort Algorithm and return the sorted array."
   ]
  },
  {
   "cell_type": "code",
   "execution_count": 8,
   "id": "059b644f",
   "metadata": {},
   "outputs": [
    {
     "data": {
      "text/plain": [
       "[1, 2, 3, 4]"
      ]
     },
     "execution_count": 8,
     "metadata": {},
     "output_type": "execute_result"
    }
   ],
   "source": [
    "# Paste your solution here\n",
    "class Solution:\n",
    "    # @param A : integer\n",
    "    def solve(self, A):\n",
    "        res = []\n",
    "        count = [0 for _ in range(max(A) + 1)]\n",
    "        for i in A:\n",
    "            count[i] += 1\n",
    "        for i in range(len(count)):\n",
    "            for _ in range(count[i]):\n",
    "                res.append(i)\n",
    "        return res\n",
    "\n",
    "\n",
    "Solution().solve([4, 2, 1, 3])"
   ]
  },
  {
   "cell_type": "markdown",
   "id": "797d8bfd",
   "metadata": {},
   "source": [
    "### Problem 2: Merge Two Sorted Arrays\n",
    "Given two sorted integer arrays A and B, merge B and A as one sorted array and return it as an output.\n",
    "\n",
    "Note: A linear time complexity is expected and you should avoid use of any library function."
   ]
  },
  {
   "cell_type": "code",
   "execution_count": 12,
   "id": "3ae3ceed",
   "metadata": {},
   "outputs": [
    {
     "data": {
      "text/plain": [
       "[1, 2]"
      ]
     },
     "execution_count": 12,
     "metadata": {},
     "output_type": "execute_result"
    }
   ],
   "source": [
    "# Paste your solution here\n",
    "class Solution:\n",
    "    # @param A : integer\n",
    "    def solve(self, A, B):\n",
    "        C = []\n",
    "        i, j = 0, 0\n",
    "        a, b = len(A), len(B)\n",
    "        while i < a and j < b:\n",
    "            if A[i] < B[j]:\n",
    "                C.append(A[i])\n",
    "                i += 1\n",
    "            elif A[i] > B[j]:\n",
    "                C.append(B[j])\n",
    "                j += 1\n",
    "            else:\n",
    "                C.append(A[i])\n",
    "                C.append(B[j])\n",
    "                i += 1\n",
    "                j += 1\n",
    "        while i < a:\n",
    "            C.append(A[i])\n",
    "            i += 1\n",
    "        while j < b:\n",
    "            C.append(B[j])\n",
    "            j += 1\n",
    "\n",
    "        return C\n",
    "\n",
    "\n",
    "Solution().solve([2], [1])"
   ]
  },
  {
   "cell_type": "markdown",
   "id": "e1b49b1a",
   "metadata": {},
   "source": [
    "### Problem 3: Smallest Number\n",
    "An integer is given to you in the form of an array, with each element being a separate digit.\n",
    "\n",
    "Find the smallest number (leading zeroes are allowed) that can be formed by rearranging the digits of the given number in an array. Return the smallest number in the form an array.\n",
    "\n",
    "Note - Do not use any sorting algorithm or library's sort method."
   ]
  },
  {
   "cell_type": "code",
   "execution_count": 13,
   "id": "93bb17b3",
   "metadata": {},
   "outputs": [
    {
     "data": {
      "text/plain": [
       "[1, 2, 2, 3, 4, 6, 7]"
      ]
     },
     "execution_count": 13,
     "metadata": {},
     "output_type": "execute_result"
    }
   ],
   "source": [
    "# Paste your solution here\n",
    "class Solution:\n",
    "    # @param A : integer\n",
    "    def solve(self, A):\n",
    "        res = []\n",
    "        count = [0 for _ in range(max(A) + 1)]\n",
    "        for i in A:\n",
    "            count[i] += 1\n",
    "        for i in range(len(count)):\n",
    "            for _ in range(count[i]):\n",
    "                res.append(i)\n",
    "        return res\n",
    "\n",
    "Solution().solve([6, 3, 4, 2, 7, 2, 1])"
   ]
  },
  {
   "cell_type": "markdown",
   "id": "abe4a21b",
   "metadata": {},
   "source": [
    "### Problem 4: Sort by Color\n",
    "Given an array with N objects colored red, white, or blue, sort them so that objects of the same color are adjacent, with the colors in the order red, white, and blue."
   ]
  },
  {
   "cell_type": "code",
   "execution_count": 14,
   "id": "42f3e7d4",
   "metadata": {},
   "outputs": [
    {
     "data": {
      "text/plain": [
       "[0, 0, 1, 1, 2, 2]"
      ]
     },
     "execution_count": 14,
     "metadata": {},
     "output_type": "execute_result"
    }
   ],
   "source": [
    "# Paste your solution here\n",
    "class Solution:\n",
    "    # @param A : integer\n",
    "    def solve(self, A):\n",
    "        res = []\n",
    "        count = [0 for _ in range(3)]\n",
    "        for i in A:\n",
    "            count[i] += 1\n",
    "        for i in range(len(count)):\n",
    "            for _ in range(count[i]):\n",
    "                res.append(i)\n",
    "        return res\n",
    "\n",
    "\n",
    "Solution().solve([0, 1, 2, 0, 1, 2])"
   ]
  },
  {
   "cell_type": "markdown",
   "id": "48af5fcf",
   "metadata": {},
   "source": [
    "### Problem 5: Merge Sort\n",
    "Given an integer array A, sort the array using Merge Sort.\n"
   ]
  },
  {
   "cell_type": "code",
   "execution_count": 21,
   "id": "72f6a32e",
   "metadata": {},
   "outputs": [
    {
     "data": {
      "text/plain": [
       "[1, 1, 2, 4, 5, 10]"
      ]
     },
     "execution_count": 21,
     "metadata": {},
     "output_type": "execute_result"
    }
   ],
   "source": [
    "# Paste your solution here\n",
    "class Solution:\n",
    "    def merge_sorted_array(self, X, S, E):\n",
    "        mid = (S + E) // 2\n",
    "        A = X[S : mid + 1]\n",
    "        B = X[mid + 1 : E + 1]\n",
    "        C = []\n",
    "        i, j = 0, 0\n",
    "        a, b = len(A), len(B)\n",
    "        while i < a and j < b:\n",
    "            if A[i] < B[j]:\n",
    "                C.append(A[i])\n",
    "                i += 1\n",
    "            elif A[i] > B[j]:\n",
    "                C.append(B[j])\n",
    "                j += 1\n",
    "            else:\n",
    "                C.append(A[i])\n",
    "                C.append(B[j])\n",
    "                i += 1\n",
    "                j += 1\n",
    "        while i < a:\n",
    "            C.append(A[i])\n",
    "            i += 1\n",
    "        while j < b:\n",
    "            C.append(B[j])\n",
    "            j += 1\n",
    "        X[S : E + 1] = C\n",
    "\n",
    "    def merge_sort(self, A, S, E):\n",
    "        if S >= E:\n",
    "            return\n",
    "        mid = (S + E) // 2\n",
    "        self.merge_sort(A, S, mid)\n",
    "        self.merge_sort(A, mid + 1, E)\n",
    "        self.merge_sorted_array(A, S, E)\n",
    "\n",
    "    # @param A : integer\n",
    "    def solve(self, A):\n",
    "        self.merge_sort(A, 0, len(A) - 1)\n",
    "        return A\n",
    "\n",
    "\n",
    "Solution().solve([1, 4, 10, 2, 1, 5])"
   ]
  }
 ],
 "metadata": {
  "kernelspec": {
   "display_name": "venv (3.13.5)",
   "language": "python",
   "name": "python3"
  },
  "language_info": {
   "codemirror_mode": {
    "name": "ipython",
    "version": 3
   },
   "file_extension": ".py",
   "mimetype": "text/x-python",
   "name": "python",
   "nbconvert_exporter": "python",
   "pygments_lexer": "ipython3",
   "version": "3.13.6"
  }
 },
 "nbformat": 4,
 "nbformat_minor": 5
}
