{
 "cells": [
  {
   "cell_type": "markdown",
   "id": "d4ce3b97",
   "metadata": {},
   "source": [
    "# 📅 Date: 06-09-2025"
   ]
  },
  {
   "cell_type": "markdown",
   "id": "c08fbd76",
   "metadata": {},
   "source": [
    "## 🔍 Focus Area\n",
    "- Linked List"
   ]
  },
  {
   "cell_type": "markdown",
   "id": "65f526b8",
   "metadata": {},
   "source": [
    "## ✅ Tasks Completed\n",
    "- Problem 1: Insert in Linked List ([Link](https://www.scaler.com/academy/mentee-dashboard/class/387839/assignment/problems/30536))\n",
    "- Problem 2: Delete in Linked List ([Link](https://www.scaler.com/academy/mentee-dashboard/class/387839/assignment/problems/30667?navref=cl_tt_lst_sl))\n",
    "- Problem 3: Reverse Linked List ([Link](https://www.scaler.com/academy/mentee-dashboard/class/387839/assignment/problems/40?navref=cl_tt_lst_sl))\n",
    "- Problem 4: Copy List ([Link](https://www.scaler.com/academy/mentee-dashboard/class/387839/assignment/problems/159?navref=cl_tt_nv))"
   ]
  },
  {
   "cell_type": "markdown",
   "id": "523141e3",
   "metadata": {},
   "source": [
    "## 🧪 Code Experiments\n"
   ]
  },
  {
   "cell_type": "markdown",
   "id": "0cb2a498",
   "metadata": {},
   "source": [
    "### Problem 1: Insert in Linked List\n",
    "You are given A which is the head of a linked list. Also given is the value B and position C. Complete the function that should insert a new node with the said value at the given position.\n",
    "\n",
    "Notes:\n",
    "\n",
    "In case the position is more than length of linked list, simply insert the new node at the tail only.\n",
    "In case the pos is 0, simply insert the new node at head only.\n",
    "Follow 0-based indexing for the node numbering."
   ]
  },
  {
   "cell_type": "code",
   "execution_count": null,
   "id": "6d6ce69f",
   "metadata": {},
   "outputs": [],
   "source": [
    "# Definition for singly-linked list.\n",
    "class ListNode:\n",
    "   def __init__(self, x):\n",
    "       self.val = x\n",
    "       self.next = None\n",
    "\n",
    "class Solution:\n",
    "    # @param A : head node of linked list\n",
    "    # @param B : integer\n",
    "    # @param C : integer\n",
    "    # @return the head node in the linked list\n",
    "    def solve(self, A, B, C):\n",
    "        temp = A\n",
    "        if temp == None:\n",
    "            return ListNode(B)\n",
    "\n",
    "        if C == 0:\n",
    "            newNode = ListNode(B)\n",
    "            newNode.next = temp\n",
    "            return newNode\n",
    "\n",
    "        for _ in range(C-1):\n",
    "            if temp.next != None:\n",
    "                temp = temp.next\n",
    "            else:\n",
    "                temp.next = ListNode(B)\n",
    "                return A\n",
    "        \n",
    "        newNode = ListNode(B)\n",
    "        newNode.next = temp.next\n",
    "        temp.next = newNode\n",
    "\n",
    "        return A"
   ]
  },
  {
   "cell_type": "markdown",
   "id": "58a045ae",
   "metadata": {},
   "source": [
    "### Problem 2: Delete in Linked List\n",
    "\n",
    "You are given the head of a linked list A and an integer B. Delete the B-th node from the linked list.\n",
    "\n",
    "Note : Follow 0-based indexing for the node numbering."
   ]
  },
  {
   "cell_type": "code",
   "execution_count": null,
   "id": "06702745",
   "metadata": {},
   "outputs": [],
   "source": [
    "# Definition for singly-linked list.\n",
    "# class ListNode:\n",
    "#    def __init__(self, x):\n",
    "#        self.val = x\n",
    "#        self.next = None\n",
    "\n",
    "class Solution:\n",
    "    # @param A : head node of linked list\n",
    "    # @param B : integer\n",
    "    # @return the head node in the linked list\n",
    "    def solve(self, A, B):\n",
    "            temp = A\n",
    "            if B >= 1:\n",
    "                for i in range(B-1):\n",
    "                    temp = temp.next\n",
    "\n",
    "                temp.next = temp.next.next\n",
    "                return A\n",
    "            else:\n",
    "                return A.next"
   ]
  },
  {
   "cell_type": "markdown",
   "id": "7040ac37",
   "metadata": {},
   "source": [
    "### Problem 3: Reverse Linked List\n",
    "\n",
    "You are given a singly linked list having head node A. You have to reverse the linked list and return the head node of that reversed list.\n",
    "\n",
    "NOTE: You have to do it in-place and in one-pass."
   ]
  },
  {
   "cell_type": "code",
   "execution_count": null,
   "id": "a9028260",
   "metadata": {},
   "outputs": [],
   "source": [
    "# Definition for singly-linked list.\n",
    "# class ListNode:\n",
    "#\tdef __init__(self, x):\n",
    "#\t\tself.val = x\n",
    "#\t\tself.next = None\n",
    "\n",
    "class Solution:\n",
    "\t# @param A : head node of linked list\n",
    "\t# @return the head node in the linked list\n",
    "\tdef reverseList(self, A):\n",
    "\t\tcurNode = A\n",
    "\t\tprevNode = None\n",
    "\t\twhile curNode != None:\n",
    "\t\t\tnextNode = curNode.next\n",
    "\t\t\tcurNode.next = prevNode\n",
    "\t\t\tprevNode = curNode\n",
    "\t\t\tcurNode = nextNode\n",
    "\t\treturn prevNode\n",
    "\t\t\n"
   ]
  },
  {
   "cell_type": "markdown",
   "id": "25844f4e",
   "metadata": {},
   "source": [
    "### Problem 4: Copy List\n",
    "\n",
    "You are given a linked list A\n",
    "Each node in the linked list contains two pointers: a next pointer and a random pointer\n",
    "The next pointer points to the next node in the list\n",
    "The random pointer can point to any node in the list, or it can be NULL\n",
    "Your task is to create a deep copy of the linked list A\n",
    "The copied list should be a completely separate linked list from the original list, but with the same node values and random pointer connections as the original list\n",
    "You should create a new linked list B, where each node in B has the same value as the corresponding node in A\n",
    "The next and random pointers of each node in B should point to the corresponding nodes in B (rather than A)"
   ]
  },
  {
   "cell_type": "code",
   "execution_count": null,
   "id": "e2f48e4d",
   "metadata": {},
   "outputs": [],
   "source": [
    "# Definition for singly-linked list with a random pointer.\n",
    "class RandomListNode:\n",
    "    def __init__(self, x):\n",
    "        self.label = x\n",
    "        self.next = None\n",
    "        self.random = None\n",
    "\n",
    "class Solution:\n",
    "    # @param head, a RandomListNode\n",
    "    # @return a RandomListNode\n",
    "    def copyRandomList(self, head):\n",
    "        if not head:\n",
    "            return None\n",
    "\n",
    "        temp_LL = head\n",
    "        while temp_LL:\n",
    "            nextNode = temp_LL.next\n",
    "            temp_LL.next = RandomListNode(temp_LL.label)\n",
    "            temp_LL.next.next = nextNode\n",
    "            temp_LL = nextNode\n",
    "        \n",
    "        # Step 2\n",
    "        # Map all the random nodes\n",
    "        temp_LL = head\n",
    "        while temp_LL:\n",
    "            if temp_LL.random:\n",
    "                temp_LL.next.random = temp_LL.random.next\n",
    "            temp_LL = temp_LL.next.next\n",
    "\n",
    "        temp_LL = head\n",
    "        duplicated_LL_head = head.next\n",
    "        duplicated_temp_LL = duplicated_LL_head\n",
    "        while temp_LL:\n",
    "            temp_LL.next = duplicated_temp_LL.next\n",
    "            temp_LL = temp_LL.next\n",
    "            if temp_LL:\n",
    "                duplicated_temp_LL.next = temp_LL.next\n",
    "                duplicated_temp_LL = duplicated_temp_LL.next\n",
    "        \n",
    "        return duplicated_LL_head\n"
   ]
  }
 ],
 "metadata": {
  "language_info": {
   "name": "python"
  }
 },
 "nbformat": 4,
 "nbformat_minor": 5
}
