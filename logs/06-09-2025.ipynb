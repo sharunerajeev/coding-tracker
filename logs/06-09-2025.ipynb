{
 "cells": [
  {
   "cell_type": "markdown",
   "id": "9261ab64",
   "metadata": {},
   "source": [
    "# 📅 Date: 06-09-2025"
   ]
  },
  {
   "cell_type": "markdown",
   "id": "7a3eeafd",
   "metadata": {},
   "source": [
    "## 🔍 Focus Area\n",
    "- Binary Search, Linked List"
   ]
  },
  {
   "cell_type": "markdown",
   "id": "a3487ac1",
   "metadata": {},
   "source": [
    "## ✅ Tasks Completed\n",
    "- Problem 1: Matrix Median ([Link](https://www.scaler.com/academy/mentee-dashboard/class/387884/homework/problems/357?navref=cl_tt_lst_nm))\n",
    "- Problem 2: Ath Magical Number ([Link](https://www.scaler.com/academy/mentee-dashboard/class/387884/homework/problems/5697?navref=cl_tt_nv))\n",
    "- Problem 3: Remove Duplicates from Sorted List ([Link](https://www.scaler.com/academy/mentee-dashboard/class/387839/homework/problems/37?navref=cl_tt_nv))\n",
    "- Problem 4: Remove Nth Node from List End ([Link](https://www.scaler.com/academy/mentee-dashboard/class/387839/homework/problems/39?navref=cl_tt_nv))"
   ]
  },
  {
   "cell_type": "markdown",
   "id": "62c20818",
   "metadata": {},
   "source": [
    "## 🧪 Code Experiments\n"
   ]
  },
  {
   "cell_type": "markdown",
   "id": "405e260c",
   "metadata": {},
   "source": [
    "### Problem 1: Matrix Median\n",
    "Given a matrix of integers A of size N x M in which each row is sorted.\n",
    "\n",
    "Find and return the overall median of matrix A.\n",
    "\n",
    "NOTE: No extra memory is allowed.\n",
    "\n",
    "NOTE: Rows are numbered from top to bottom and columns are numbered from left to right."
   ]
  },
  {
   "cell_type": "code",
   "execution_count": 14,
   "id": "3ec98643",
   "metadata": {},
   "outputs": [
    {
     "data": {
      "text/plain": [
       "3"
      ]
     },
     "execution_count": 14,
     "metadata": {},
     "output_type": "execute_result"
    }
   ],
   "source": [
    "# Paste your solution here\n",
    "class Solution:\n",
    "    def checkFunction(self, A, B):\n",
    "        cnt = 0\n",
    "        for i in A:\n",
    "            low, high = 0, len(i) - 1\n",
    "            while low <= high:\n",
    "                mid = (low + high) // 2\n",
    "                if i[mid] <= B:\n",
    "                    low = mid + 1\n",
    "                else:\n",
    "                    high = mid - 1\n",
    "            cnt += low\n",
    "        return cnt\n",
    "\n",
    "    # @param A : integer\n",
    "    def solve(self, A):\n",
    "        minVal, maxVal = float(\"inf\"), float(\"-inf\")\n",
    "        for i in A:\n",
    "            minVal = min(minVal, min(i))\n",
    "            maxVal = max(maxVal, max(i))\n",
    "\n",
    "        low, high = minVal, maxVal\n",
    "        midIndex = (len(A) * len(A[0]) + 1) // 2\n",
    "        while low <= high:\n",
    "            mid = (low + high) // 2\n",
    "            if self.checkFunction(A, mid) <= midIndex:\n",
    "                low = mid + 1\n",
    "            else:\n",
    "                high = mid - 1\n",
    "\n",
    "        return low\n",
    "\n",
    "\n",
    "Solution().solve([[1, 1, 3, 3, 3, 3, 3]])"
   ]
  },
  {
   "cell_type": "markdown",
   "id": "4c779ee8",
   "metadata": {},
   "source": [
    "### Problem 2: Ath Magical Number\n",
    "You are given three positive integers, A, B, and C.\n",
    "\n",
    "Any positive integer is magical if divisible by either B or C.\n",
    "\n",
    "Return the Ath smallest magical number. Since the answer may be very large, return modulo 109 + 7.\n",
    "\n",
    "Note: Ensure to prevent integer overflow while calculating."
   ]
  },
  {
   "cell_type": "code",
   "execution_count": 18,
   "id": "c725f453",
   "metadata": {},
   "outputs": [
    {
     "data": {
      "text/plain": [
       "2"
      ]
     },
     "execution_count": 18,
     "metadata": {},
     "output_type": "execute_result"
    }
   ],
   "source": [
    "class Solution:\n",
    "    def GCD(self, B, C):\n",
    "        while C:\n",
    "            B, C = C, B % C\n",
    "        return B\n",
    "\n",
    "    def LCM(self, B, C):\n",
    "        return B * C // self.GCD(B, C)\n",
    "\n",
    "    def count(self, X, B, C):\n",
    "        return X // B + X // C - X // self.LCM(B, C)\n",
    "\n",
    "    # @param A : integer\n",
    "    # @param B : integer\n",
    "    # @param C : integer\n",
    "    # @return an integer\n",
    "    def solve(self, A, B, C):\n",
    "        low = 1\n",
    "        high = A * min(B, C)\n",
    "        while low <= high:\n",
    "            mid = (low + high) // 2\n",
    "            if self.count(mid, B, C) >= A:\n",
    "                high = mid - 1\n",
    "            else:\n",
    "                low = mid + 1\n",
    "        return low % (pow(10, 9) + 7)\n",
    "\n",
    "\n",
    "Solution().solve(1, 2, 3)"
   ]
  },
  {
   "cell_type": "markdown",
   "id": "e8d96d9b",
   "metadata": {},
   "source": [
    "### Problem 3: Remove Duplicates from Sorted List\n",
    "Given a sorted linked list, delete all duplicates such that each element appears only once."
   ]
  },
  {
   "cell_type": "code",
   "execution_count": 20,
   "id": "79500607",
   "metadata": {},
   "outputs": [],
   "source": [
    "# Cell 1: Class Definitions\n",
    "\n",
    "class Node:\n",
    "    \"\"\"A single node in a linked list.\"\"\"\n",
    "    def __init__(self, data):\n",
    "        self.val = data\n",
    "        self.next = None\n",
    "\n",
    "class LinkedList:\n",
    "    \"\"\"The main linked list class.\"\"\"\n",
    "    def __init__(self):\n",
    "        self.head = None\n",
    "\n",
    "    def append(self, data):\n",
    "        \"\"\"Adds a new node to the end of the list.\"\"\"\n",
    "        new_node = Node(data)\n",
    "        if not self.head:\n",
    "            self.head = new_node\n",
    "            return\n",
    "        last_node = self.head\n",
    "        while last_node.next:\n",
    "            last_node = last_node.next\n",
    "        last_node.next = new_node\n",
    "\n",
    "    def display(self):\n",
    "        \"\"\"Prints the contents of the linked list.\"\"\"\n",
    "        nodes = []\n",
    "        current_node = self.head\n",
    "        while current_node:\n",
    "            nodes.append(str(current_node.val))\n",
    "            current_node = current_node.next\n",
    "        print(\" -> \".join(nodes))"
   ]
  },
  {
   "cell_type": "code",
   "execution_count": 33,
   "id": "9d9ba1eb",
   "metadata": {},
   "outputs": [
    {
     "name": "stdout",
     "output_type": "stream",
     "text": [
      "10 -> 20 -> 25\n"
     ]
    }
   ],
   "source": [
    "class Solution:\n",
    "    # @param A : head node of linked list\n",
    "    # @return the head node in the linked list\n",
    "    def deleteDuplicates(self, LL) -> LinkedList:\n",
    "        A = LL.head\n",
    "        head = A\n",
    "        curNode = A\n",
    "        referenceNode = None\n",
    "        while curNode:\n",
    "            referenceNode = curNode\n",
    "            while curNode and curNode.next and curNode.val == curNode.next.val:\n",
    "                curNode = curNode.next\n",
    "            referenceNode.next = curNode.next\n",
    "            curNode = curNode.next\n",
    "        return LL\n",
    "\n",
    "\n",
    "my_list = LinkedList()\n",
    "\n",
    "my_list.append(10)\n",
    "my_list.append(20)\n",
    "my_list.append(20)\n",
    "my_list.append(20)\n",
    "my_list.append(25)\n",
    "\n",
    "new_list = Solution().deleteDuplicates(my_list)\n",
    "new_list.display()"
   ]
  },
  {
   "cell_type": "markdown",
   "id": "74fa1fa0",
   "metadata": {},
   "source": [
    "### Problem 4: Remove Nth Node from List End\n",
    "Given a linked list A, remove the B-th node from the end of the list and return its head.\n",
    "For example, given linked list: 1->2->3->4->5, and B = 2.\n",
    "After removing the second node from the end, the linked list becomes 1->2->3->5.\n",
    "\n",
    "NOTE: If B is greater than the size of the list, remove the first node of the list.\n",
    "\n",
    "Try doing it using constant additional space."
   ]
  },
  {
   "cell_type": "code",
   "execution_count": 66,
   "id": "e8ea2867",
   "metadata": {},
   "outputs": [
    {
     "name": "stdout",
     "output_type": "stream",
     "text": [
      "Number of elements:  5\n",
      "Node to be removed:  0\n",
      "Removing\n",
      "2\n",
      "1 -> 2 -> 3 -> 4 -> 5\n"
     ]
    }
   ],
   "source": [
    "class Solution:\n",
    "    # @param A : head node of linked list\n",
    "    # @return the head node in the linked list\n",
    "    def removeNthFromEnd(self, LL, B) -> LinkedList:\n",
    "        A = LL.head\n",
    "        if A == None:\n",
    "            return LL\n",
    "\n",
    "        curNode = A\n",
    "        number_of_elements = 0\n",
    "        while curNode:\n",
    "            number_of_elements += 1\n",
    "            curNode = curNode.next\n",
    "\n",
    "        B = number_of_elements - B\n",
    "\n",
    "        if B <= 0:\n",
    "            A = A.next\n",
    "            return LL\n",
    "\n",
    "        curNode = A\n",
    "        while curNode and B > 1:\n",
    "            B -= 1\n",
    "            curNode = curNode.next\n",
    "        \n",
    "        if curNode.next != None:\n",
    "            curNode.next = curNode.next.next\n",
    "        \n",
    "        return LL\n",
    "\n",
    "\n",
    "my_list = LinkedList()\n",
    "\n",
    "my_list.append(1)\n",
    "my_list.append(2)\n",
    "my_list.append(3)\n",
    "my_list.append(4)\n",
    "my_list.append(5)\n",
    "\n",
    "new_list = Solution().removeNthFromEnd(my_list, 5)\n",
    "new_list.display()"
   ]
  }
 ],
 "metadata": {
  "kernelspec": {
   "display_name": "venv (3.13.5)",
   "language": "python",
   "name": "python3"
  },
  "language_info": {
   "codemirror_mode": {
    "name": "ipython",
    "version": 3
   },
   "file_extension": ".py",
   "mimetype": "text/x-python",
   "name": "python",
   "nbconvert_exporter": "python",
   "pygments_lexer": "ipython3",
   "version": "3.13.7"
  }
 },
 "nbformat": 4,
 "nbformat_minor": 5
}
