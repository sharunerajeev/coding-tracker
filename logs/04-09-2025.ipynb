{
 "cells": [
  {
   "cell_type": "markdown",
   "id": "f9848115",
   "metadata": {},
   "source": [
    "# 📅 Date: 04-09-2025"
   ]
  },
  {
   "cell_type": "markdown",
   "id": "bfd69e7e",
   "metadata": {},
   "source": [
    "## 🔍 Focus Area\n",
    "- Linked List"
   ]
  },
  {
   "cell_type": "markdown",
   "id": "6da35f66",
   "metadata": {},
   "source": [
    "## ✅ Tasks Completed\n",
    "- Problem 1: Print Linked List ([Link](https://www.scaler.com/academy/mentee-dashboard/class/387872/assignment/problems/30649?navref=cl_tt_nv))\n",
    "- Problem 2: Minimum Difference ([Link](https://www.scaler.com/academy/mentee-dashboard/class/387884/homework/problems/1104))"
   ]
  },
  {
   "cell_type": "markdown",
   "id": "631e9f38",
   "metadata": {},
   "source": [
    "## 🧪 Code Experiments\n"
   ]
  },
  {
   "cell_type": "markdown",
   "id": "86f58ec5",
   "metadata": {},
   "source": [
    "### Problem 1: Print Linked List\n",
    "\n",
    "You are given A which is the head of a linked list. Print the linked list in space separated manner.\n",
    "\n",
    "Note : The last node value must also be succeeded by a space and after printing the entire list you should print a new line"
   ]
  },
  {
   "cell_type": "code",
   "execution_count": 9,
   "id": "d0dd62e5",
   "metadata": {},
   "outputs": [
    {
     "name": "stdout",
     "output_type": "stream",
     "text": [
      "1 2 3 "
     ]
    }
   ],
   "source": [
    "# Definition for singly-linked list.\n",
    "class ListNode:\n",
    "   def __init__(self, x):\n",
    "       self.val = x\n",
    "       self.next = None\n",
    "\n",
    "class Solution:\n",
    "    # @param A : head node of linked list\n",
    "    def solve(self, A):\n",
    "        while A.next != None:\n",
    "            print(A.val, end=\" \")\n",
    "            A = A.next\n",
    "        print(A.val, end=\" \")\n",
    "\n",
    "LL = ListNode(1)\n",
    "LL.next = ListNode(2)\n",
    "LL.next.next = ListNode(3)\n",
    "\n",
    "Solution().solve(LL)            "
   ]
  },
  {
   "cell_type": "markdown",
   "id": "5534dd1b",
   "metadata": {},
   "source": [
    "### Problem 2: Minimum Difference\n",
    "You are given a 2-D matrix C of size A × B.\n",
    "You need to build a new 1-D array of size A by taking one element from each row of the 2-D matrix in such a way that the cost of the newly built array is minimized.\n",
    "\n",
    "The cost of an array is the minimum possible value of the absolute difference between any two adjacent elements of the array.\n",
    "\n",
    "So if the newly built array is X, the element picked from row 1 will become X[1], element picked from row 2 will become X[2], and so on.\n",
    "\n",
    "Determine the minimum cost of the newly built array."
   ]
  },
  {
   "cell_type": "code",
   "execution_count": 20,
   "id": "ce0ccfb6",
   "metadata": {},
   "outputs": [
    {
     "data": {
      "text/plain": [
       "0"
      ]
     },
     "execution_count": 20,
     "metadata": {},
     "output_type": "execute_result"
    }
   ],
   "source": [
    "# Paste your solution here\n",
    "class Solution:\n",
    "    # @param A : integer\n",
    "    def solve(self, A, B, C):\n",
    "\n",
    "        for i in range(A):\n",
    "            C[i].sort()\n",
    "\n",
    "        ans = float(\"inf\")\n",
    "\n",
    "        for i in range(A - 1):\n",
    "            row1 = C[i]\n",
    "            row2 = C[i + 1]\n",
    "\n",
    "            p1 = p2 = 0\n",
    "            while p1 < len(row1) and p2 < len(row2):\n",
    "                ans = min(ans, abs(row1[p1] - row2[p2]))\n",
    "\n",
    "                if row1[p1] < row2[p2]:\n",
    "                    p1 += 1\n",
    "                else:\n",
    "                    p2 += 1\n",
    "\n",
    "        return ans\n",
    "\n",
    "\n",
    "Solution().solve(2, 2, [[8, 4], [6, 8]])"
   ]
  }
 ],
 "metadata": {
  "kernelspec": {
   "display_name": "venv (3.13.5)",
   "language": "python",
   "name": "python3"
  },
  "language_info": {
   "codemirror_mode": {
    "name": "ipython",
    "version": 3
   },
   "file_extension": ".py",
   "mimetype": "text/x-python",
   "name": "python",
   "nbconvert_exporter": "python",
   "pygments_lexer": "ipython3",
   "version": "3.13.5"
  }
 },
 "nbformat": 4,
 "nbformat_minor": 5
}
