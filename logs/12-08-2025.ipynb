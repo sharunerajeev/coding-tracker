{
 "cells": [
  {
   "cell_type": "markdown",
   "id": "3e5a50c2",
   "metadata": {},
   "source": [
    "# 📅 Date: 12-08-2025"
   ]
  },
  {
   "cell_type": "markdown",
   "id": "b156086a",
   "metadata": {},
   "source": [
    "## 🔍 Focus Area\n",
    "- Hashing"
   ]
  },
  {
   "cell_type": "markdown",
   "id": "0c1a76c3",
   "metadata": {},
   "source": [
    "## ✅ Tasks Completed\n",
    "- Problem 1: Common Elements ([Link](https://www.scaler.com/academy/mentee-dashboard/class/387815/homework/problems/10203))\n",
    "- Problem 2: Count unique elements ([Link](https://www.scaler.com/academy/mentee-dashboard/class/387815/homework/problems/27543?navref=cl_tt_nv))\n",
    "- Problem 3: Count Pair Difference ([Link](https://www.scaler.com/academy/mentee-dashboard/class/387815/homework/problems/27741?navref=cl_tt_nv))"
   ]
  },
  {
   "cell_type": "markdown",
   "id": "3492bc15",
   "metadata": {},
   "source": [
    "## 🧪 Code Experiments\n"
   ]
  },
  {
   "cell_type": "markdown",
   "id": "6f03dec8",
   "metadata": {},
   "source": [
    "### Problem 1: Common Elements\n",
    "Given two integer arrays, A and B of size N and M, respectively. Your task is to find all the common elements in both the array.\n",
    "\n",
    "NOTE:\n",
    "Each element in the result should appear as many times as it appears in both arrays.\n",
    "The result can be in any order."
   ]
  },
  {
   "cell_type": "code",
   "execution_count": 4,
   "id": "bcec730d",
   "metadata": {},
   "outputs": [
    {
     "name": "stdout",
     "output_type": "stream",
     "text": [
      "{1: 2, 2: 2} {2: 2, 3: 1, 1: 1}\n"
     ]
    },
    {
     "data": {
      "text/plain": [
       "[1, 2, 2]"
      ]
     },
     "execution_count": 4,
     "metadata": {},
     "output_type": "execute_result"
    }
   ],
   "source": [
    "# Paste your solution here\n",
    "class Solution:\n",
    "    # @param A : integer\n",
    "    def solve(self, A, B):\n",
    "        a_dict = {}\n",
    "        b_dict = {}\n",
    "        for i in A:\n",
    "            if i in a_dict:\n",
    "                a_dict[i] += 1\n",
    "            else:\n",
    "                a_dict[i] = 1\n",
    "        for i in B:\n",
    "            if i in b_dict:\n",
    "                b_dict[i] += 1\n",
    "            else:\n",
    "                b_dict[i] = 1\n",
    "                \n",
    "        com = []\n",
    "        for i in a_dict:\n",
    "            if i in b_dict:\n",
    "                com_count = min(a_dict[i], b_dict[i])\n",
    "                for j in range(com_count):\n",
    "                    com.append(i)\n",
    "        return com\n",
    "\n",
    "\n",
    "Solution().solve([1, 2, 2, 1], [2, 3, 1, 2])"
   ]
  },
  {
   "cell_type": "markdown",
   "id": "7efb7796",
   "metadata": {},
   "source": [
    "### Problem 2: Count unique elements\n",
    "You are given an array A of N integers. Return the count of elements with frequncy 1 in the given array."
   ]
  },
  {
   "cell_type": "code",
   "execution_count": 6,
   "id": "0e4e0d94",
   "metadata": {},
   "outputs": [
    {
     "data": {
      "text/plain": [
       "2"
      ]
     },
     "execution_count": 6,
     "metadata": {},
     "output_type": "execute_result"
    }
   ],
   "source": [
    "# Paste your solution here\n",
    "class Solution:\n",
    "    # @param A : integer\n",
    "    def solve(self, A):\n",
    "        freq = {}\n",
    "        for i in A:\n",
    "            if i in freq:\n",
    "                freq[i] += 1\n",
    "            else:\n",
    "                freq[i] = 1\n",
    "        cnt = 0\n",
    "        for i in freq:\n",
    "            if freq[i] == 1:\n",
    "                cnt += 1\n",
    "        return cnt\n",
    "\n",
    "\n",
    "Solution().solve([3, 3, 3, 9, 0, 1, 0])"
   ]
  },
  {
   "cell_type": "markdown",
   "id": "13e4708a",
   "metadata": {},
   "source": [
    "### Problem 3: Count Pair Difference\n",
    "You are given an array A of N integers and an integer B.\n",
    "Count the number of pairs (i,j) such that A[i] - A[j] = B and i ≠ j.\n",
    "\n",
    "Since the answer can be very large, return the remainder after dividing the count with 109+7."
   ]
  },
  {
   "cell_type": "code",
   "execution_count": 16,
   "id": "c5b0bcbf",
   "metadata": {},
   "outputs": [
    {
     "data": {
      "text/plain": [
       "4"
      ]
     },
     "execution_count": 16,
     "metadata": {},
     "output_type": "execute_result"
    }
   ],
   "source": [
    "# Paste your solution here\n",
    "class Solution:\n",
    "    # @param A : integer\n",
    "    def solve(self, A, B):\n",
    "        cnt = 0\n",
    "        freq = {}\n",
    "        # i - j = B; j = i - B\n",
    "        # j - i = B; j = i + B\n",
    "        for i in A:\n",
    "            if i + B in freq:\n",
    "                cnt += freq[i + B]\n",
    "            if i - B in freq:\n",
    "                cnt += freq[i - B]\n",
    "            freq[i] = freq.get(i, 0) + 1\n",
    "        return cnt\n",
    "\n",
    "\n",
    "Solution().solve([1, 2, 1, 2], 1)"
   ]
  }
 ],
 "metadata": {
  "kernelspec": {
   "display_name": "venv (3.13.5)",
   "language": "python",
   "name": "python3"
  },
  "language_info": {
   "codemirror_mode": {
    "name": "ipython",
    "version": 3
   },
   "file_extension": ".py",
   "mimetype": "text/x-python",
   "name": "python",
   "nbconvert_exporter": "python",
   "pygments_lexer": "ipython3",
   "version": "3.13.5"
  }
 },
 "nbformat": 4,
 "nbformat_minor": 5
}
