{
 "cells": [
  {
   "cell_type": "markdown",
   "id": "5b2ac240",
   "metadata": {},
   "source": [
    "# 📅 Date: 14-07-2025"
   ]
  },
  {
   "cell_type": "markdown",
   "id": "28b1a643",
   "metadata": {},
   "source": [
    "## 🔍 Focus Area\n",
    "- Arrays"
   ]
  },
  {
   "cell_type": "markdown",
   "id": "caf7bacc",
   "metadata": {},
   "source": [
    "## ✅ Tasks Completed\n",
    "- [X] Problem 1: <Name> ([Search Insert Position](https://leetcode.com/problems/search-insert-position/?envType=problem-list-v2&envId=array))\n"
   ]
  },
  {
   "cell_type": "markdown",
   "id": "7723d9fb",
   "metadata": {},
   "source": [
    "## 🧪 Code Experiments"
   ]
  },
  {
   "cell_type": "markdown",
   "id": "592ab492",
   "metadata": {},
   "source": [
    "### Problem 1\n",
    "Given a sorted array of distinct integers and a target value, return the index if the target is found. If not, return the index where it would be if it were inserted in order.\n",
    "\n",
    "You must write an algorithm with O(log n) runtime complexity."
   ]
  },
  {
   "cell_type": "code",
   "execution_count": 44,
   "id": "4212e6e3",
   "metadata": {},
   "outputs": [
    {
     "name": "stdout",
     "output_type": "stream",
     "text": [
      "4\n"
     ]
    }
   ],
   "source": [
    "def searchInsert(nums, target):\n",
    "    n = len(nums)\n",
    "    s, e = 0, n - 1\n",
    "    mid = 0\n",
    "    while s <= e:\n",
    "        mid = s + (e - s) // 2\n",
    "\n",
    "        if nums[mid] == target:\n",
    "            return mid\n",
    "        elif nums[mid] > target:\n",
    "            e = mid - 1\n",
    "        elif nums[mid] < target:\n",
    "            s = mid + 1\n",
    "            \n",
    "    if nums[mid] <= target:\n",
    "        return mid + 1\n",
    "    else:\n",
    "        return mid\n",
    "\n",
    "\n",
    "print(searchInsert([1, 3, 5, 6], 7))"
   ]
  }
 ],
 "metadata": {
  "kernelspec": {
   "display_name": "venv",
   "language": "python",
   "name": "python3"
  },
  "language_info": {
   "codemirror_mode": {
    "name": "ipython",
    "version": 3
   },
   "file_extension": ".py",
   "mimetype": "text/x-python",
   "name": "python",
   "nbconvert_exporter": "python",
   "pygments_lexer": "ipython3",
   "version": "3.13.5"
  }
 },
 "nbformat": 4,
 "nbformat_minor": 5
}
