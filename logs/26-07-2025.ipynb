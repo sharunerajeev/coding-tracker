{
 "cells": [
  {
   "cell_type": "markdown",
   "id": "6a6fece5",
   "metadata": {},
   "source": [
    "# 📅 Date: 26-07-2025"
   ]
  },
  {
   "cell_type": "markdown",
   "id": "ec9be91f",
   "metadata": {},
   "source": [
    "## 🔍 Focus Area\n",
    "- Arrays"
   ]
  },
  {
   "cell_type": "markdown",
   "id": "70aeb38a",
   "metadata": {},
   "source": [
    "## ✅ Tasks Completed\n",
    "- ✅ Problem 1: [Minimum Swaps](https://www.scaler.com/academy/mentee-dashboard/class/387845/homework/problems/4033)\n",
    "- ✅ Problem 2: [Row with maximum number of ones](https://www.scaler.com/academy/mentee-dashboard/class/387845/homework/problems/5784)"
   ]
  },
  {
   "cell_type": "markdown",
   "id": "6e3edfc7",
   "metadata": {},
   "source": [
    "## 🧪 Code Experiments\n"
   ]
  },
  {
   "cell_type": "markdown",
   "id": "1f1636f0",
   "metadata": {},
   "source": [
    "### Problem 1: Minimum Swaps\n",
    "Problem Description\n",
    "\n",
    "Given an array of integers A and an integer B, find and return the minimum number of swaps required to bring all the numbers less than or equal to B together.\n",
    "Note: It is possible to swap any two elements, not necessarily consecutive.\n"
   ]
  },
  {
   "cell_type": "code",
   "execution_count": 52,
   "id": "4fe7b3f6",
   "metadata": {},
   "outputs": [
    {
     "name": "stdout",
     "output_type": "stream",
     "text": [
      "7\n"
     ]
    }
   ],
   "source": [
    "# Paste your solution here\n",
    "def solution(A, B):\n",
    "    elements_less_than_target = 0\n",
    "    for i in A:\n",
    "        if i <= B:\n",
    "            elements_less_than_target += 1\n",
    "    window_size = elements_less_than_target\n",
    "    elements_greater_than_target = 0\n",
    "    for i in range(window_size):\n",
    "        if A[i] > B:\n",
    "            elements_greater_than_target += 1\n",
    "    i, j = 0, window_size if len(A) > window_size else len(A) - 1\n",
    "    min_swap = elements_greater_than_target\n",
    "    while j < len(A):\n",
    "        if A[i] > B:\n",
    "            elements_greater_than_target -= 1\n",
    "        if A[j] > B:\n",
    "            elements_greater_than_target += 1\n",
    "        min_swap = min(elements_greater_than_target, min_swap)\n",
    "        i += 1\n",
    "        j += 1\n",
    "    return min_swap\n",
    "\n",
    "\n",
    "print(\n",
    "    solution(\n",
    "        [\n",
    "            52,\n",
    "            7,\n",
    "            93,\n",
    "            47,\n",
    "            68,\n",
    "            26,\n",
    "            51,\n",
    "            44,\n",
    "            5,\n",
    "            41,\n",
    "            88,\n",
    "            19,\n",
    "            78,\n",
    "            38,\n",
    "            17,\n",
    "            13,\n",
    "            24,\n",
    "            74,\n",
    "            92,\n",
    "            5,\n",
    "            84,\n",
    "            27,\n",
    "            48,\n",
    "            49,\n",
    "            37,\n",
    "            59,\n",
    "            3,\n",
    "            56,\n",
    "            79,\n",
    "            26,\n",
    "            55,\n",
    "            60,\n",
    "            16,\n",
    "            83,\n",
    "            63,\n",
    "            40,\n",
    "            55,\n",
    "            9,\n",
    "            96,\n",
    "            29,\n",
    "            7,\n",
    "            22,\n",
    "            27,\n",
    "            74,\n",
    "            78,\n",
    "            38,\n",
    "            11,\n",
    "            65,\n",
    "            29,\n",
    "            52,\n",
    "            36,\n",
    "            21,\n",
    "            94,\n",
    "            46,\n",
    "            52,\n",
    "            47,\n",
    "            87,\n",
    "            33,\n",
    "            87,\n",
    "            70,\n",
    "        ],\n",
    "        19,\n",
    "    )\n",
    ")"
   ]
  },
  {
   "cell_type": "markdown",
   "id": "5879df54",
   "metadata": {},
   "source": [
    "### Problem 2: Row with maximum number of ones\n",
    "Problem Description\n",
    "\n",
    "Given a binary sorted matrix A of size N x N. Find the row with the maximum number of 1.\n",
    "\n",
    "NOTE:\n",
    "If two rows have the maximum number of 1 then return the row which has a lower index.\n",
    "Rows are numbered from top to bottom and columns are numbered from left to right.\n",
    "Assume 0-based indexing.\n",
    "Assume each row to be sorted by values.\n",
    "Expected time complexity is O(rows + columns).\n"
   ]
  },
  {
   "cell_type": "code",
   "execution_count": 63,
   "id": "d94a485e",
   "metadata": {},
   "outputs": [
    {
     "name": "stdout",
     "output_type": "stream",
     "text": [
      "0\n"
     ]
    }
   ],
   "source": [
    "# Paste your solution here\n",
    "def solution(A):\n",
    "    n = len(A)\n",
    "    i, j = 0, n - 1\n",
    "    no_of_ones = 0\n",
    "    row_index = 0\n",
    "    while i < n and j >= 0:\n",
    "        if A[i][j] == 1:\n",
    "            no_of_ones += 1\n",
    "            j -= 1\n",
    "            row_index = i\n",
    "        elif A[i][j] == 0:\n",
    "            i += 1\n",
    "    return row_index\n",
    "\n",
    "\n",
    "print(solution([[0, 1, 1], [0, 0, 1], [0, 1, 1]]))"
   ]
  }
 ],
 "metadata": {
  "language_info": {
   "name": "python"
  }
 },
 "nbformat": 4,
 "nbformat_minor": 5
}
