{
 "cells": [
  {
   "cell_type": "markdown",
   "id": "d0715208",
   "metadata": {},
   "source": [
    "# 📅 Date: 26-07-2025"
   ]
  },
  {
   "cell_type": "markdown",
   "id": "1250033e",
   "metadata": {},
   "source": [
    "## 🔍 Focus Area\n",
    "- Arrays and Matrix"
   ]
  },
  {
   "cell_type": "markdown",
   "id": "b2482fbe",
   "metadata": {},
   "source": [
    "## ✅ Tasks Completed\n",
    "- Problem 1: <Name> ([Link](#))\n",
    "- Problem 2: Sum of all Submatrices ([Link](https://www.scaler.com/academy/mentee-dashboard/class/387845/assignment/problems/4091?navref=cl_tt_nv))\n",
    "- Problem 3: Search in a row wise and column wise sorted matrix ([Link](https://www.scaler.com/academy/mentee-dashboard/class/387845/assignment/problems/4092?navref=cl_tt_nv))"
   ]
  },
  {
   "cell_type": "markdown",
   "id": "b113ea60",
   "metadata": {},
   "source": [
    "## 🧪 Code Experiments\n"
   ]
  },
  {
   "cell_type": "markdown",
   "id": "4beea35c",
   "metadata": {},
   "source": [
    "### Problem 1: First Missing Integer\n",
    "Given an unsorted integer array, A of size N. Find the first missing positive integer.\n",
    "\n",
    "Note: Your algorithm should run in O(n) time and use constant space."
   ]
  },
  {
   "cell_type": "code",
   "execution_count": 4,
   "id": "96cfb956",
   "metadata": {},
   "outputs": [
    {
     "name": "stdout",
     "output_type": "stream",
     "text": [
      "3\n"
     ]
    }
   ],
   "source": [
    "# Paste your solution here\n",
    "def solution(A):\n",
    "    n = len(A)\n",
    "    for i in range(n):\n",
    "        if A[i] <= 0:\n",
    "            A[i] = n + 1\n",
    "    for i in range(n):\n",
    "        x = abs(A[i])\n",
    "        if x - 1 < n:\n",
    "            A[x - 1] = -1 * abs(A[x - 1])\n",
    "    for i in range(n):\n",
    "        if A[i] > 0:\n",
    "            return i + 1\n",
    "    return n + 1\n",
    "\n",
    "\n",
    "print(solution([1, 2, 0]))"
   ]
  },
  {
   "cell_type": "markdown",
   "id": "eb08508f",
   "metadata": {},
   "source": [
    "### Problem 2: Sum of all Submatrices\n",
    "Given a 2D Matrix A of dimensions N*N, we need to return the sum of all possible submatrices."
   ]
  },
  {
   "cell_type": "code",
   "execution_count": 28,
   "id": "0aab4818",
   "metadata": {},
   "outputs": [
    {
     "name": "stdout",
     "output_type": "stream",
     "text": [
      "40\n"
     ]
    }
   ],
   "source": [
    "# Paste your solution here\n",
    "def solution(A):\n",
    "    sum = 0\n",
    "    n = len(A)\n",
    "    for i in range(n):\n",
    "        for j in range(n):\n",
    "            sum += A[i][j] * (i + 1) * (n - i) * (j + 1) * (n - j)\n",
    "    return sum\n",
    "\n",
    "\n",
    "print(solution([[1, 2], [3, 4]]))"
   ]
  },
  {
   "cell_type": "markdown",
   "id": "96f92c5b",
   "metadata": {},
   "source": [
    "### Problem 3: Search in a row wise and column wise sorted matrix\n",
    "Given a matrix of integers A of size N x M and an integer B.\n",
    "\n",
    "In the given matrix every row and column is sorted in non-decreasing order. Find and return the position of B in the matrix in the given form:\n",
    "If A[i][j] = B then return (i * 1009 + j)\n",
    "If B is not present return -1.\n",
    "\n",
    "Note 1: Rows are numbered from top to bottom and columns are numbered from left to right.\n",
    "Note 2: If there are multiple B in A then return the smallest value of i*1009 +j such that A[i][j]=B.\n",
    "Note 3: Expected time complexity is linear\n",
    "Note 4: Use 1-based indexing"
   ]
  },
  {
   "cell_type": "code",
   "execution_count": null,
   "id": "f8f8f450",
   "metadata": {},
   "outputs": [
    {
     "name": "stdout",
     "output_type": "stream",
     "text": [
      "1011\n"
     ]
    }
   ],
   "source": [
    "# Paste your solution here\n",
    "def solution(A, B):\n",
    "    n, m = len(A), len(A[0])\n",
    "    minSum = float(\"inf\")\n",
    "    i, j = 0, m - 1\n",
    "    while i < n - 1 and j >= 0:\n",
    "        if A[i][j] == B:\n",
    "            minSum = min((i + 1) * 1009 + (j + 1), minSum)\n",
    "            j -= 1\n",
    "        elif A[i][j] < B:\n",
    "            i += 1\n",
    "        else:\n",
    "            j -= 1\n",
    "    if minSum == float(\"inf\"):\n",
    "        return -1\n",
    "    else:\n",
    "        return minSum\n",
    "\n",
    "\n",
    "print(\n",
    "    solution(\n",
    "        [[2, 8, 8, 8], [2, 8, 8, 8], [2, 8, 8, 8]],\n",
    "        8,\n",
    "    )\n",
    ")"
   ]
  }
 ],
 "metadata": {
  "kernelspec": {
   "display_name": "venv (3.13.5)",
   "language": "python",
   "name": "python3"
  },
  "language_info": {
   "codemirror_mode": {
    "name": "ipython",
    "version": 3
   },
   "file_extension": ".py",
   "mimetype": "text/x-python",
   "name": "python",
   "nbconvert_exporter": "python",
   "pygments_lexer": "ipython3",
   "version": "3.13.5"
  }
 },
 "nbformat": 4,
 "nbformat_minor": 5
}
