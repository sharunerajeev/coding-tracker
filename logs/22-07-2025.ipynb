{
 "cells": [
  {
   "cell_type": "markdown",
   "id": "393dee61",
   "metadata": {},
   "source": [
    "# 📅 Date: 22-07-2025"
   ]
  },
  {
   "cell_type": "markdown",
   "id": "bcf4e8ea",
   "metadata": {},
   "source": [
    "## 🔍 Focus Area\n",
    "- Arrays"
   ]
  },
  {
   "cell_type": "markdown",
   "id": "7368b201",
   "metadata": {},
   "source": [
    "## ✅ Tasks Completed\n",
    "- [X] Problem 1: Can Place Flowers ([Link](https://leetcode.com/problems/can-place-flowers/description/?envType=study-plan-v2&envId=leetcode-75))\n",
    "- [X] Problem 2: Reverse Words in a String ([Link](https://leetcode.com/problems/reverse-words-in-a-string/description/?envType=study-plan-v2&envId=leetcode-75))\n"
   ]
  },
  {
   "cell_type": "markdown",
   "id": "695de6cb",
   "metadata": {},
   "source": [
    "## 🧪 Code Experiments\n"
   ]
  },
  {
   "cell_type": "markdown",
   "id": "b5debe74",
   "metadata": {},
   "source": [
    "### Problem 1: Can Place Flowers\n",
    "You have a long flowerbed in which some of the plots are planted, and some are not. However, flowers cannot be planted in adjacent plots.\n",
    "\n",
    "Given an integer array flowerbed containing 0's and 1's, where 0 means empty and 1 means not empty, and an integer n, return true if n new flowers can be planted in the flowerbed without violating the no-adjacent-flowers rule and false otherwise."
   ]
  },
  {
   "cell_type": "code",
   "execution_count": 15,
   "id": "a13753dc",
   "metadata": {},
   "outputs": [
    {
     "name": "stdout",
     "output_type": "stream",
     "text": [
      "False\n"
     ]
    }
   ],
   "source": [
    "# Paste your solution here\n",
    "def solution(flowerbed, n):\n",
    "    count = 0\n",
    "    l = len(flowerbed)\n",
    "    for i in range(l):\n",
    "        if flowerbed[i] == 0:\n",
    "            prev = (i == 0) or (flowerbed[i - 1] == 0)\n",
    "            next = (i == l - 1) or (flowerbed[i + 1] == 0)\n",
    "            if prev and next:\n",
    "                flowerbed[i] = 1\n",
    "                count += 1\n",
    "                if count >= n:\n",
    "                    return True\n",
    "    return count >= n\n",
    "\n",
    "\n",
    "print(solution([1, 0, 0, 0, 0, 1], 2))"
   ]
  },
  {
   "cell_type": "markdown",
   "id": "97df7d83",
   "metadata": {},
   "source": [
    "### Problem 2: Reverse Words in a String\n",
    "Given an input string s, reverse the order of the words.\n",
    "\n",
    "A word is defined as a sequence of non-space characters. The words in s will be separated by at least one space.\n",
    "\n",
    "Return a string of the words in reverse order concatenated by a single space.\n",
    "\n",
    "Note that s may contain leading or trailing spaces or multiple spaces between two words. The returned string should only have a single space separating the words. Do not include any extra spaces."
   ]
  },
  {
   "cell_type": "code",
   "execution_count": 34,
   "id": "c75cef9c",
   "metadata": {},
   "outputs": [
    {
     "name": "stdout",
     "output_type": "stream",
     "text": [
      "example good a\n"
     ]
    }
   ],
   "source": [
    "def solution(s):\n",
    "    s = s.split()\n",
    "    return ' '.join(s[::-1])\n",
    "\n",
    "\n",
    "print(solution(\"a good   example\"))"
   ]
  },
  {
   "cell_type": "markdown",
   "id": "c72467a3",
   "metadata": {},
   "source": [
    "### Problem 3: Product of Array Except Self\n",
    "Given an integer array nums, return an array answer such that answer[i] is equal to the product of all the elements of nums except nums[i].\n",
    "\n",
    "The product of any prefix or suffix of nums is guaranteed to fit in a 32-bit integer.\n",
    "\n",
    "You must write an algorithm that runs in O(n) time and without using the division operation."
   ]
  },
  {
   "cell_type": "code",
   "execution_count": null,
   "id": "45526c57",
   "metadata": {},
   "outputs": [
    {
     "name": "stdout",
     "output_type": "stream",
     "text": [
      "[1, -1, -1, 0, 0]\n",
      "[0, 0, 9, 0, 0]\n"
     ]
    }
   ],
   "source": [
    "def solution(nums):\n",
    "    res = []\n",
    "    n = len(nums)\n",
    "\n",
    "    prefix = 1\n",
    "    for i in range(n):\n",
    "        res.append(prefix)\n",
    "        prefix *= nums[i]\n",
    "\n",
    "    suffix = 1\n",
    "    for i in range(n - 1, -1, -1):\n",
    "        res[i] *= suffix\n",
    "        suffix *= nums[i]\n",
    "\n",
    "    return res\n",
    "\n",
    "\n",
    "print(solution([-1, 1, 0, -3, 3]))"
   ]
  }
 ],
 "metadata": {
  "kernelspec": {
   "display_name": "venv",
   "language": "python",
   "name": "python3"
  },
  "language_info": {
   "codemirror_mode": {
    "name": "ipython",
    "version": 3
   },
   "file_extension": ".py",
   "mimetype": "text/x-python",
   "name": "python",
   "nbconvert_exporter": "python",
   "pygments_lexer": "ipython3",
   "version": "3.13.5"
  }
 },
 "nbformat": 4,
 "nbformat_minor": 5
}
