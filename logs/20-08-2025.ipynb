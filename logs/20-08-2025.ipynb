{
 "cells": [
  {
   "cell_type": "markdown",
   "id": "bae4fa50",
   "metadata": {},
   "source": [
    "# 📅 Date: 20-08-2025\n"
   ]
  },
  {
   "cell_type": "markdown",
   "id": "8f6acfc0",
   "metadata": {},
   "source": [
    "## 🔍 Focus Area\n",
    "\n",
    "- Sort\n"
   ]
  },
  {
   "cell_type": "markdown",
   "id": "666b8d73",
   "metadata": {},
   "source": [
    "## ✅ Tasks Completed\n",
    "\n",
    "- Problem 1: Quick Sort ([Link](https://www.scaler.com/academy/mentee-dashboard/class/387821/assignment/problems/66911/?navref=cl_pb_nv_tb))\n",
    "- Problem 2: Factors sort ([Link](https://www.scaler.com/academy/mentee-dashboard/class/387821/assignment/problems/27473?navref=cl_tt_lst_sl))\n",
    "- Problem 3: Largest Number ([Link](https://www.scaler.com/academy/mentee-dashboard/class/387821/assignment/problems/64?navref=cl_tt_lst_sl))\n",
    "- Problem 4: Partition Index ([Link](https://www.scaler.com/academy/mentee-dashboard/class/387821/assignment/problems/88621?navref=cl_tt_lst_nm))\n"
   ]
  },
  {
   "cell_type": "markdown",
   "id": "68fe0efb",
   "metadata": {},
   "source": [
    "## 🧪 Code Experiments\n"
   ]
  },
  {
   "cell_type": "markdown",
   "id": "e1446c2e",
   "metadata": {},
   "source": [
    "### Problem 1: Quick Sort (In Place)\n",
    "\n",
    "Given an integer array A, sort the array using Quick Sort."
   ]
  },
  {
   "cell_type": "code",
   "execution_count": 9,
   "id": "350f5df4",
   "metadata": {},
   "outputs": [
    {
     "data": {
      "text/plain": [
       "[3, 5, 9, 30, 34]"
      ]
     },
     "execution_count": 9,
     "metadata": {},
     "output_type": "execute_result"
    }
   ],
   "source": [
    "# Paste your solution here\n",
    "class Solution:\n",
    "    def quick_sort(self, A, start, end):\n",
    "        if start >= end:\n",
    "            return\n",
    "\n",
    "        pivot = A[start]\n",
    "        left, right = start + 1, end\n",
    "\n",
    "        while left <= right:\n",
    "            if A[left] <= pivot:\n",
    "                left += 1\n",
    "            elif A[right] > pivot:\n",
    "                right -= 1\n",
    "            else:\n",
    "                A[left], A[right] = A[right], A[left]\n",
    "\n",
    "        A[start], A[right] = A[right], A[start]\n",
    "\n",
    "        self.quick_sort(A, start, right - 1)\n",
    "        self.quick_sort(A, right + 1, end)\n",
    "\n",
    "    # @param A : integer\n",
    "    def solve(self, A):\n",
    "        self.quick_sort(A, 0, len(A) - 1)\n",
    "        return A\n",
    "\n",
    "\n",
    "Solution().solve([3, 30, 34, 5, 9])"
   ]
  },
  {
   "cell_type": "markdown",
   "id": "b3d30fe6",
   "metadata": {},
   "source": [
    "### Problem 2: Factors sort\n",
    "You are given an array A of N elements. Sort the given array in increasing order of number of distinct factors of each element, i.e., element having the least number of factors should be the first to be displayed and the number having highest number of factors should be the last one. If 2 elements have same number of factors, then number with less value should come first."
   ]
  },
  {
   "cell_type": "code",
   "execution_count": 12,
   "id": "c3f4d020",
   "metadata": {},
   "outputs": [
    {
     "data": {
      "text/plain": [
       "[9, 6, 8]"
      ]
     },
     "execution_count": 12,
     "metadata": {},
     "output_type": "execute_result"
    }
   ],
   "source": [
    "# Paste your solution here\n",
    "class Solution:\n",
    "    def count_factors(self, N):\n",
    "        cnt = 0\n",
    "        i = 1\n",
    "        while i * i <= N:\n",
    "            if N % i == 0:\n",
    "                if i * i == N:\n",
    "                    cnt += 1\n",
    "                else:\n",
    "                    cnt += 2\n",
    "            i += 1\n",
    "        return cnt\n",
    "\n",
    "    # @param A : integer\n",
    "    def solve(self, A):\n",
    "        return sorted(A, key=lambda x: (self.count_factors(x), x))\n",
    "\n",
    "\n",
    "Solution().solve([6, 8, 9])"
   ]
  },
  {
   "cell_type": "markdown",
   "id": "c9fd4b92",
   "metadata": {},
   "source": [
    "### Problem 3: Largest Number\n",
    "Given an array A of non-negative integers, arrange them such that they form the largest number.\n",
    "\n",
    "Note: The result may be very large, so you need to return a string instead of an integer."
   ]
  },
  {
   "cell_type": "code",
   "execution_count": 16,
   "id": "eceea846",
   "metadata": {},
   "outputs": [
    {
     "data": {
      "text/plain": [
       "'9534330'"
      ]
     },
     "execution_count": 16,
     "metadata": {},
     "output_type": "execute_result"
    }
   ],
   "source": [
    "from functools import cmp_to_key\n",
    "\n",
    "\n",
    "class Solution:\n",
    "    def compare(self, x, y):\n",
    "        if x + y == y + x:\n",
    "            return 0  # equal\n",
    "        elif x + y > y + x:\n",
    "            return -1  # x should come before y\n",
    "        else:\n",
    "            return 1  # y should come before x\n",
    "\n",
    "    # @param A : integer\n",
    "    def solve(self, A):\n",
    "        A = list(map(str, A))\n",
    "        A.sort(key=cmp_to_key(self.compare))\n",
    "        return str(int(\"\".join(A)))\n",
    "\n",
    "\n",
    "Solution().solve([3, 30, 34, 5, 9])"
   ]
  },
  {
   "cell_type": "markdown",
   "id": "9d652d58",
   "metadata": {},
   "source": [
    "### Problem 4: Partition Index\n",
    "Given an integer array A of length N, considering the last element as pivot p, rearrange the elements such that for all i:\n",
    "\n",
    "if A[i] < p then it should be present on left side of the partition\n",
    "if A[i] > p then it should be present on right side of the partition\n",
    "Rearrange the given array as well as return the partition index.\n",
    "\n",
    "Note: All elements are distinct"
   ]
  },
  {
   "cell_type": "code",
   "execution_count": 19,
   "id": "98d8b8cb",
   "metadata": {},
   "outputs": [
    {
     "data": {
      "text/plain": [
       "3"
      ]
     },
     "execution_count": 19,
     "metadata": {},
     "output_type": "execute_result"
    }
   ],
   "source": [
    "# Paste your solution here\n",
    "class Solution:\n",
    "    # @param A : integer\n",
    "    def solve(self, A):\n",
    "        n = len(A)\n",
    "        pivot = A[n - 1]\n",
    "        i = -1\n",
    "        for j in range(n - 1):\n",
    "            if A[j] < pivot:\n",
    "                i += 1\n",
    "                A[i], A[j] = A[j], A[i]\n",
    "        # A[i + 1], A[n - 1] = A[n - 1], A[i + 1]\n",
    "        return i + 1\n",
    "\n",
    "\n",
    "Solution().solve([6, 2, 0, 4, 5])"
   ]
  }
 ],
 "metadata": {
  "kernelspec": {
   "display_name": "venv (3.13.5)",
   "language": "python",
   "name": "python3"
  },
  "language_info": {
   "codemirror_mode": {
    "name": "ipython",
    "version": 3
   },
   "file_extension": ".py",
   "mimetype": "text/x-python",
   "name": "python",
   "nbconvert_exporter": "python",
   "pygments_lexer": "ipython3",
   "version": "3.13.7"
  }
 },
 "nbformat": 4,
 "nbformat_minor": 5
}
