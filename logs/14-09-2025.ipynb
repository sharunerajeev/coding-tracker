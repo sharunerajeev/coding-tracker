{
 "cells": [
  {
   "cell_type": "markdown",
   "id": "ed62b36a",
   "metadata": {},
   "source": [
    "# 📅 Date: 14-09-2025"
   ]
  },
  {
   "cell_type": "markdown",
   "id": "ec53e592",
   "metadata": {},
   "source": [
    "## 🔍 Focus Area\n",
    "- Stacks"
   ]
  },
  {
   "cell_type": "markdown",
   "id": "4e558454",
   "metadata": {},
   "source": [
    "## ✅ Tasks Completed\n",
    "- Problem 1: Sort stack using another stack ([Link](https://www.scaler.com/academy/mentee-dashboard/class/387857/homework/problems/4347))\n",
    "- Problem 2: N integers containing only 1, 2 & 3 ([Link](https://www.scaler.com/academy/mentee-dashboard/class/387875/homework/problems/4364))\n",
    "- Problem 3: Unique Letter ([Link](https://www.scaler.com/academy/mentee-dashboard/class/387875/homework/problems/4365?navref=cl_tt_nv))"
   ]
  },
  {
   "cell_type": "markdown",
   "id": "d1a4fcb7",
   "metadata": {},
   "source": [
    "## 🧪 Code Experiments\n"
   ]
  },
  {
   "cell_type": "markdown",
   "id": "c46f4223",
   "metadata": {},
   "source": [
    "### Problem 1: Sort stack using another stack\n",
    "Given a stack of integers A, sort it using another stack.\n",
    "\n",
    "Return the array of integers after sorting the stack using another stack."
   ]
  },
  {
   "cell_type": "code",
   "execution_count": 4,
   "id": "e51ab4af",
   "metadata": {},
   "outputs": [
    {
     "data": {
      "text/plain": [
       "[5, 11, 17, 100]"
      ]
     },
     "execution_count": 4,
     "metadata": {},
     "output_type": "execute_result"
    }
   ],
   "source": [
    "# Paste your solution here\n",
    "class Solution:\n",
    "    # @param A : integer\n",
    "    def solve(self, A):\n",
    "        temp_stack = []\n",
    "        while A:\n",
    "            current_item = A.pop()\n",
    "            while temp_stack and temp_stack[-1] > current_item:\n",
    "                A.append(temp_stack.pop())\n",
    "            temp_stack.append(current_item)\n",
    "        return temp_stack\n",
    "\n",
    "\n",
    "Solution().solve([5, 17, 100, 11])"
   ]
  },
  {
   "cell_type": "markdown",
   "id": "b8757c97",
   "metadata": {},
   "source": [
    "### Problem 2: N integers containing only 1, 2 & 3\n",
    "Given an integer, A. Find and Return first positive A integers in ascending order containing only digits 1, 2, and 3.\n",
    "\n",
    "NOTE: All the A integers will fit in 32-bit integers."
   ]
  },
  {
   "cell_type": "code",
   "execution_count": 14,
   "id": "41ca27e5",
   "metadata": {},
   "outputs": [
    {
     "data": {
      "text/plain": [
       "[1, 2, 3, 11, 12, 13, 21]"
      ]
     },
     "execution_count": 14,
     "metadata": {},
     "output_type": "execute_result"
    }
   ],
   "source": [
    "from collections import deque\n",
    "\n",
    "\n",
    "class Solution:\n",
    "    # @param A : integer\n",
    "    def solve(self, A):\n",
    "        dq = deque()\n",
    "        if A == 0:\n",
    "            return []\n",
    "        elif A == 1:\n",
    "            return [1]\n",
    "        elif A == 2:\n",
    "            return [1, 2]\n",
    "        elif A == 3:\n",
    "            return [1, 2, 3]\n",
    "        else:\n",
    "            result = []\n",
    "            for i in range(3):\n",
    "                dq.append(i + 1)\n",
    "            while len(dq) < A:\n",
    "                current_num = dq.popleft()\n",
    "                for i in range(3):\n",
    "                    dq.append(current_num * 10 + (i + 1))\n",
    "                result.append(current_num)\n",
    "            while len(result) < A:\n",
    "                result.append(dq.popleft())\n",
    "            return result\n",
    "\n",
    "\n",
    "Solution().solve(7)"
   ]
  },
  {
   "cell_type": "markdown",
   "id": "5797e70a",
   "metadata": {},
   "source": [
    "### Problem 3: Unique Letter\n",
    "\n",
    "Imagine you're a teacher. You ask students to call out a letter one by one. After each letter, you jot down the very first letter that's only been called out once. If all letters have been repeated, you write \"#\".\n",
    "\n",
    "Here's a scenario:\n",
    "\n",
    "A student says \"a\". It's the first letter. You write \"a\".\n",
    "Next, a student says \"b\", \"a\" is still unique, so you add \"a\". Now it's \"aa\".\n",
    "A student says \"a\" again. Now, \"b\" is the unique one. You add \"b\", making it \"aab\".\n",
    "A student says \"b\". All letters so far are repeated. You add \"#\". It becomes \"aab#\".\n",
    "A student says \"c\". \"c\" is unique. You add \"c\". The final is \"aab#c\".\n",
    "Your task? Given the sequence the students call out A, determine the string on the board."
   ]
  },
  {
   "cell_type": "code",
   "execution_count": 27,
   "id": "d7240d42",
   "metadata": {},
   "outputs": [
    {
     "data": {
      "text/plain": [
       "'aaabc#'"
      ]
     },
     "execution_count": 27,
     "metadata": {},
     "output_type": "execute_result"
    }
   ],
   "source": [
    "from collections import deque\n",
    "\n",
    "\n",
    "class Solution:\n",
    "    # @param A : integer\n",
    "    def solve(self, A):\n",
    "        dq = deque()\n",
    "        char_map = {}\n",
    "        res = \"\"\n",
    "        for ch in A:\n",
    "            char_map[ch] = char_map.get(ch, 0) + 1\n",
    "            if char_map[ch] == 1:\n",
    "                dq.append(ch)\n",
    "            while dq and char_map[dq[0]] > 1:\n",
    "                dq.popleft()\n",
    "            if dq:\n",
    "                res += dq[0]\n",
    "            else:\n",
    "                res += \"#\"\n",
    "        return res\n",
    "\n",
    "\n",
    "Solution().solve(\"abcabc\")"
   ]
  }
 ],
 "metadata": {
  "kernelspec": {
   "display_name": "venv (3.13.5)",
   "language": "python",
   "name": "python3"
  },
  "language_info": {
   "codemirror_mode": {
    "name": "ipython",
    "version": 3
   },
   "file_extension": ".py",
   "mimetype": "text/x-python",
   "name": "python",
   "nbconvert_exporter": "python",
   "pygments_lexer": "ipython3",
   "version": "3.13.7"
  }
 },
 "nbformat": 4,
 "nbformat_minor": 5
}
